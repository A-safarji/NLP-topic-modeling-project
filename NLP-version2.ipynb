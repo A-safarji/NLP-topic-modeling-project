{
 "cells": [
  {
   "cell_type": "code",
   "execution_count": 1,
   "id": "34e4ee78",
   "metadata": {},
   "outputs": [],
   "source": [
    "import nltk\n",
    "import pandas as pd\n",
    "import numpy as np\n",
    "import re\n",
    "import regex\n",
    "import string\n",
    "from sklearn.feature_extraction.text import CountVectorizer\n",
    "from nltk.stem.porter import PorterStemmer\n",
    "from nltk.stem.lancaster import LancasterStemmer\n",
    "from nltk.tokenize import word_tokenize\n",
    "from nltk.stem import WordNetLemmatizer\n",
    "from sklearn.decomposition import NMF\n",
    "import string\n",
    "import gensim \n",
    "from sklearn.decomposition import TruncatedSVD\n",
    "import matplotlib.pyplot as plt\n",
    "import seaborn as sns\n",
    "from gensim.corpora import Dictionary\n",
    "\n",
    "from gensim.models import CoherenceModel"
   ]
  },
  {
   "cell_type": "code",
   "execution_count": 2,
   "id": "8fe2ccc4",
   "metadata": {},
   "outputs": [],
   "source": [
    "from gensim.models import nmf"
   ]
  },
  {
   "cell_type": "code",
   "execution_count": null,
   "id": "75d9222e",
   "metadata": {},
   "outputs": [],
   "source": []
  },
  {
   "cell_type": "code",
   "execution_count": 3,
   "id": "f5111464",
   "metadata": {},
   "outputs": [],
   "source": [
    "df=pd.read_csv('reddit.csv')"
   ]
  },
  {
   "cell_type": "markdown",
   "id": "2027e67e",
   "metadata": {},
   "source": [
    "### EDA & Data Cleaning "
   ]
  },
  {
   "cell_type": "code",
   "execution_count": 4,
   "id": "75c47409",
   "metadata": {},
   "outputs": [],
   "source": [
    "df.head()\n",
    "df.drop('Unnamed: 0',axis=1,inplace=True)\n"
   ]
  },
  {
   "cell_type": "code",
   "execution_count": 5,
   "id": "8443648b",
   "metadata": {},
   "outputs": [],
   "source": [
    "#remove empty rows\n",
    "df.dropna(inplace=True)\n",
    "df.reset_index(inplace=True)"
   ]
  },
  {
   "cell_type": "code",
   "execution_count": 6,
   "id": "f978b69a",
   "metadata": {},
   "outputs": [
    {
     "data": {
      "text/html": [
       "<div>\n",
       "<style scoped>\n",
       "    .dataframe tbody tr th:only-of-type {\n",
       "        vertical-align: middle;\n",
       "    }\n",
       "\n",
       "    .dataframe tbody tr th {\n",
       "        vertical-align: top;\n",
       "    }\n",
       "\n",
       "    .dataframe thead th {\n",
       "        text-align: right;\n",
       "    }\n",
       "</style>\n",
       "<table border=\"1\" class=\"dataframe\">\n",
       "  <thead>\n",
       "    <tr style=\"text-align: right;\">\n",
       "      <th></th>\n",
       "      <th>index</th>\n",
       "      <th>title</th>\n",
       "      <th>post</th>\n",
       "    </tr>\n",
       "  </thead>\n",
       "  <tbody>\n",
       "  </tbody>\n",
       "</table>\n",
       "</div>"
      ],
      "text/plain": [
       "Empty DataFrame\n",
       "Columns: [index, title, post]\n",
       "Index: []"
      ]
     },
     "execution_count": 6,
     "metadata": {},
     "output_type": "execute_result"
    }
   ],
   "source": [
    "#check for duplicates \n",
    "df[df.duplicated()]"
   ]
  },
  {
   "cell_type": "code",
   "execution_count": 13,
   "id": "a725f3b0",
   "metadata": {},
   "outputs": [],
   "source": [
    "#df.drop('level_0',axis=1,inplace=True)\n",
    "df.drop('index',axis=1,inplace=True)\n"
   ]
  },
  {
   "cell_type": "code",
   "execution_count": 14,
   "id": "ad0b5f1a",
   "metadata": {},
   "outputs": [
    {
     "data": {
      "text/html": [
       "<div>\n",
       "<style scoped>\n",
       "    .dataframe tbody tr th:only-of-type {\n",
       "        vertical-align: middle;\n",
       "    }\n",
       "\n",
       "    .dataframe tbody tr th {\n",
       "        vertical-align: top;\n",
       "    }\n",
       "\n",
       "    .dataframe thead th {\n",
       "        text-align: right;\n",
       "    }\n",
       "</style>\n",
       "<table border=\"1\" class=\"dataframe\">\n",
       "  <thead>\n",
       "    <tr style=\"text-align: right;\">\n",
       "      <th></th>\n",
       "      <th>title</th>\n",
       "      <th>post</th>\n",
       "    </tr>\n",
       "  </thead>\n",
       "  <tbody>\n",
       "    <tr>\n",
       "      <th>0</th>\n",
       "      <td>any good military text-based rpg?</td>\n",
       "      <td>Hey guys\\n\\nI used to play a game from Storm8 ...</td>\n",
       "    </tr>\n",
       "    <tr>\n",
       "      <th>1</th>\n",
       "      <td>FC 6 Defeat Admiral Benitez BROKEN</td>\n",
       "      <td>In one try I fell trough a “floor” into broken...</td>\n",
       "    </tr>\n",
       "    <tr>\n",
       "      <th>2</th>\n",
       "      <td>Games with great sound design</td>\n",
       "      <td>We can all appreciate good sound, right? But w...</td>\n",
       "    </tr>\n",
       "    <tr>\n",
       "      <th>3</th>\n",
       "      <td>I need a game recommendation</td>\n",
       "      <td>Hi all,\\n\\nI'm 72, retired, and bored to tears...</td>\n",
       "    </tr>\n",
       "    <tr>\n",
       "      <th>4</th>\n",
       "      <td>Why did Valve made that terrible card game?</td>\n",
       "      <td>I like Valve since they usually do a good job ...</td>\n",
       "    </tr>\n",
       "  </tbody>\n",
       "</table>\n",
       "</div>"
      ],
      "text/plain": [
       "                                         title  \\\n",
       "0            any good military text-based rpg?   \n",
       "1           FC 6 Defeat Admiral Benitez BROKEN   \n",
       "2                Games with great sound design   \n",
       "3                 I need a game recommendation   \n",
       "4  Why did Valve made that terrible card game?   \n",
       "\n",
       "                                                post  \n",
       "0  Hey guys\\n\\nI used to play a game from Storm8 ...  \n",
       "1  In one try I fell trough a “floor” into broken...  \n",
       "2  We can all appreciate good sound, right? But w...  \n",
       "3  Hi all,\\n\\nI'm 72, retired, and bored to tears...  \n",
       "4  I like Valve since they usually do a good job ...  "
      ]
     },
     "execution_count": 14,
     "metadata": {},
     "output_type": "execute_result"
    }
   ],
   "source": [
    "df.head()"
   ]
  },
  {
   "cell_type": "code",
   "execution_count": 43,
   "id": "b2740533",
   "metadata": {},
   "outputs": [
    {
     "data": {
      "text/html": [
       "<div>\n",
       "<style scoped>\n",
       "    .dataframe tbody tr th:only-of-type {\n",
       "        vertical-align: middle;\n",
       "    }\n",
       "\n",
       "    .dataframe tbody tr th {\n",
       "        vertical-align: top;\n",
       "    }\n",
       "\n",
       "    .dataframe thead th {\n",
       "        text-align: right;\n",
       "    }\n",
       "</style>\n",
       "<table border=\"1\" class=\"dataframe\">\n",
       "  <thead>\n",
       "    <tr style=\"text-align: right;\">\n",
       "      <th></th>\n",
       "      <th>title</th>\n",
       "      <th>post</th>\n",
       "      <th>token</th>\n",
       "    </tr>\n",
       "  </thead>\n",
       "  <tbody>\n",
       "    <tr>\n",
       "      <th>0</th>\n",
       "      <td>any good military text-based rpg?</td>\n",
       "      <td>hey guy used play game called world war    s b...</td>\n",
       "      <td>[hey, guy, used, play, game, called, world, wa...</td>\n",
       "    </tr>\n",
       "    <tr>\n",
       "      <th>1</th>\n",
       "      <td>FC 6 Defeat Admiral Benitez BROKEN</td>\n",
       "      <td>one try fell trough “ floor ” broken video gam...</td>\n",
       "      <td>[one, try, fell, trough, “, floor, ”, broken, ...</td>\n",
       "    </tr>\n",
       "    <tr>\n",
       "      <th>2</th>\n",
       "      <td>Games with great sound design</td>\n",
       "      <td>appreciate good sound   right   game excellent...</td>\n",
       "      <td>[appreciate, good, sound, right, game, excelle...</td>\n",
       "    </tr>\n",
       "    <tr>\n",
       "      <th>3</th>\n",
       "      <td>I need a game recommendation</td>\n",
       "      <td>hi    m   retired   bored tear   thing reading...</td>\n",
       "      <td>[hi, m, retired, bored, tear, thing, reading, ...</td>\n",
       "    </tr>\n",
       "    <tr>\n",
       "      <th>4</th>\n",
       "      <td>Why did Valve made that terrible card game?</td>\n",
       "      <td>valve since usually good job private corporati...</td>\n",
       "      <td>[valve, since, usually, good, job, private, co...</td>\n",
       "    </tr>\n",
       "  </tbody>\n",
       "</table>\n",
       "</div>"
      ],
      "text/plain": [
       "                                         title  \\\n",
       "0            any good military text-based rpg?   \n",
       "1           FC 6 Defeat Admiral Benitez BROKEN   \n",
       "2                Games with great sound design   \n",
       "3                 I need a game recommendation   \n",
       "4  Why did Valve made that terrible card game?   \n",
       "\n",
       "                                                post  \\\n",
       "0  hey guy used play game called world war    s b...   \n",
       "1  one try fell trough “ floor ” broken video gam...   \n",
       "2  appreciate good sound   right   game excellent...   \n",
       "3  hi    m   retired   bored tear   thing reading...   \n",
       "4  valve since usually good job private corporati...   \n",
       "\n",
       "                                               token  \n",
       "0  [hey, guy, used, play, game, called, world, wa...  \n",
       "1  [one, try, fell, trough, “, floor, ”, broken, ...  \n",
       "2  [appreciate, good, sound, right, game, excelle...  \n",
       "3  [hi, m, retired, bored, tear, thing, reading, ...  \n",
       "4  [valve, since, usually, good, job, private, co...  "
      ]
     },
     "execution_count": 43,
     "metadata": {},
     "output_type": "execute_result"
    }
   ],
   "source": [
    "df.head()"
   ]
  },
  {
   "cell_type": "code",
   "execution_count": 15,
   "id": "482c6f57",
   "metadata": {},
   "outputs": [],
   "source": [
    "#URL link removal\n",
    "removeUrl = lambda x: re.sub('https?:\\/\\/[\\da-z\\.-]+\\.[a-z\\.]{2,6}[^\\s]+', \"\", x)\n",
    "df['post']=df.post.map(removeUrl)"
   ]
  },
  {
   "cell_type": "code",
   "execution_count": 18,
   "id": "dc2b0363",
   "metadata": {},
   "outputs": [
    {
     "name": "stderr",
     "output_type": "stream",
     "text": [
      "[nltk_data] Downloading package punkt to /Users/safarji/nltk_data...\n",
      "[nltk_data]   Unzipping tokenizers/punkt.zip.\n"
     ]
    },
    {
     "data": {
      "text/plain": [
       "True"
      ]
     },
     "execution_count": 18,
     "metadata": {},
     "output_type": "execute_result"
    }
   ],
   "source": [
    "nltk.download('punkt')"
   ]
  },
  {
   "cell_type": "code",
   "execution_count": 16,
   "id": "a80280ac",
   "metadata": {},
   "outputs": [],
   "source": [
    "#text lower and number removal \n",
    "df['post']= df['post'].apply(lambda x: x.lower())\n",
    "remove_num = lambda x: re.sub('\\w*\\d\\w*', ' ', x)\n",
    "df['post']=df.post.map(remove_num)"
   ]
  },
  {
   "cell_type": "code",
   "execution_count": 19,
   "id": "722aa918",
   "metadata": {},
   "outputs": [],
   "source": [
    "# toknize\n",
    "df['post']=df.post.map(word_tokenize)"
   ]
  },
  {
   "cell_type": "code",
   "execution_count": null,
   "id": "4f94d0dc",
   "metadata": {},
   "outputs": [],
   "source": []
  },
  {
   "cell_type": "code",
   "execution_count": null,
   "id": "fbecb239",
   "metadata": {},
   "outputs": [],
   "source": []
  },
  {
   "cell_type": "code",
   "execution_count": 20,
   "id": "99457de6",
   "metadata": {},
   "outputs": [
    {
     "name": "stderr",
     "output_type": "stream",
     "text": [
      "[nltk_data] Downloading package stopwords to\n",
      "[nltk_data]     /Users/safarji/nltk_data...\n",
      "[nltk_data]   Unzipping corpora/stopwords.zip.\n"
     ]
    },
    {
     "data": {
      "text/plain": [
       "True"
      ]
     },
     "execution_count": 20,
     "metadata": {},
     "output_type": "execute_result"
    }
   ],
   "source": [
    "nltk.download('stopwords')"
   ]
  },
  {
   "cell_type": "code",
   "execution_count": 21,
   "id": "5d1222c1",
   "metadata": {},
   "outputs": [],
   "source": [
    "#stop word removal + added words \n",
    "stopwords = nltk.corpus.stopwords.words('english')\n",
    "added_words=['would','make','also','get','still','way','like','much','nbsp','think','could','well','feel']\n",
    "for word in added_words:\n",
    "    stopwords.append(word)\n",
    "def remove_stopwords(text):\n",
    "    output= [i for i in text if i not in stopwords]\n",
    "    return output\n",
    "df['post']=df.post.map(remove_stopwords)"
   ]
  },
  {
   "cell_type": "code",
   "execution_count": 23,
   "id": "cadadea5",
   "metadata": {},
   "outputs": [
    {
     "name": "stderr",
     "output_type": "stream",
     "text": [
      "[nltk_data] Downloading package wordnet to /Users/safarji/nltk_data...\n",
      "[nltk_data]   Unzipping corpora/wordnet.zip.\n"
     ]
    },
    {
     "data": {
      "text/plain": [
       "True"
      ]
     },
     "execution_count": 23,
     "metadata": {},
     "output_type": "execute_result"
    }
   ],
   "source": [
    "nltk.download('wordnet')"
   ]
  },
  {
   "cell_type": "code",
   "execution_count": 24,
   "id": "6f5d076d",
   "metadata": {},
   "outputs": [],
   "source": [
    "\n",
    "#lemmatization\n",
    "wordnet_lemmatizer = WordNetLemmatizer()\n",
    "def lemmatizer(text):\n",
    "    lemm_text = [wordnet_lemmatizer.lemmatize(word) for word in text]\n",
    "    return lemm_text\n",
    "df['post']=df['post'].apply(lambda x:lemmatizer(x))"
   ]
  },
  {
   "cell_type": "code",
   "execution_count": 25,
   "id": "57f3efe1",
   "metadata": {},
   "outputs": [],
   "source": [
    "# remvoe punctuation\n",
    "def listToString(s): \n",
    "    \n",
    "    # initialize an empty string\n",
    "    str1 = \" \" \n",
    "    \n",
    "    # return string  \n",
    "    return (str1.join(s))\n",
    "\n",
    "\n",
    "df['post']=df.post.map(listToString)\n",
    "punc_lower = lambda x: re.sub('[%s]' % re.escape(string.punctuation), ' ', x.lower())\n",
    "df['post']=df.post.map(punc_lower)\n",
    "\n",
    "#removePunc=lambda x:x.translate(str.maketrans('','',string.punctuation))\n",
    "#df['post']=df.post.map(removePunc)\n"
   ]
  },
  {
   "cell_type": "code",
   "execution_count": 26,
   "id": "02697d05",
   "metadata": {},
   "outputs": [],
   "source": [
    "cv1 = CountVectorizer()\n",
    "c= cv1.fit_transform(df.post)"
   ]
  },
  {
   "cell_type": "code",
   "execution_count": 27,
   "id": "062472c8",
   "metadata": {},
   "outputs": [
    {
     "data": {
      "text/html": [
       "<div>\n",
       "<style scoped>\n",
       "    .dataframe tbody tr th:only-of-type {\n",
       "        vertical-align: middle;\n",
       "    }\n",
       "\n",
       "    .dataframe tbody tr th {\n",
       "        vertical-align: top;\n",
       "    }\n",
       "\n",
       "    .dataframe thead th {\n",
       "        text-align: right;\n",
       "    }\n",
       "</style>\n",
       "<table border=\"1\" class=\"dataframe\">\n",
       "  <thead>\n",
       "    <tr style=\"text-align: right;\">\n",
       "      <th></th>\n",
       "      <th>aaa</th>\n",
       "      <th>aaron</th>\n",
       "      <th>aau</th>\n",
       "      <th>ab</th>\n",
       "      <th>aba</th>\n",
       "      <th>abandon</th>\n",
       "      <th>abandoned</th>\n",
       "      <th>abandoning</th>\n",
       "      <th>abdel</th>\n",
       "      <th>abducted</th>\n",
       "      <th>...</th>\n",
       "      <th>zydrunas</th>\n",
       "      <th>álvaro</th>\n",
       "      <th>ďays</th>\n",
       "      <th>šarić</th>\n",
       "      <th>štrba</th>\n",
       "      <th>сhina</th>\n",
       "      <th>细拉</th>\n",
       "      <th>阿姆西</th>\n",
       "      <th>震旦与食人魔实机兵种展示</th>\n",
       "      <th>𝘳𝘦𝘢𝘭𝘭𝘺</th>\n",
       "    </tr>\n",
       "  </thead>\n",
       "  <tbody>\n",
       "    <tr>\n",
       "      <th>0</th>\n",
       "      <td>0</td>\n",
       "      <td>0</td>\n",
       "      <td>0</td>\n",
       "      <td>0</td>\n",
       "      <td>0</td>\n",
       "      <td>0</td>\n",
       "      <td>0</td>\n",
       "      <td>0</td>\n",
       "      <td>0</td>\n",
       "      <td>0</td>\n",
       "      <td>...</td>\n",
       "      <td>0</td>\n",
       "      <td>0</td>\n",
       "      <td>0</td>\n",
       "      <td>0</td>\n",
       "      <td>0</td>\n",
       "      <td>0</td>\n",
       "      <td>0</td>\n",
       "      <td>0</td>\n",
       "      <td>0</td>\n",
       "      <td>0</td>\n",
       "    </tr>\n",
       "    <tr>\n",
       "      <th>1</th>\n",
       "      <td>0</td>\n",
       "      <td>0</td>\n",
       "      <td>0</td>\n",
       "      <td>0</td>\n",
       "      <td>0</td>\n",
       "      <td>0</td>\n",
       "      <td>0</td>\n",
       "      <td>0</td>\n",
       "      <td>0</td>\n",
       "      <td>0</td>\n",
       "      <td>...</td>\n",
       "      <td>0</td>\n",
       "      <td>0</td>\n",
       "      <td>0</td>\n",
       "      <td>0</td>\n",
       "      <td>0</td>\n",
       "      <td>0</td>\n",
       "      <td>0</td>\n",
       "      <td>0</td>\n",
       "      <td>0</td>\n",
       "      <td>0</td>\n",
       "    </tr>\n",
       "    <tr>\n",
       "      <th>2</th>\n",
       "      <td>0</td>\n",
       "      <td>0</td>\n",
       "      <td>0</td>\n",
       "      <td>0</td>\n",
       "      <td>0</td>\n",
       "      <td>0</td>\n",
       "      <td>0</td>\n",
       "      <td>0</td>\n",
       "      <td>0</td>\n",
       "      <td>0</td>\n",
       "      <td>...</td>\n",
       "      <td>0</td>\n",
       "      <td>0</td>\n",
       "      <td>0</td>\n",
       "      <td>0</td>\n",
       "      <td>0</td>\n",
       "      <td>0</td>\n",
       "      <td>0</td>\n",
       "      <td>0</td>\n",
       "      <td>0</td>\n",
       "      <td>0</td>\n",
       "    </tr>\n",
       "    <tr>\n",
       "      <th>3</th>\n",
       "      <td>0</td>\n",
       "      <td>0</td>\n",
       "      <td>0</td>\n",
       "      <td>0</td>\n",
       "      <td>0</td>\n",
       "      <td>0</td>\n",
       "      <td>0</td>\n",
       "      <td>0</td>\n",
       "      <td>0</td>\n",
       "      <td>0</td>\n",
       "      <td>...</td>\n",
       "      <td>0</td>\n",
       "      <td>0</td>\n",
       "      <td>0</td>\n",
       "      <td>0</td>\n",
       "      <td>0</td>\n",
       "      <td>0</td>\n",
       "      <td>0</td>\n",
       "      <td>0</td>\n",
       "      <td>0</td>\n",
       "      <td>0</td>\n",
       "    </tr>\n",
       "    <tr>\n",
       "      <th>4</th>\n",
       "      <td>0</td>\n",
       "      <td>0</td>\n",
       "      <td>0</td>\n",
       "      <td>0</td>\n",
       "      <td>0</td>\n",
       "      <td>0</td>\n",
       "      <td>1</td>\n",
       "      <td>0</td>\n",
       "      <td>0</td>\n",
       "      <td>0</td>\n",
       "      <td>...</td>\n",
       "      <td>0</td>\n",
       "      <td>0</td>\n",
       "      <td>0</td>\n",
       "      <td>0</td>\n",
       "      <td>0</td>\n",
       "      <td>0</td>\n",
       "      <td>0</td>\n",
       "      <td>0</td>\n",
       "      <td>0</td>\n",
       "      <td>0</td>\n",
       "    </tr>\n",
       "  </tbody>\n",
       "</table>\n",
       "<p>5 rows × 10963 columns</p>\n",
       "</div>"
      ],
      "text/plain": [
       "   aaa  aaron  aau  ab  aba  abandon  abandoned  abandoning  abdel  abducted  \\\n",
       "0    0      0    0   0    0        0          0           0      0         0   \n",
       "1    0      0    0   0    0        0          0           0      0         0   \n",
       "2    0      0    0   0    0        0          0           0      0         0   \n",
       "3    0      0    0   0    0        0          0           0      0         0   \n",
       "4    0      0    0   0    0        0          1           0      0         0   \n",
       "\n",
       "   ...  zydrunas  álvaro  ďays  šarić  štrba  сhina  细拉  阿姆西  震旦与食人魔实机兵种展示  \\\n",
       "0  ...         0       0     0      0      0      0   0    0             0   \n",
       "1  ...         0       0     0      0      0      0   0    0             0   \n",
       "2  ...         0       0     0      0      0      0   0    0             0   \n",
       "3  ...         0       0     0      0      0      0   0    0             0   \n",
       "4  ...         0       0     0      0      0      0   0    0             0   \n",
       "\n",
       "   𝘳𝘦𝘢𝘭𝘭𝘺  \n",
       "0       0  \n",
       "1       0  \n",
       "2       0  \n",
       "3       0  \n",
       "4       0  \n",
       "\n",
       "[5 rows x 10963 columns]"
      ]
     },
     "execution_count": 27,
     "metadata": {},
     "output_type": "execute_result"
    }
   ],
   "source": [
    "pd.DataFrame(c.toarray(), columns=cv1.get_feature_names()).head()\n",
    "#pd.DataFrame(c.toarray(),index=nba['post'], columns=cv1.get_feature_names()).head()"
   ]
  },
  {
   "cell_type": "code",
   "execution_count": 42,
   "id": "2716ded1",
   "metadata": {},
   "outputs": [
    {
     "data": {
      "text/plain": [
       "0    hey guy used play game called world war    s b...\n",
       "1    one try fell trough “ floor ” broken video gam...\n",
       "2    appreciate good sound   right   game excellent...\n",
       "3    hi    m   retired   bored tear   thing reading...\n",
       "4    valve since usually good job private corporati...\n",
       "Name: post, dtype: object"
      ]
     },
     "execution_count": 42,
     "metadata": {},
     "output_type": "execute_result"
    }
   ],
   "source": [
    "df.post.head()\n",
    "\n",
    "\n"
   ]
  },
  {
   "cell_type": "code",
   "execution_count": null,
   "id": "f8c4f82b",
   "metadata": {},
   "outputs": [],
   "source": [
    "#LDA"
   ]
  },
  {
   "cell_type": "code",
   "execution_count": 44,
   "id": "e9ce2288",
   "metadata": {},
   "outputs": [
    {
     "name": "stdout",
     "output_type": "stream",
     "text": [
      "Number of unique words in initital documents: 11096\n",
      "Number of unique words after removing rare and common words: 1622\n"
     ]
    }
   ],
   "source": [
    "dictionary = Dictionary(df.token)\n",
    "print('Number of unique words in initital documents:', len(dictionary))\n",
    "\n",
    "# Filter out words that occur less than 10 documents, or more than 20% of the documents.\n",
    "dictionary.filter_extremes(no_below=10, no_above=0.2)\n",
    "print('Number of unique words after removing rare and common words:', len(dictionary))"
   ]
  },
  {
   "cell_type": "code",
   "execution_count": 48,
   "id": "8120f950",
   "metadata": {},
   "outputs": [],
   "source": [
    "corpus = [dictionary.doc2bow(doc) for doc in df.token]"
   ]
  },
  {
   "cell_type": "code",
   "execution_count": 50,
   "id": "019c2b1a",
   "metadata": {},
   "outputs": [
    {
     "name": "stdout",
     "output_type": "stream",
     "text": [
      "Number of unique tokens: 1622\n",
      "Number of documents: 1713\n"
     ]
    }
   ],
   "source": [
    "print('Number of unique tokens: %d' % len(dictionary))\n",
    "print('Number of documents: %d' % len(corpus))"
   ]
  },
  {
   "cell_type": "code",
   "execution_count": 51,
   "id": "28274d12",
   "metadata": {},
   "outputs": [],
   "source": [
    "from gensim.models import LdaModel"
   ]
  },
  {
   "cell_type": "code",
   "execution_count": 56,
   "id": "1b7cd03e",
   "metadata": {},
   "outputs": [
    {
     "name": "stdout",
     "output_type": "stream",
     "text": [
      "CPU times: user 22.6 s, sys: 50.3 ms, total: 22.6 s\n",
      "Wall time: 22.7 s\n"
     ]
    }
   ],
   "source": [
    "# Set training parameters.\n",
    "num_topics = 8\n",
    "chunksize = 500 # size of the doc looked at every pass\n",
    "passes = 20 # number of passes through documents\n",
    "iterations = 400\n",
    "eval_every = 1  # Don't evaluate model perplexity, takes too much time.\n",
    "\n",
    "# Make a index to word dictionary.\n",
    "temp = dictionary[0]  # This is only to \"load\" the dictionary.\n",
    "id2word = dictionary.id2token\n",
    "\n",
    "%time model = LdaModel(corpus=corpus, id2word=id2word, chunksize=chunksize, \\\n",
    "                       alpha='auto', eta='auto', \\\n",
    "                       iterations=iterations, num_topics=num_topics, \\\n",
    "                       passes=passes, eval_every=eval_every)"
   ]
  },
  {
   "cell_type": "markdown",
   "id": "35ee79f1",
   "metadata": {},
   "source": []
  },
  {
   "cell_type": "code",
   "execution_count": 57,
   "id": "277cdbae",
   "metadata": {},
   "outputs": [],
   "source": [
    "import pyLDAvis.gensim\n",
    "pyLDAvis.enable_notebook()\n",
    "\n",
    "import warnings\n",
    "warnings.filterwarnings(\"ignore\", category=DeprecationWarning) "
   ]
  },
  {
   "cell_type": "code",
   "execution_count": 58,
   "id": "a16433ce",
   "metadata": {},
   "outputs": [
    {
     "name": "stderr",
     "output_type": "stream",
     "text": [
      "/Users/safarji/opt/anaconda3/lib/python3.8/site-packages/pyLDAvis/_prepare.py:247: FutureWarning: In a future version of pandas all arguments of DataFrame.drop except for the argument 'labels' will be keyword-only\n",
      "  default_term_info = default_term_info.sort_values(\n"
     ]
    },
    {
     "data": {
      "text/html": [
       "\n",
       "<link rel=\"stylesheet\" type=\"text/css\" href=\"https://cdn.jsdelivr.net/gh/bmabey/pyLDAvis@3.2.2/pyLDAvis/js/ldavis.v1.0.0.css\">\n",
       "\n",
       "\n",
       "<div id=\"ldavis_el719621403004602025761303451516\"></div>\n",
       "<script type=\"text/javascript\">\n",
       "\n",
       "var ldavis_el719621403004602025761303451516_data = {\"mdsDat\": {\"x\": [0.20252051900889506, 0.040647417056731604, 0.13709727614673475, -0.17381365911534707, -0.3716803881549673, 0.21928098085841882, -0.05502746186820077, 0.0009753160677340536], \"y\": [-0.00854527423322536, -0.07090556592272916, -0.08339893278118127, -0.005596537265639105, -0.15154242695250528, -0.10193416442230069, 0.34482038269017135, 0.0771025188874095], \"topics\": [1, 2, 3, 4, 5, 6, 7, 8], \"cluster\": [1, 1, 1, 1, 1, 1, 1, 1], \"Freq\": [30.40428434441499, 13.99369811191526, 13.749135620419588, 13.580188715996874, 12.408948955452697, 11.140825935806532, 3.6141818469411593, 1.1087364690529118]}, \"tinfo\": {\"Term\": [\"a\", \"pf\", \"basketball\", \"ball\", \"pt\", \"nba\", \"shooting\", \"m\", \"shot\", \"know\", \"people\", \"pm\", \"ast\", \"season\", \"stl\", \"blk\", \"pg\", \"link\", \"overwatch\", \"fg\", \"hand\", \"na\", \"ft\", \"since\", \"league\", \"sf\", \"good\", \"min\", \"new\", \"ve\", \"old\", \"training\", \"shooter\", \"almost\", \"weight\", \"lost\", \"sometimes\", \"high\", \"middle\", \"knee\", \"floor\", \"position\", \"moment\", \"whenever\", \"feeling\", \"higher\", \"needed\", \"split\", \"decent\", \"im\", \"train\", \"rookie\", \"control\", \"fix\", \"talent\", \"literally\", \"appreciated\", \"stretch\", \"deep\", \"handle\", \"good\", \"dont\", \"inch\", \"small\", \"forward\", \"super\", \"shot\", \"used\", \"pretty\", \"really\", \"bit\", \"year\", \"go\", \"better\", \"around\", \"even\", \"back\", \"move\", \"start\", \"school\", \"m\", \"defense\", \"shoot\", \"next\", \"tip\", \"got\", \"help\", \"playing\", \"day\", \"need\", \"shooting\", \"one\", \"since\", \"point\", \"great\", \"take\", \"know\", \"ball\", \"first\", \"want\", \"best\", \"pm\", \"overwatch\", \"character\", \"hero\", \"content\", \"gameplay\", \"pc\", \"review\", \"damage\", \"trailer\", \"vertical\", \"ad\", \"central\", \"xbox\", \"skin\", \"mode\", \"stream\", \"event\", \"november\", \"map\", \"matchup\", \"dp\", \"nov\", \"script\", \"developer\", \"nintendo\", \"ow\", \"dive\", \"chat\", \"released\", \"story\", \"enemy\", \"world\", \"series\", \"tank\", \"switch\", \"new\", \"title\", \"fun\", \"support\", \"v\", \"change\", \"release\", \"u\", \"one\", \"experience\", \"second\", \"see\", \"r\", \"fan\", \"\\u201c\", \"\\u201d\", \"court\", \"coach\", \"view\", \"poll\", \"contract\", \"age\", \"rule\", \"money\", \"mid\", \"steph\", \"summer\", \"buy\", \"told\", \"called\", \"pickup\", \"situation\", \"drill\", \"athlete\", \"pay\", \"aau\", \"allow\", \"allowed\", \"shoe\", \"taller\", \"fair\", \"advantage\", \"coaching\", \"outdoor\", \"deal\", \"said\", \"may\", \"league\", \"basketball\", \"nba\", \"system\", \"ball\", \"current\", \"arm\", \"new\", \"going\", \"year\", \"right\", \"need\", \"idea\", \"one\", \"first\", \"hand\", \"school\", \"want\", \"lebron\", \"lakers\", \"foul\", \"simmons\", \"playoff\", \"warrior\", \"trade\", \"knicks\", \"wilt\", \"green\", \"westbrook\", \"jazz\", \"mvp\", \"bench\", \"ben\", \"mitchell\", \"jokic\", \"sun\", \"celtic\", \"rudy\", \"pelican\", \"sixer\", \"jalen\", \"griffin\", \"brooklyn\", \"workout\", \"quarter\", \"averaging\", \"thunder\", \"washington\", \"anthony\", \"magic\", \"season\", \"career\", \"win\", \"all\", \"final\", \"source\", \"minute\", \"curry\", \"point\", \"r\", \"last\", \"league\", \"assist\", \"net\", \"nba\", \"young\", \"star\", \"fan\", \"pf\", \"pt\", \"ast\", \"stl\", \"blk\", \"pg\", \"fg\", \"ft\", \"sf\", \"sg\", \"reb\", \"fgm\", \"a\", \"drb\", \"ftm\", \"rebound\", \"jr\", \"clock\", \"by\", \"oreb\", \"treb\", \"yahoo\", \"location\", \"orb\", \"pacific\", \"broadcast\", \"canadian\", \"longest\", \"johnson\", \"fastbreak\", \"com\", \"min\", \"c\", \"summary\", \"box\", \"stats\", \"center\", \"score\", \"nba\", \"u\", \"lol\", \"queue\", \"noticed\", \"drafted\", \"football\", \"double\", \"straight\", \"motion\", \"kinda\", \"park\", \"stat\", \"nobody\", \"tired\", \"seriously\", \"leave\", \"contact\", \"earlier\", \"notice\", \"guaranteed\", \"as\", \"blizzard\", \"website\", \"ranked\", \"black\", \"triple\", \"bunch\", \"american\", \"comfortable\", \"heart\", \"happening\", \"practice\", \"fucking\", \"open\", \"account\", \"people\", \"guess\", \"issue\", \"went\", \"saying\", \"never\", \"anyone\", \"sport\", \"know\", \"pas\", \"basketball\", \"ve\", \"started\", \"m\", \"guy\", \"always\", \"anything\", \"say\", \"playing\", \"least\", \"want\", \"played\", \"every\", \"work\", \"one\", \"really\", \"lot\", \"got\", \"getting\", \"even\", \"trying\", \"rim\", \"dunk\", \"offense\", \"dribbling\", \"offensive\", \"block\", \"layup\", \"harden\", \"tall\", \"athletic\", \"backboard\", \"midrange\", \"andre\", \"east\", \"dunking\", \"percentage\", \"elbow\", \"jumper\", \"covid\", \"scorer\", \"kyrie\", \"jrue\", \"phi\", \"active\", \"efficient\", \"younger\", \"tor\", \"murray\", \"offensively\", \"shake\", \"jump\", \"basket\", \"award\", \"link\", \"foot\", \"guard\", \"defensive\", \"hoop\", \"touch\", \"shooting\", \"scoring\", \"night\", \"ball\", \"hand\", \"net\", \"away\", \"shot\", \"left\", \"curry\", \"shoot\", \"post\", \"right\", \"na\", \"gon\", \"wan\", \"strength\", \"exercise\", \"cole\", \"morning\", \"giddey\", \"watch\", \"learn\", \"youtube\", \"entertaining\", \"schedule\", \"weekend\", \"save\", \"suggestion\", \"challenge\", \"calling\", \"cassidy\", \"cross\", \"left\", \"together\", \"learning\", \"name\", \"range\", \"fuck\", \"advice\", \"thanks\", \"stuff\", \"ll\", \"life\", \"month\", \"night\", \"hand\", \"use\", \"since\", \"give\", \"improve\"], \"Freq\": [407.0, 351.0, 503.0, 441.0, 308.0, 574.0, 209.0, 428.0, 301.0, 395.0, 291.0, 224.0, 207.0, 321.0, 201.0, 198.0, 185.0, 140.0, 184.0, 168.0, 143.0, 75.0, 166.0, 176.0, 245.0, 152.0, 431.0, 173.0, 384.0, 226.0, 122.2309280927624, 83.0283757383749, 71.91385459733418, 66.67513220698274, 50.077364145631506, 48.99443267483194, 49.63475991870796, 201.99294547586067, 42.31749749684455, 42.06263434196546, 48.27275181564145, 45.10817974493967, 39.265929297095845, 38.241595256843475, 38.17332670254162, 36.97888686912512, 36.40130473479329, 36.109907355825214, 46.87341460160201, 107.16646625796773, 36.50253816534949, 34.533906531829096, 33.90358416229043, 33.698661304523775, 31.194449155802033, 36.693619290935146, 29.483228391532343, 28.816096644752545, 28.18721882926258, 32.652093360950296, 400.411875704357, 47.707449664580814, 56.65719319034471, 62.84344622350176, 59.316415924578756, 59.43904760814217, 253.47377413281365, 76.84875695344154, 148.73722612477692, 244.77208626912787, 64.2429363004035, 385.43775582117985, 201.95334380366825, 200.94942205096126, 121.28036566985458, 225.5009301816364, 172.30871006355085, 75.69226787330464, 142.90412197152722, 159.44231428001254, 272.8465942145901, 117.85785790074152, 115.08963375483222, 94.40398664821893, 101.35274511565727, 155.41430652248349, 133.0400241395049, 214.3472812432764, 122.0901617783018, 134.5794754531258, 136.60043459212486, 238.26583521546698, 121.59826946914495, 185.50774562630497, 110.72099658581796, 112.026119322395, 154.7426169146929, 157.10178004109534, 124.13236885516014, 125.71482558737392, 118.58649402016654, 223.95992988554752, 183.96449617089985, 128.6544505940923, 114.82401709036445, 73.63960374479048, 72.97528114011799, 72.97377083631804, 65.3889501068663, 64.60503207893021, 61.148481384696645, 60.15071465753484, 56.58983105110913, 52.830351875760215, 52.04942631311717, 51.32272628535335, 50.23050459569714, 49.612204043462576, 48.52915205544886, 48.301649647025556, 48.92024569348185, 47.53088814753304, 44.7664974898125, 44.02614844323555, 44.373977974900065, 40.22312373844985, 38.403800993157475, 34.76215600170297, 34.33678737914183, 34.17187111591885, 33.971730065312165, 71.203863636629, 58.10266765866424, 129.45129063124838, 95.7553715892275, 63.62575484735649, 53.772382764242856, 194.7359828720741, 63.02871111754841, 77.73503639832114, 55.969949839307546, 67.94035978648843, 65.1573107793388, 55.92627297910555, 68.31832972876914, 80.5874655725786, 55.74842767108587, 59.677933283539865, 61.571441494831475, 60.5061379216593, 57.91390313559406, 152.29925614615337, 146.07293150719588, 141.88739622541533, 103.56743308165004, 87.86098656235907, 82.21283334592759, 69.34049594869614, 62.235651215989044, 57.44384702114255, 50.84201050435061, 48.75581906798725, 43.21136895629914, 41.27472050304568, 38.580423701265985, 37.032584699892084, 37.338675452994096, 36.6799305476732, 33.19768047727696, 31.70835909684388, 28.31584864155085, 27.888736369821743, 27.741430770942955, 27.347395379376294, 26.685385413854064, 23.801788854995614, 23.629086295256464, 22.656598368006012, 22.392669980157393, 22.041780849896327, 21.261219474805458, 52.514638401507, 86.76368669726402, 93.13256796609893, 162.1027134588738, 288.00409843380004, 278.8896356455417, 48.48246647673463, 178.32218688268642, 48.689895728283474, 38.62232799542372, 123.4294325515008, 83.23174411571604, 107.53202263824654, 66.10255625446597, 59.70338849919043, 46.743279278960166, 71.3170947292402, 59.35003386828333, 51.82291108847833, 55.62055629665759, 56.58060381457352, 111.0305281971209, 89.28134348901571, 83.9541436136096, 78.55556264458043, 78.22884461511508, 69.71683809964641, 67.49872591949864, 67.3271145184161, 63.36615569366861, 59.481307267242194, 58.16128959407, 54.6395689259631, 47.90411502361084, 47.69768246666703, 47.27559543620752, 45.306556935632116, 44.28404393528245, 43.73431119582719, 42.84149675954431, 42.669116106783264, 40.10039357728573, 39.31553837952802, 39.25413935058519, 39.215781457716844, 38.89842645016085, 37.25011127810057, 36.11467304170356, 35.50267188235521, 35.229077736557414, 34.50672765151695, 80.60922793336142, 52.02058103382818, 257.34303497699784, 80.53017253009364, 132.9124338545859, 48.794689981634406, 61.58769133081863, 77.83602556271934, 100.04441255682558, 67.8003727167439, 144.7422592737221, 83.55720064393148, 76.54345515357898, 82.92462996780705, 61.06383548954262, 55.23073656500072, 89.31527249500132, 52.4934705375645, 54.517576534036586, 53.388542659247, 350.54864141010364, 307.82629196887234, 206.92995828435937, 201.0607959850548, 197.681836426147, 184.19497957195458, 167.8845342697571, 165.626482044055, 151.64180092074918, 143.06452650441958, 136.9334753326006, 136.71608169812194, 404.98063353168885, 130.63948291519472, 130.63948291519472, 127.37905254805571, 79.32964403570301, 70.57062042216961, 66.29448164271088, 65.39537254830984, 65.39537254830984, 65.39537254830984, 99.20585569444691, 130.58745950545915, 39.15110540395081, 37.56886255871598, 34.23455004904117, 34.19061838408019, 34.072532148270504, 33.521268258115576, 142.13803732476995, 159.47263007817057, 143.44594277931492, 66.72824990500162, 110.46218598056673, 147.3442047723405, 86.79309009575125, 102.9205051637927, 205.39935204224793, 104.64334181453533, 32.940591134511735, 32.85663593613392, 29.313250832157976, 28.264819076585198, 26.763448222918957, 25.47031859908576, 24.884585177961043, 24.022596472684302, 37.818637228969365, 22.958540976951724, 21.254989440842344, 20.355168057881805, 19.93413925413241, 19.069895114090727, 18.55834458541691, 16.002059468310442, 15.153425065315366, 14.612285958464872, 13.852965278496109, 13.811145447715841, 20.69408260586782, 13.360056627645607, 13.0239464364617, 13.310240085691294, 12.638295097882938, 12.962232849538667, 12.128919719458423, 11.898605849069792, 15.496884090302927, 13.956793695117337, 73.00124627890288, 17.231967836700164, 96.18456149466411, 25.86194273221175, 207.8788964785548, 29.357304626262955, 73.94194181573272, 57.580409362187275, 26.583976855911242, 113.51402273957702, 121.2740178198831, 65.8556704638677, 201.58798107289206, 44.90217365131456, 214.52171945416487, 113.18048725413885, 67.7306761179114, 155.0056504199091, 93.68848976428727, 69.95901579236632, 58.44484954581365, 71.737142308096, 97.51319927939107, 45.05872472264808, 82.61151191410865, 69.05215177701061, 63.738048737724924, 56.9202353913289, 88.24015101485233, 71.29632430478235, 63.31166701057231, 60.06468487001038, 52.890692070602334, 58.80723517859279, 45.202755143705346, 77.30256552051353, 70.76868603577729, 58.33283455041586, 52.82650915382217, 43.87826520849937, 41.070066391494976, 39.018895250466976, 34.37098648458086, 28.3890284642774, 27.188445916470435, 21.239878800728842, 20.255462505049234, 19.518046110234945, 18.446024117410314, 18.113273165854924, 17.77503217005797, 15.516126089330076, 15.016226791691137, 14.559821436781462, 13.84260263853371, 13.19551636926234, 12.91105164089067, 11.802227453878347, 11.320679586119242, 11.163242997468307, 11.003837891188834, 11.006169827456487, 10.51109188376314, 9.189412188425795, 8.725662142819608, 69.79764596880804, 33.743389145529754, 13.813409219253616, 83.39240557523368, 44.37390039410603, 56.80954351944771, 28.338942107434594, 27.18110243716939, 24.70561580706555, 69.28042856161981, 25.622472577733713, 21.57131175401971, 83.50281700337862, 44.67189883259833, 31.4508014253287, 29.634088607930163, 38.091843375576175, 25.187797234652177, 24.50219101242556, 25.867707475408398, 24.569893482101726, 25.162011470811514, 74.5898843232702, 36.55801385686594, 32.88104860759075, 31.34574315254514, 19.27758411412662, 12.42531317239287, 10.48760607724305, 9.499809716747565, 29.125863844778532, 28.006866959880764, 11.090910122968685, 4.651134141310954, 11.25067890508498, 6.204172028454304, 3.6017495761406746, 7.893631763475779, 6.62497502466028, 4.869860398644001, 4.602000929966612, 2.787899470402294, 22.061431763186768, 8.513348231264551, 4.040073178509786, 11.449267576901379, 15.994045774568336, 1.9885373295299225, 11.671923391133612, 15.834645643903146, 6.951155747501707, 12.762175125080748, 12.432506335182792, 13.18521009771348, 5.916876229591148, 12.240166156812856, 8.232719746599265, 9.177719092566289, 7.9079348451795655, 6.028434543864205], \"Total\": [407.0, 351.0, 503.0, 441.0, 308.0, 574.0, 209.0, 428.0, 301.0, 395.0, 291.0, 224.0, 207.0, 321.0, 201.0, 198.0, 185.0, 140.0, 184.0, 168.0, 143.0, 75.0, 166.0, 176.0, 245.0, 152.0, 431.0, 173.0, 384.0, 226.0, 123.1828319434785, 83.98016382248868, 72.8655857514777, 67.78072525673613, 51.03028764146924, 49.953212187534106, 50.607204789496436, 206.3360131369851, 43.26890200859691, 43.01406604805166, 49.37460296540753, 46.16826426492705, 40.221661989742515, 39.19309762109637, 39.12584487884313, 37.93103850292583, 37.353969369626604, 37.06215348433253, 48.13228492208167, 110.07033092601175, 37.50513706319884, 35.48633178250363, 34.859490974993385, 34.65073287056778, 32.1474342931535, 37.82960841344297, 30.434923414913687, 29.769234433642236, 29.139154970249038, 33.75564464244503, 431.38145993308615, 49.64231402705275, 59.89755190575174, 66.79686711050297, 63.091250060480206, 63.26920651362761, 301.29111742068085, 84.17444412180197, 177.3378159411105, 317.02342145177795, 70.62629587177089, 534.8943284122431, 258.5879696502561, 267.01562390374005, 148.60492036712049, 308.5834045426929, 226.50351114148927, 86.43599667223388, 186.57331772083282, 215.90120259517343, 428.67340179928243, 150.2848484833495, 146.52010594450246, 114.28219536372086, 125.24596631826803, 220.59378108514176, 185.4363310118108, 352.4937472655104, 176.38529991545175, 203.136791105849, 209.0033428135285, 496.21253874389, 176.29263149832803, 368.9691006271319, 161.5311253896975, 170.50239427295273, 395.6171710765825, 441.4560520491472, 240.27830879470392, 286.27356949991554, 247.83920317052198, 224.85191000129248, 184.8475544589224, 129.5365241026379, 115.70616309488919, 74.52180324397152, 73.85727058439022, 73.85594169707194, 66.27099657827388, 65.4872913253926, 62.03045337605604, 61.03998963988172, 57.485635618177255, 53.72457409241389, 52.93151020866919, 52.20485896966493, 51.11252938801643, 50.503796644734734, 49.41133159482561, 49.18625848121345, 49.82012357728013, 48.42794649948297, 45.650675371921515, 44.90939338600314, 45.27247695211744, 41.10512408467144, 39.28576117751543, 35.6443597462065, 35.218833874062945, 35.05459199474382, 34.85396522154978, 74.47518226604546, 61.37502998537589, 154.60919339666233, 113.88397824868267, 75.05701252399555, 60.812718692851604, 384.3076852967868, 88.42109681168132, 132.79467750486717, 73.13047304469251, 120.65242629907596, 113.26353756992607, 76.97918988885588, 215.8708767775791, 496.21253874389, 95.2944002441984, 167.44048848120372, 219.37325858566905, 188.58391386232594, 138.08168596877434, 153.26422922503392, 147.03800581914234, 142.85279505470913, 104.53268646470048, 88.82589000126252, 83.17733190657246, 70.30564109329585, 63.200781103669414, 58.409904987391705, 51.80815739654946, 49.721713367558536, 44.17960834594325, 42.240964802819924, 39.54552157529569, 37.997803717174456, 38.32005984568681, 37.645392470762225, 34.164765073992974, 32.676875256540185, 29.280947991893306, 28.853430231081298, 28.706454473124367, 28.31314514055004, 27.650536414911038, 24.766657689194997, 24.59427661135951, 23.621417725468625, 23.35837033421725, 23.007776690232934, 22.226000492899587, 56.28392562187276, 97.65597723427334, 122.14414425694599, 245.84746163301392, 503.7700295684177, 574.2726750527789, 64.87372453840793, 441.4560520491472, 72.76360893813035, 50.11488074897968, 384.3076852967868, 200.00761814877984, 534.8943284122431, 191.45092061465476, 203.136791105849, 89.40210463990343, 496.21253874389, 240.27830879470392, 143.35568507820042, 215.90120259517343, 286.27356949991554, 111.96389693998033, 90.21471801355501, 84.88984293949224, 79.48936162076313, 79.16201532100631, 70.650010459383, 68.43231808838966, 68.26080389576832, 64.29908062847359, 60.41556670062403, 59.11136157255348, 55.572773892556405, 48.83761188707883, 48.63170415994125, 48.21054482479057, 46.240222569767454, 45.217412068633344, 44.668924093953535, 43.774723362713225, 43.602289327277326, 41.03351621509239, 40.24860651939395, 40.188163976748896, 40.14933824426501, 39.832665269919005, 38.19121905416406, 37.04830031726677, 36.43577910543935, 36.16250866916078, 35.44048403187508, 83.09384251620402, 54.249454104842926, 321.0053522937515, 92.90063778991652, 167.51835525342727, 53.8061327691715, 75.56907134687407, 107.89721430607639, 163.1402858203043, 93.12426527841257, 368.9691006271319, 188.58391386232594, 179.75975631337786, 245.84746163301392, 111.76464318856142, 87.50299801006298, 574.2726750527789, 80.23129368515208, 104.82269009218398, 138.08168596877434, 351.4735707084967, 308.7512389537631, 207.85504037488664, 201.98558559047294, 198.60658336969558, 185.1204563643197, 168.80956443512162, 166.55201971720163, 152.56671590893848, 143.98938815313787, 137.85824083035314, 137.64084653944738, 407.75558513896067, 131.56421700652726, 131.56421700652726, 128.30875354040214, 80.25459593332786, 71.49566848053604, 67.21923057950096, 66.32010690861138, 66.32010690861138, 66.32010690861138, 101.08879535567141, 133.39600003204728, 40.07590658207766, 38.493854639955735, 35.16041818376459, 35.11545611696556, 34.99805203506109, 34.447150633213006, 146.8391279899268, 173.7142612500668, 162.32525179789403, 71.64154821004468, 127.46649494273096, 192.1133561480105, 104.45678477239403, 155.51971007922273, 574.2726750527789, 215.8708767775791, 33.8886760108033, 33.80410309156894, 30.261176676606656, 29.213826672113537, 27.711654094125546, 26.418833919026387, 25.83380537048207, 24.97211405791581, 39.323208873906985, 23.906395632437576, 22.205613170170643, 21.30300806115191, 20.882267735315935, 20.018226080024277, 19.506730191765307, 16.95010274724809, 16.101289036598537, 15.565213295062076, 14.802092722371315, 14.758763945588095, 22.151939832129706, 14.308727518546082, 13.972207668443584, 14.3087010748954, 13.586534130729872, 13.935818665722497, 13.088996818807372, 12.846198698506461, 16.73700681752192, 15.12710885167869, 82.65206164689954, 19.055869341022444, 121.90964871314763, 29.56940922144397, 291.86707359797583, 34.07196550042603, 94.7014153179815, 74.2249610117643, 31.28565135587297, 167.335121728332, 184.49538933953284, 95.62715176037408, 395.6171710765825, 63.350176084680164, 503.7700295684177, 226.7596208493282, 116.03241497092041, 428.67340179928243, 210.55582771714495, 152.86397652714385, 119.90733677092106, 185.14919084312297, 352.4937472655104, 83.62548690219542, 286.27356949991554, 213.4016647408654, 183.193144291986, 168.54372080093938, 496.21253874389, 317.02342145177795, 232.10117388755808, 220.59378108514176, 162.07581756822424, 308.5834045426929, 116.1300889400306, 78.26875745476467, 71.73494891753292, 59.2992661204129, 53.794883356674, 44.844996862427166, 42.036340456389134, 39.98528261328664, 35.33845465329321, 29.35566190121647, 28.157749075288947, 22.206159852023976, 21.221604514162575, 20.491300125898643, 19.413284464301505, 19.079306626571217, 18.741304545555522, 16.48229172376361, 15.982793514883618, 15.52672997472602, 14.809260997226609, 14.162203805776018, 13.880643085019223, 12.76991100759333, 12.288678505788392, 12.12952405189151, 11.970573644443654, 11.975266424100845, 11.483735448777788, 10.155939520706266, 9.692975861865433, 81.3412408954994, 39.269035789724825, 15.695193671146214, 140.96656372645052, 71.73298673331146, 103.2468509935978, 43.895850838835166, 43.21436617542361, 38.72121225141405, 209.0033428135285, 42.991330789848114, 33.708618647950345, 441.4560520491472, 143.35568507820042, 87.50299801006298, 90.09030577887181, 301.29111742068085, 82.5515672139237, 93.12426527841257, 146.52010594450246, 139.277274566543, 191.45092061465476, 75.56587559709124, 37.536692913871335, 33.8564249031653, 32.32221681992978, 20.253488088343442, 13.403111095689962, 11.463244289109657, 10.477613813907245, 35.52975026844908, 34.53070818953229, 17.738302021697617, 8.000281024926771, 20.3785075385568, 17.689091820292493, 11.89774297543094, 26.397026487132432, 23.433849282753744, 17.814289326183033, 17.007354032492728, 10.354152579740838, 82.5515672139237, 33.229921803557275, 16.019794241460854, 46.831614845851355, 67.77053263029437, 9.070979474912214, 56.42709980209232, 76.7303579991783, 35.57313297296517, 65.65892144176806, 72.99257370005162, 84.74543389806695, 33.708618647950345, 143.35568507820042, 108.66483742896042, 176.29263149832803, 116.38047438612472, 73.92704887026522], \"Category\": [\"Default\", \"Default\", \"Default\", \"Default\", \"Default\", \"Default\", \"Default\", \"Default\", \"Default\", \"Default\", \"Default\", \"Default\", \"Default\", \"Default\", \"Default\", \"Default\", \"Default\", \"Default\", \"Default\", \"Default\", \"Default\", \"Default\", \"Default\", \"Default\", \"Default\", \"Default\", \"Default\", \"Default\", \"Default\", \"Default\", \"Topic1\", \"Topic1\", \"Topic1\", \"Topic1\", \"Topic1\", \"Topic1\", \"Topic1\", \"Topic1\", \"Topic1\", \"Topic1\", \"Topic1\", \"Topic1\", \"Topic1\", \"Topic1\", \"Topic1\", \"Topic1\", \"Topic1\", \"Topic1\", \"Topic1\", \"Topic1\", \"Topic1\", \"Topic1\", \"Topic1\", \"Topic1\", \"Topic1\", \"Topic1\", \"Topic1\", \"Topic1\", \"Topic1\", \"Topic1\", \"Topic1\", \"Topic1\", \"Topic1\", \"Topic1\", \"Topic1\", \"Topic1\", \"Topic1\", \"Topic1\", \"Topic1\", \"Topic1\", \"Topic1\", \"Topic1\", \"Topic1\", \"Topic1\", \"Topic1\", \"Topic1\", \"Topic1\", \"Topic1\", \"Topic1\", \"Topic1\", \"Topic1\", \"Topic1\", \"Topic1\", \"Topic1\", \"Topic1\", \"Topic1\", \"Topic1\", \"Topic1\", \"Topic1\", \"Topic1\", \"Topic1\", \"Topic1\", \"Topic1\", \"Topic1\", \"Topic1\", \"Topic1\", \"Topic1\", \"Topic1\", \"Topic1\", \"Topic1\", \"Topic1\", \"Topic2\", \"Topic2\", \"Topic2\", \"Topic2\", \"Topic2\", \"Topic2\", \"Topic2\", \"Topic2\", \"Topic2\", \"Topic2\", \"Topic2\", \"Topic2\", \"Topic2\", \"Topic2\", \"Topic2\", \"Topic2\", \"Topic2\", \"Topic2\", \"Topic2\", \"Topic2\", \"Topic2\", \"Topic2\", \"Topic2\", \"Topic2\", \"Topic2\", \"Topic2\", \"Topic2\", \"Topic2\", \"Topic2\", \"Topic2\", \"Topic2\", \"Topic2\", \"Topic2\", \"Topic2\", \"Topic2\", \"Topic2\", \"Topic2\", \"Topic2\", \"Topic2\", \"Topic2\", \"Topic2\", \"Topic2\", \"Topic2\", \"Topic2\", \"Topic2\", \"Topic2\", \"Topic2\", \"Topic2\", \"Topic2\", \"Topic2\", \"Topic3\", \"Topic3\", \"Topic3\", \"Topic3\", \"Topic3\", \"Topic3\", \"Topic3\", \"Topic3\", \"Topic3\", \"Topic3\", \"Topic3\", \"Topic3\", \"Topic3\", \"Topic3\", \"Topic3\", \"Topic3\", \"Topic3\", \"Topic3\", \"Topic3\", \"Topic3\", \"Topic3\", \"Topic3\", \"Topic3\", \"Topic3\", \"Topic3\", \"Topic3\", \"Topic3\", \"Topic3\", \"Topic3\", \"Topic3\", \"Topic3\", \"Topic3\", \"Topic3\", \"Topic3\", \"Topic3\", \"Topic3\", \"Topic3\", \"Topic3\", \"Topic3\", \"Topic3\", \"Topic3\", \"Topic3\", \"Topic3\", \"Topic3\", \"Topic3\", \"Topic3\", \"Topic3\", \"Topic3\", \"Topic3\", \"Topic3\", \"Topic3\", \"Topic4\", \"Topic4\", \"Topic4\", \"Topic4\", \"Topic4\", \"Topic4\", \"Topic4\", \"Topic4\", \"Topic4\", \"Topic4\", \"Topic4\", \"Topic4\", \"Topic4\", \"Topic4\", \"Topic4\", \"Topic4\", \"Topic4\", \"Topic4\", \"Topic4\", \"Topic4\", \"Topic4\", \"Topic4\", \"Topic4\", \"Topic4\", \"Topic4\", \"Topic4\", \"Topic4\", \"Topic4\", \"Topic4\", \"Topic4\", \"Topic4\", \"Topic4\", \"Topic4\", \"Topic4\", \"Topic4\", \"Topic4\", \"Topic4\", \"Topic4\", \"Topic4\", \"Topic4\", \"Topic4\", \"Topic4\", \"Topic4\", \"Topic4\", \"Topic4\", \"Topic4\", \"Topic4\", \"Topic4\", \"Topic4\", \"Topic4\", \"Topic5\", \"Topic5\", \"Topic5\", \"Topic5\", \"Topic5\", \"Topic5\", \"Topic5\", \"Topic5\", \"Topic5\", \"Topic5\", \"Topic5\", \"Topic5\", \"Topic5\", \"Topic5\", \"Topic5\", \"Topic5\", \"Topic5\", \"Topic5\", \"Topic5\", \"Topic5\", \"Topic5\", \"Topic5\", \"Topic5\", \"Topic5\", \"Topic5\", \"Topic5\", \"Topic5\", \"Topic5\", \"Topic5\", \"Topic5\", \"Topic5\", \"Topic5\", \"Topic5\", \"Topic5\", \"Topic5\", \"Topic5\", \"Topic5\", \"Topic5\", \"Topic5\", \"Topic5\", \"Topic6\", \"Topic6\", \"Topic6\", \"Topic6\", \"Topic6\", \"Topic6\", \"Topic6\", \"Topic6\", \"Topic6\", \"Topic6\", \"Topic6\", \"Topic6\", \"Topic6\", \"Topic6\", \"Topic6\", \"Topic6\", \"Topic6\", \"Topic6\", \"Topic6\", \"Topic6\", \"Topic6\", \"Topic6\", \"Topic6\", \"Topic6\", \"Topic6\", \"Topic6\", \"Topic6\", \"Topic6\", \"Topic6\", \"Topic6\", \"Topic6\", \"Topic6\", \"Topic6\", \"Topic6\", \"Topic6\", \"Topic6\", \"Topic6\", \"Topic6\", \"Topic6\", \"Topic6\", \"Topic6\", \"Topic6\", \"Topic6\", \"Topic6\", \"Topic6\", \"Topic6\", \"Topic6\", \"Topic6\", \"Topic6\", \"Topic6\", \"Topic6\", \"Topic6\", \"Topic6\", \"Topic6\", \"Topic6\", \"Topic6\", \"Topic6\", \"Topic6\", \"Topic6\", \"Topic6\", \"Topic6\", \"Topic6\", \"Topic6\", \"Topic6\", \"Topic6\", \"Topic7\", \"Topic7\", \"Topic7\", \"Topic7\", \"Topic7\", \"Topic7\", \"Topic7\", \"Topic7\", \"Topic7\", \"Topic7\", \"Topic7\", \"Topic7\", \"Topic7\", \"Topic7\", \"Topic7\", \"Topic7\", \"Topic7\", \"Topic7\", \"Topic7\", \"Topic7\", \"Topic7\", \"Topic7\", \"Topic7\", \"Topic7\", \"Topic7\", \"Topic7\", \"Topic7\", \"Topic7\", \"Topic7\", \"Topic7\", \"Topic7\", \"Topic7\", \"Topic7\", \"Topic7\", \"Topic7\", \"Topic7\", \"Topic7\", \"Topic7\", \"Topic7\", \"Topic7\", \"Topic7\", \"Topic7\", \"Topic7\", \"Topic7\", \"Topic7\", \"Topic7\", \"Topic7\", \"Topic7\", \"Topic7\", \"Topic7\", \"Topic7\", \"Topic7\", \"Topic8\", \"Topic8\", \"Topic8\", \"Topic8\", \"Topic8\", \"Topic8\", \"Topic8\", \"Topic8\", \"Topic8\", \"Topic8\", \"Topic8\", \"Topic8\", \"Topic8\", \"Topic8\", \"Topic8\", \"Topic8\", \"Topic8\", \"Topic8\", \"Topic8\", \"Topic8\", \"Topic8\", \"Topic8\", \"Topic8\", \"Topic8\", \"Topic8\", \"Topic8\", \"Topic8\", \"Topic8\", \"Topic8\", \"Topic8\", \"Topic8\", \"Topic8\", \"Topic8\", \"Topic8\", \"Topic8\", \"Topic8\", \"Topic8\", \"Topic8\"], \"logprob\": [30.0, 29.0, 28.0, 27.0, 26.0, 25.0, 24.0, 23.0, 22.0, 21.0, 20.0, 19.0, 18.0, 17.0, 16.0, 15.0, 14.0, 13.0, 12.0, 11.0, 10.0, 9.0, 8.0, 7.0, 6.0, 5.0, 4.0, 3.0, 2.0, 1.0, -5.1876, -5.5744, -5.7181, -5.7937, -6.08, -6.1018, -6.0889, -4.6853, -6.2483, -6.2544, -6.1167, -6.1845, -6.3232, -6.3496, -6.3514, -6.3832, -6.3989, -6.407, -6.1461, -5.3192, -6.3962, -6.4516, -6.47, -6.4761, -6.5533, -6.3909, -6.6097, -6.6326, -6.6547, -6.5076, -4.001, -6.1285, -5.9565, -5.8529, -5.9107, -5.9086, -4.4583, -5.6517, -4.9914, -4.4932, -5.8309, -4.0392, -4.6855, -4.6905, -5.1954, -4.5752, -4.8443, -5.6669, -5.0314, -4.9219, -4.3846, -5.2241, -5.2478, -5.446, -5.3749, -4.9474, -5.1029, -4.6259, -5.1888, -5.0914, -5.0765, -4.5202, -5.1928, -4.7704, -5.2865, -5.2748, -4.9518, -4.9366, -5.1722, -5.1595, -5.2179, -3.8061, -4.0028, -4.3604, -4.4742, -4.9184, -4.9274, -4.9275, -5.0372, -5.0493, -5.1043, -5.1207, -5.1817, -5.2505, -5.2654, -5.2794, -5.3009, -5.3133, -5.3354, -5.3401, -5.3274, -5.3562, -5.4161, -5.4328, -5.4249, -5.5231, -5.5694, -5.669, -5.6813, -5.6862, -5.692, -4.952, -5.1554, -4.3543, -4.6558, -5.0645, -5.2328, -3.9459, -5.074, -4.8643, -5.1928, -4.9989, -5.0408, -5.1935, -4.9934, -4.8282, -5.1967, -5.1286, -5.0974, -5.1148, -5.1586, -4.1741, -4.2158, -4.2449, -4.5597, -4.7242, -4.7906, -4.9609, -5.069, -5.1491, -5.2712, -5.3131, -5.4338, -5.4797, -5.5472, -5.5881, -5.5799, -5.5977, -5.6975, -5.7434, -5.8565, -5.8717, -5.877, -5.8913, -5.9158, -6.0302, -6.0375, -6.0795, -6.0912, -6.107, -6.1431, -5.2388, -4.7367, -4.6659, -4.1117, -3.537, -3.5691, -5.3187, -4.0163, -5.3145, -5.5461, -4.3843, -4.7783, -4.5221, -5.0087, -5.1105, -5.3553, -4.9328, -5.1165, -5.2521, -5.1814, -5.1643, -4.4778, -4.6958, -4.7573, -4.8238, -4.8279, -4.9431, -4.9755, -4.978, -5.0386, -5.1019, -5.1244, -5.1868, -5.3184, -5.3227, -5.3316, -5.3741, -5.3969, -5.4094, -5.4301, -5.4341, -5.4962, -5.516, -5.5175, -5.5185, -5.5266, -5.5699, -5.6009, -5.618, -5.6257, -5.6464, -4.798, -5.2359, -3.6372, -4.7989, -4.2979, -5.3, -5.0671, -4.833, -4.582, -4.971, -4.2126, -4.762, -4.8497, -4.7696, -5.0757, -5.1761, -4.6954, -5.2269, -5.189, -5.21, -3.2379, -3.3678, -3.765, -3.7938, -3.8107, -3.8814, -3.9741, -3.9876, -4.0759, -4.1341, -4.1779, -4.1795, -3.0935, -4.2249, -4.2249, -4.2502, -4.7238, -4.8408, -4.9033, -4.9169, -4.9169, -4.9169, -4.5002, -4.2253, -5.4299, -5.4712, -5.5641, -5.5654, -5.5689, -5.5852, -4.1406, -4.0255, -4.1314, -4.8967, -4.3927, -4.1046, -4.6339, -4.4634, -3.7724, -4.4468, -5.4949, -5.4974, -5.6115, -5.648, -5.7025, -5.7521, -5.7753, -5.8106, -5.3568, -5.8559, -5.933, -5.9762, -5.9971, -6.0415, -6.0687, -6.2169, -6.2713, -6.3077, -6.3611, -6.3641, -5.9597, -6.3973, -6.4228, -6.401, -6.4528, -6.4275, -6.494, -6.5132, -6.2489, -6.3536, -4.6991, -6.1428, -4.4233, -5.7368, -3.6526, -5.61, -4.6863, -4.9364, -5.7093, -4.2576, -4.1915, -4.8021, -3.6833, -5.1851, -3.6212, -4.2606, -4.774, -3.9461, -4.4496, -4.7417, -4.9215, -4.7166, -4.4096, -5.1816, -4.5754, -4.7547, -4.8348, -4.9479, -4.5095, -4.7227, -4.8415, -4.8942, -5.0213, -4.9153, -5.1784, -3.5161, -3.6044, -3.7977, -3.8968, -4.0824, -4.1485, -4.1998, -4.3266, -4.5178, -4.561, -4.8079, -4.8554, -4.8925, -4.949, -4.9672, -4.986, -5.1219, -5.1547, -5.1856, -5.2361, -5.2839, -5.3057, -5.3955, -5.4372, -5.4512, -5.4656, -5.4654, -5.5114, -5.6458, -5.6976, -3.6182, -4.345, -5.2382, -3.4403, -4.0712, -3.8241, -4.5196, -4.5613, -4.6568, -3.6257, -4.6204, -4.7925, -3.4389, -4.0645, -4.4154, -4.4749, -4.2238, -4.6375, -4.6651, -4.6108, -4.6623, -4.6385, -2.3702, -3.0833, -3.1893, -3.2371, -3.7232, -4.1624, -4.332, -4.4309, -3.3106, -3.3497, -4.2761, -5.1451, -4.2618, -4.857, -5.4008, -4.6161, -4.7913, -5.0991, -5.1557, -5.6569, -3.5883, -4.5405, -5.2859, -4.2443, -3.91, -5.9948, -4.225, -3.92, -4.7433, -4.1357, -4.1619, -4.1031, -4.9044, -4.1775, -4.5741, -4.4654, -4.6143, -4.8857], \"loglift\": [30.0, 29.0, 28.0, 27.0, 26.0, 25.0, 24.0, 23.0, 22.0, 21.0, 20.0, 19.0, 18.0, 17.0, 16.0, 15.0, 14.0, 13.0, 12.0, 11.0, 10.0, 9.0, 8.0, 7.0, 6.0, 5.0, 4.0, 3.0, 2.0, 1.0, 1.1828, 1.1792, 1.1774, 1.1741, 1.1717, 1.1712, 1.1712, 1.1693, 1.1684, 1.1682, 1.168, 1.1674, 1.1665, 1.166, 1.1659, 1.1652, 1.1648, 1.1646, 1.1641, 1.1639, 1.1635, 1.1634, 1.1628, 1.1627, 1.1605, 1.1601, 1.1588, 1.158, 1.1574, 1.1573, 1.1161, 1.1508, 1.135, 1.1296, 1.1289, 1.1281, 1.0178, 1.0995, 1.0147, 0.9319, 1.0959, 0.8629, 0.9434, 0.9063, 0.9874, 0.8769, 0.9171, 1.0579, 0.9239, 0.8874, 0.7388, 0.9475, 0.9491, 0.9995, 0.9789, 0.8404, 0.8585, 0.6932, 0.8227, 0.7789, 0.7653, 0.457, 0.8192, 0.503, 0.8129, 0.7706, 0.2519, 0.1574, 0.5301, 0.3677, 0.4534, 1.9626, 1.9618, 1.9597, 1.9589, 1.9547, 1.9545, 1.9545, 1.9532, 1.953, 1.9522, 1.9519, 1.9509, 1.9498, 1.9498, 1.9495, 1.9492, 1.9488, 1.9485, 1.9484, 1.9483, 1.9479, 1.947, 1.9467, 1.9465, 1.9449, 1.9439, 1.9415, 1.9412, 1.9411, 1.9409, 1.9216, 1.9118, 1.789, 1.7932, 1.8013, 1.8435, 1.2868, 1.628, 1.4311, 1.6991, 1.3923, 1.4137, 1.6471, 0.8161, 0.1489, 1.4304, 0.9349, 0.696, 0.8298, 1.0977, 1.9779, 1.9776, 1.9774, 1.9749, 1.9733, 1.9725, 1.9704, 1.9688, 1.9675, 1.9654, 1.9646, 1.962, 1.9611, 1.9595, 1.9585, 1.9583, 1.9582, 1.9555, 1.9541, 1.9507, 1.9502, 1.95, 1.9495, 1.9487, 1.9445, 1.9442, 1.9425, 1.942, 1.9413, 1.9398, 1.9149, 1.8659, 1.713, 1.5677, 1.425, 1.2619, 1.693, 1.0777, 1.5824, 1.7237, 0.8484, 1.1075, 0.3799, 0.9208, 0.7597, 1.3357, 0.0443, 0.5858, 0.9667, 0.6279, 0.3629, 1.9882, 1.9862, 1.9855, 1.9847, 1.9847, 1.9833, 1.9828, 1.9828, 1.9819, 1.981, 1.9804, 1.9796, 1.9773, 1.9772, 1.977, 1.9762, 1.9757, 1.9754, 1.975, 1.9749, 1.9736, 1.9731, 1.973, 1.973, 1.9728, 1.9716, 1.971, 1.9706, 1.9704, 1.9699, 1.9662, 1.9546, 1.7755, 1.8537, 1.7652, 1.8988, 1.792, 1.67, 1.5076, 1.6792, 1.0608, 1.1825, 1.1428, 0.9098, 1.3921, 1.5364, 0.1356, 1.5723, 1.3428, 1.0463, 2.0841, 2.0838, 2.0823, 2.0822, 2.0821, 2.0817, 2.0813, 2.0812, 2.0807, 2.0803, 2.08, 2.08, 2.0799, 2.0797, 2.0797, 2.0795, 2.0752, 2.0737, 2.0729, 2.0727, 2.0727, 2.0727, 2.068, 2.0655, 2.0634, 2.0624, 2.0601, 2.0601, 2.06, 2.0595, 2.0542, 2.0012, 1.9631, 2.0157, 1.9436, 1.8214, 1.9015, 1.6739, 1.0586, 1.3626, 2.1662, 2.1661, 2.1627, 2.1615, 2.1597, 2.158, 2.1571, 2.1558, 2.1555, 2.1541, 2.1508, 2.149, 2.1481, 2.146, 2.1447, 2.137, 2.1339, 2.1314, 2.1283, 2.1282, 2.1265, 2.126, 2.1243, 2.1222, 2.1222, 2.1221, 2.1184, 2.1179, 2.1176, 2.114, 2.0704, 2.0939, 1.9575, 2.0606, 1.8552, 2.0456, 1.9471, 1.9406, 2.0317, 1.8065, 1.775, 1.8216, 1.5203, 1.8504, 1.3408, 1.4996, 1.6562, 1.1773, 1.3848, 1.4129, 1.4759, 1.2464, 0.9095, 1.5762, 0.9518, 1.0662, 1.1388, 1.109, 0.4676, 0.7024, 0.8955, 0.8937, 1.0747, 0.5368, 1.251, 3.3079, 3.3067, 3.3039, 3.3021, 3.2985, 3.297, 3.2958, 3.2925, 3.2868, 3.2853, 3.2758, 3.2737, 3.2716, 3.2692, 3.2683, 3.2674, 3.2599, 3.2579, 3.256, 3.2528, 3.2496, 3.2479, 3.2415, 3.2383, 3.2373, 3.2361, 3.2359, 3.2318, 3.2203, 3.2152, 3.1673, 3.1687, 3.1926, 2.7953, 2.84, 2.7229, 2.8827, 2.8567, 2.8709, 2.2161, 2.8028, 2.8739, 1.6551, 2.1543, 2.2971, 2.2084, 1.2522, 2.1332, 1.9851, 1.5861, 1.5854, 1.291, 4.4889, 4.4755, 4.4727, 4.4713, 4.4526, 4.4262, 4.413, 4.404, 4.3032, 4.2925, 4.0323, 3.9596, 3.9079, 3.4542, 3.307, 3.2948, 3.2386, 3.205, 3.1948, 3.1898, 3.1824, 3.1401, 3.1244, 3.0933, 3.058, 2.9843, 2.9262, 2.9239, 2.8693, 2.864, 2.7319, 2.6414, 2.762, 2.0413, 1.9218, 1.5466, 1.813, 1.9954]}, \"token.table\": {\"Topic\": [1, 5, 3, 1, 6, 7, 2, 3, 3, 7, 8, 3, 3, 4, 3, 3, 1, 1, 3, 6, 6, 7, 2, 4, 1, 3, 6, 1, 3, 6, 1, 3, 6, 1, 3, 6, 6, 1, 4, 5, 6, 5, 3, 7, 4, 2, 7, 1, 2, 3, 7, 1, 2, 3, 6, 7, 1, 3, 5, 7, 3, 7, 3, 6, 7, 4, 4, 1, 2, 3, 4, 1, 3, 4, 6, 7, 1, 3, 6, 6, 6, 8, 5, 7, 3, 5, 5, 4, 6, 3, 5, 1, 5, 3, 2, 4, 8, 5, 1, 4, 2, 8, 4, 1, 5, 2, 2, 8, 1, 2, 3, 4, 8, 2, 2, 5, 3, 3, 8, 2, 5, 6, 6, 2, 3, 1, 3, 7, 3, 8, 1, 2, 3, 4, 4, 7, 2, 1, 2, 3, 4, 6, 3, 6, 1, 1, 1, 4, 4, 7, 2, 2, 1, 3, 6, 2, 6, 5, 7, 3, 7, 7, 6, 7, 7, 7, 2, 6, 6, 8, 1, 2, 3, 6, 2, 1, 2, 3, 6, 8, 2, 6, 3, 2, 3, 4, 5, 1, 5, 5, 1, 3, 4, 1, 2, 3, 4, 6, 1, 1, 1, 3, 7, 6, 1, 3, 4, 5, 5, 1, 8, 6, 7, 1, 2, 3, 6, 2, 1, 2, 3, 6, 8, 1, 2, 3, 6, 8, 1, 3, 6, 1, 3, 6, 8, 1, 2, 3, 6, 7, 1, 2, 3, 4, 6, 7, 1, 2, 3, 4, 4, 4, 6, 1, 7, 3, 6, 1, 3, 6, 7, 1, 3, 7, 8, 1, 6, 7, 6, 1, 3, 6, 2, 1, 4, 7, 1, 1, 7, 1, 2, 3, 1, 6, 1, 6, 8, 1, 3, 1, 3, 6, 4, 4, 5, 4, 5, 7, 2, 6, 7, 7, 3, 6, 1, 4, 1, 3, 6, 7, 7, 4, 1, 2, 3, 4, 7, 7, 3, 4, 2, 8, 1, 6, 8, 1, 3, 6, 6, 4, 1, 3, 7, 8, 1, 2, 3, 8, 2, 5, 7, 1, 1, 2, 6, 8, 2, 5, 6, 5, 1, 1, 2, 3, 6, 7, 1, 6, 2, 4, 2, 2, 2, 3, 3, 1, 7, 1, 3, 5, 8, 1, 2, 4, 4, 2, 1, 3, 1, 2, 3, 7, 8, 8, 6, 1, 3, 7, 4, 8, 2, 6, 7, 8, 3, 4, 5, 1, 2, 3, 1, 4, 7, 1, 3, 6, 2, 3, 4, 5, 6, 1, 2, 4, 2, 7, 8, 2, 6, 6, 6, 2, 2, 7, 7, 7, 1, 1, 2, 3, 4, 6, 7, 1, 2, 6, 2, 5, 5, 3, 2, 2, 5, 6, 1, 6, 3, 2, 4, 1, 3, 6, 7, 5, 5, 7, 3, 1, 3, 4, 6, 1, 3, 6, 8, 4, 2, 1, 3, 4, 5, 7, 3, 1, 1, 2, 3, 4, 7, 6, 7, 1, 6, 7, 8, 5, 4, 6, 2, 4, 5, 1, 2, 3, 8, 6, 1, 6, 5, 5, 1, 2, 2, 2, 1, 2, 3, 7, 7, 1, 4, 3, 2, 3, 4, 1, 8, 1, 2, 3, 4, 6, 4, 6, 2, 3, 8, 1, 3, 1, 2, 4, 5, 7, 7, 4, 7, 2, 1, 3, 4, 6, 7, 1, 2, 3, 4, 6, 1, 2, 3, 4, 6, 2, 4, 6, 5, 5, 7, 3, 1, 3, 7, 8, 1, 1, 4, 7, 1, 3, 6, 7, 4, 1, 2, 3, 6, 8, 3, 4, 2, 1, 6, 7, 1, 3, 4, 1, 3, 6, 2, 4, 8, 1, 2, 3, 4, 6, 1, 3, 6, 6, 4, 5, 6, 3, 5, 2, 6, 6, 2, 8, 1, 1, 6, 8, 3, 8, 2, 5, 3, 4, 1, 3, 2, 6, 1, 2, 2, 3, 1, 2, 3, 6, 1, 7, 3, 2, 6, 1, 2, 3, 6, 8, 4, 1, 7, 6, 1, 2, 4, 1, 2, 8, 3, 7, 1, 7, 4, 2, 1, 1, 5, 6, 1, 3, 6, 7, 1, 2, 3, 5, 6, 1, 2, 3, 8, 1, 2, 6, 2, 4, 7, 1, 6, 2, 3, 8, 1, 2, 3, 6, 4, 4, 1, 2, 8, 6, 1, 8, 1, 3, 4, 6, 4, 1, 4, 1, 2, 4, 1, 2, 3, 6, 4, 1, 2, 3, 2, 5, 1, 3, 4, 7, 1, 4, 5, 6, 7, 2, 3, 8, 3, 3], \"Freq\": [0.004904899093701958, 0.9932420664746466, 0.9753903961290041, 0.10145620352213112, 0.879287097191803, 0.8951328651667972, 0.9915520527353499, 0.9418465280419244, 0.6025473596773314, 0.17721981166980336, 0.21266377400376404, 0.9810005338114453, 0.07434096810413814, 0.9106768592756922, 0.9536206545040679, 0.9764729188197512, 0.9884816036745115, 0.484090507660318, 0.052334108936250595, 0.4579234531921927, 0.9168005895423086, 0.9760239651520356, 0.024069172148465545, 0.9748014720128546, 0.30353062046955215, 0.032521137907452015, 0.6558429478002823, 0.4920466219070274, 0.016679546505322964, 0.4837068486543659, 0.9528527344934751, 0.7782119685238207, 0.21949568342979556, 0.8142395265316652, 0.10093878428078494, 0.08075102742462796, 0.9485889232739632, 0.00894737344003211, 0.5457897798419586, 0.3668423110413165, 0.07157898752025688, 0.9958863620851123, 0.9562531926135742, 0.958883465003068, 0.9880398027395468, 0.06371377256964873, 0.8919928159750822, 0.2774993356262207, 0.2663993622011719, 0.11099973425048829, 0.3329992027514649, 0.7593701269052614, 0.004414942598286404, 0.06622413897429605, 0.16776781873488333, 0.9456835463645444, 0.3556412903872053, 0.4032111445154303, 0.04983508527718801, 0.19027941651289967, 0.12732678303520517, 0.8658221246393952, 0.5716894279056874, 0.426782038193482, 0.001985032735783637, 0.9748904554140594, 0.9870104457400118, 0.4801500266207839, 0.18560421197105934, 0.13315084771836863, 0.197708834490911, 0.7527649395994188, 0.014980396807948632, 0.1160980752616019, 0.10486277765564042, 0.011235297605961474, 0.9061780631423515, 0.014159032236599242, 0.07079516118299621, 0.9085380938461624, 0.9479982411987729, 0.04514277339041775, 0.9969458043162323, 0.9753465585934082, 0.1255231816579611, 0.8629718738984826, 0.9871705589223292, 0.979095918782321, 0.9328479590492734, 0.9862052249264939, 0.9818618783792986, 0.11088847730488183, 0.8809473474776723, 0.9655517279721736, 0.11226942390906641, 0.6174818314998652, 0.280673559772666, 0.9669964623941698, 0.12917026497855202, 0.8718992886052261, 0.7055771272282493, 0.2939904696784372, 0.9823020386378244, 0.16274672858294584, 0.832880316865664, 0.9865131719580035, 0.6827730180792482, 0.2987131954096711, 0.08828966686499837, 0.5738828346224895, 0.18540830041649659, 0.10594760023799804, 0.044144833432499184, 0.9958581249083633, 0.9699157247386606, 0.9930671537021718, 0.9949041158061086, 0.9561984322170187, 0.8953145217052509, 0.02724069568347206, 0.9670446967632581, 0.9341284750169058, 0.9439470803560561, 0.9929979788295886, 0.9814290706550381, 0.9753441329476111, 0.9940302529300702, 0.9660759235471077, 0.6760572578094275, 0.2897388247754689, 0.027486267231475087, 0.2473764050832758, 0.6734135471711397, 0.04122940084721263, 0.7302071033441302, 0.26845849387651843, 0.9925589940348677, 0.6916676166238303, 0.02267762677455181, 0.06236347363001748, 0.03401644016182772, 0.18709042089005246, 0.941654289646837, 0.05330118620642473, 0.9764755626308899, 0.9609063827893393, 0.785175626091632, 0.21292898334688326, 0.3417179463059713, 0.6378734997711464, 0.973114688027823, 0.9653925544945269, 0.9669170533396617, 0.020144105277909618, 0.9462946046984849, 0.9857466430316664, 0.9584502678907104, 0.9957114706463136, 0.9852238111308148, 0.9792858022308999, 0.989754660334702, 0.9434305109878524, 0.9316024304578792, 0.9272001362314373, 0.9068781225826112, 0.9707387945895741, 0.9450097216053488, 0.04887981318648356, 0.3749868274192856, 0.6249780456988092, 0.7323789830335241, 0.016203074845874427, 0.06157168441432283, 0.19119628318131826, 0.9916753590411499, 0.442156284357981, 0.10371567163952641, 0.09825695207955133, 0.34935805183840474, 0.9381100142910758, 0.5876525782889255, 0.4092580455940731, 0.9736926152066389, 0.4200412212023256, 0.18829434053897354, 0.38383077109867686, 0.9870192272802419, 0.9712250334189736, 0.9952042738938957, 0.9953440671460582, 0.11909634245323153, 0.05293170775699179, 0.8204414702333728, 0.5160682236445521, 0.07907496975198781, 0.2455485902824885, 0.10404601283156291, 0.0499420861591502, 0.9812202277799293, 0.972159716071629, 0.12546529023613856, 0.2509305804722771, 0.6133858633766774, 0.9743193209720236, 0.935153447481889, 0.04755017529568927, 0.9895176748044344, 0.9966856017829208, 0.9957114706463136, 0.6614500690464925, 0.22048335634883082, 0.8921135895596912, 0.05247726997409948, 0.03765211146972921, 0.5873729389277756, 0.12048675670313345, 0.2560343579941586, 0.9883928748299642, 0.5923153832593794, 0.0802093748163743, 0.0061699519089518685, 0.32700745117444907, 0.8589742053724136, 0.32651525266965653, 0.28355271942364907, 0.21481266623003717, 0.11170258643961933, 0.0687400531936119, 0.7811654976571719, 0.10441321008288931, 0.11214752194088112, 0.5499790508888227, 0.4149841929433844, 0.029998857321208508, 0.9857021790624233, 0.927253572886619, 0.0023181339322165474, 0.03709014291546476, 0.01854507145773238, 0.011590669661082737, 0.7026490014248191, 0.013599658092093273, 0.004533219364031091, 0.004533219364031091, 0.27199316184186545, 0.004533219364031091, 0.6871740646405452, 0.04952605871283208, 0.09905211742566417, 0.1671504481558083, 0.9765695038889802, 0.9713734199733869, 0.9458122079482003, 0.4455341693942065, 0.5520749490319515, 0.11739856921227466, 0.8511396267889914, 0.3941947411282293, 0.056992010765527124, 0.4464374176632958, 0.09973601883967247, 0.2371723171038039, 0.3627341320411118, 0.3139045373432699, 0.08370787662487196, 0.9776142730956806, 0.9254907951856503, 0.9621246976862787, 0.8962175951494832, 0.7172273053198457, 0.0916756706047923, 0.1833513412095846, 0.993896927562017, 0.9789856696799388, 0.009692927422573652, 0.004846463711286826, 0.9754544420698101, 0.347106791734704, 0.6247922251224671, 0.15659586601892242, 0.31319173203784484, 0.5257146930635253, 0.9721057354858359, 0.018170200663286652, 0.7169229775830744, 0.18937588087100077, 0.08116109180185747, 0.9516248692382118, 0.03339034628906006, 0.15839256414103312, 0.05279752138034437, 0.7814033164290967, 0.970434977386966, 0.9896932643012603, 0.9714826404034932, 0.9730764762303182, 0.9843673011029782, 0.936556031329005, 0.036881660114506436, 0.09835109363868383, 0.8605720693384835, 0.9385092778700787, 0.025430274604663624, 0.9663504349772176, 0.9764247805143826, 0.9815296066877044, 0.39179290317000803, 0.09605245368038907, 0.5105946221957525, 0.002527696149483923, 0.917936232120737, 0.9865352567707134, 0.44503843151931516, 0.03894086275794008, 0.055629803939914395, 0.4283494903373409, 0.027814901969957197, 0.975358868341242, 0.6589451805763352, 0.3376077159742952, 0.17375838245387773, 0.8108724514514295, 0.12484554856664744, 0.5618049685499135, 0.24969109713329488, 0.04783230744806567, 0.4065746133085582, 0.5381134587907388, 0.9740228020388972, 0.9913910022219302, 0.1453636848456585, 0.26650008888370724, 0.3028410100951219, 0.26650008888370724, 0.2740004768455761, 0.2603004530032973, 0.30140052453013366, 0.16440028610734564, 0.19153478162661494, 0.21281642402957215, 0.5887921064818163, 0.9780698651602177, 0.42644623739110293, 0.1675324504036476, 0.21322311869555147, 0.1979928959315835, 0.009892293171380608, 0.9793370239666802, 0.9737766087255812, 0.9682346111851686, 0.9809179000550443, 0.5040905138061943, 0.17664710312866638, 0.021542329649837363, 0.2714333535879508, 0.021542329649837363, 0.6368484698470438, 0.3615806330633399, 0.01843336521077967, 0.9585349909605428, 0.9835383070455864, 0.9911632325874578, 0.2292373504299836, 0.7613954853567313, 0.9854849457374205, 0.9706740418708846, 0.9424358081243425, 0.01726973927420623, 0.05756579758068743, 0.9152961815329301, 0.005756579758068743, 0.37391132235228675, 0.006129693809053881, 0.6129693809053881, 0.9731787067439781, 0.9782337246593539, 0.9696267650487922, 0.9844009623742518, 0.21240082411579442, 0.11800045784210801, 0.46020178558422126, 0.0354001373526324, 0.15340059519474042, 0.8723533886039773, 0.961072015943013, 0.8792633037852587, 0.11569253997174458, 0.95787647225631, 0.9828490408373052, 0.992511492884587, 0.44841503051138787, 0.08541238676407388, 0.2135309669101847, 0.23488406360120317, 0.48583192640039563, 0.15497864318865667, 0.35697327925477096, 0.664576806914584, 0.039382329298642015, 0.29536746973981515, 0.9637529988786802, 0.6285498925839651, 0.3542735758200531, 0.2689214286589359, 0.04780825398381083, 0.6812676192693043, 0.5074059339963722, 0.3200560506746348, 0.09367494166086872, 0.057245797681641994, 0.02081665370241527, 0.8225253260215241, 0.09625296368336983, 0.07000215540608715, 0.17799602121532887, 0.6526520777895392, 0.17799602121532887, 0.9672715727282047, 0.9388345506225446, 0.9636874044481366, 0.9583236075026255, 0.9797504860912557, 0.9758823192118478, 0.9780896762234019, 0.9811573883031055, 0.8861809369434016, 0.9903977532841489, 0.4796331842046395, 0.16323650386796554, 0.1430838490694513, 0.030228982197771398, 0.17734336222692554, 0.004030530959702853, 0.13124473877902695, 0.07382516556320266, 0.7874684326741617, 0.014992953308341455, 0.9820384416963652, 0.9800949218849953, 0.9448393563524283, 0.9954148462423357, 0.981922532743064, 0.9731532815140653, 0.9620856424208204, 0.2841349639808326, 0.7103374099520815, 0.9704218796778633, 0.9884106589476216, 0.9748128771203806, 0.19872060004922132, 0.08565543105569885, 0.7126531863834143, 0.9604454138315937, 0.9986526136018077, 0.9939474200403081, 0.939708976269645, 0.9828560036593196, 0.5482618898126854, 0.018743996232912324, 0.10777797833924586, 0.3233339350177376, 0.6071029675281242, 0.10780333068256412, 0.27801911597082324, 0.0028369297548043186, 0.9853210492899369, 0.9962112396497429, 0.504107253653106, 0.03794355672657788, 0.39298683752527086, 0.029812794570882616, 0.03523330267467945, 0.9858455196916526, 0.9746955125229918, 0.3374563448794702, 0.22975751140729886, 0.1938579002499084, 0.057439377851824715, 0.17949805578695222, 0.8832205579077457, 0.10889020576944809, 0.8402043253396061, 0.13533492488691642, 0.005638955203621517, 0.016916865610864553, 0.9975668471604883, 0.9717044963388455, 0.9762128553036661, 0.3234634320111339, 0.4454250539169713, 0.2333178853850802, 0.5016929730429996, 0.20657945948829395, 0.04426702703320585, 0.23609081084376454, 0.9304184641744677, 0.772813563357705, 0.22395821631998797, 0.9937744684308769, 0.9897999668433375, 0.25981047642715394, 0.7274693339960311, 0.9754987641686811, 0.9808212243077907, 0.4700943704582577, 0.052232707828695296, 0.34473587166938896, 0.13058176957173825, 0.9837897330170605, 0.9862952365579973, 0.9861867499030483, 0.9758618852796277, 0.061440171609836086, 0.8908824883426233, 0.04096011440655739, 0.588346883476566, 0.33619821912946635, 0.41588083452788166, 0.005401049799063398, 0.17823464336909212, 0.005401049799063398, 0.3888755855325646, 0.12785413845152743, 0.8630154345478102, 0.09814261403667246, 0.3434991491283536, 0.5397843772016985, 0.7364479590145392, 0.2593778975145547, 0.05144042511347757, 0.045010371974292876, 0.1800414878971715, 0.6622954733360237, 0.05787047825266227, 0.9453543969967061, 0.39542855937863514, 0.6047730908143831, 0.9718929239620957, 0.08722595994093345, 0.08411074708590012, 0.8006097037435678, 0.006230425710066675, 0.018691277130200027, 0.23889084631098803, 0.35833626946648206, 0.22097403283766393, 0.08958406736662052, 0.09555633852439521, 0.2871817668487493, 0.28262332610511837, 0.19145451123249954, 0.059259729667202235, 0.17777918900160672, 0.8429631759997852, 0.1492747290832953, 0.9491350494317605, 0.996285455149492, 0.993128742570351, 0.9285074190072244, 0.9690447657969824, 0.7848752173545291, 0.006825001890039383, 0.17745004914102397, 0.02047500567011815, 0.9881207878513467, 0.6554919081951266, 0.009569224937155134, 0.3301382603318521, 0.8397194121283905, 0.00995714717938803, 0.01991429435877606, 0.12612386427224836, 0.9938436841008004, 0.6920311924730504, 0.06239625505904553, 0.03403432094129756, 0.15882683105938863, 0.05105148141194634, 0.9659074174381014, 0.968977646001426, 0.9769205588628245, 0.9431580061349021, 0.029941524004282606, 0.014970762002141303, 0.9880016137618717, 0.2687743162463354, 0.7229102299039366, 0.9713412906570164, 0.30326114985280783, 0.690180547940873, 0.43883628591811874, 0.5246955592499246, 0.03815967703635815, 0.76645472003649, 0.010719646434076783, 0.04287858573630713, 0.005359823217038391, 0.17151434294522852, 0.3705860988136504, 0.04309140683879656, 0.5860431330076332, 0.9457068282271001, 0.18738936595467318, 0.7651732443149154, 0.046847341488668294, 0.9732997102032579, 0.9951205152209662, 0.9533377138490085, 0.040281875233056694, 0.9677242528336617, 0.9900245787801132, 0.9590926319411822, 0.9741600868051573, 0.5059998514519264, 0.28111102858440357, 0.19677772000908247, 0.6818949857391827, 0.30306443810630346, 0.05583352258486187, 0.9352115032964363, 0.9706217694455436, 0.9850248442844388, 0.9325231538551371, 0.04741643155195612, 0.765754652862378, 0.21878704367496513, 0.09866357118984201, 0.8879721407085781, 0.24663297989816105, 0.7398989396944832, 0.6568822712290022, 0.03519012167298226, 0.25219587198970617, 0.05278518250947339, 0.9643071268863944, 0.9538194060900976, 0.9758367924070176, 0.8526851502321565, 0.1465552601961519, 0.5213060520378174, 0.013032651300945435, 0.05213060520378174, 0.20852242081512695, 0.20852242081512695, 0.9678532073148962, 0.8064131961211786, 0.18363864862165452, 0.9577503867636057, 0.13571421790387334, 0.712499643995335, 0.14702373606252947, 0.39121368015402147, 0.33102696013032584, 0.27084024010663027, 0.9737404897240557, 0.9185599393314482, 0.3357332904660095, 0.6456409432038644, 0.9790695664212393, 0.9833879438248021, 0.986531523339119, 0.988328626929563, 0.9800949218849953, 0.9568297459023597, 0.5683281619984145, 0.008611032757551736, 0.38749647408982807, 0.025833098272655206, 0.013897196531475744, 0.3150031213801169, 0.14823676300240793, 0.486401878601651, 0.03705919075060198, 0.21166000469136337, 0.36810435598497976, 0.34049652928610624, 0.07362087119699595, 0.9147669557351585, 0.011880090334222838, 0.07128054200533702, 0.5636024246328878, 0.33981910896982936, 0.09117098045532007, 0.49832505265601734, 0.49832505265601734, 0.9829621589712358, 0.9907021477493692, 0.9747042132884731, 0.4401384319904432, 0.07335640533174054, 0.19911024304329575, 0.28993245916830784, 0.9907995702313916, 0.9875711620789686, 0.028145427210841224, 0.1125817088433649, 0.8162173891143956, 0.9085364147965086, 0.5653201476702294, 0.3391920886021377, 0.9798102717212201, 0.04041767027030859, 0.1751432378380039, 0.7814082918926327, 0.9811988500520431, 0.969558476019661, 0.9797962798880469, 0.1313288920889754, 0.07163394113944115, 0.793942847628806, 0.47465428922436675, 0.0771313219989596, 0.10679721507548252, 0.3381911810723613, 0.9688090853430305, 0.012935841369205251, 0.8343617683137388, 0.14229425506125776, 0.9824015939655426, 0.9800949218849953, 0.7197683346967187, 0.20190903934349513, 0.07478112568277598, 0.0018695281420693993, 0.1994234327416937, 0.6481261564105045, 0.012463964546355856, 0.13710361000991442, 0.9189200389829135, 0.11275036345381795, 0.2255007269076359, 0.6201269989959987, 0.9917513092818437, 0.992940561092626], \"Term\": [\"a\", \"a\", \"aau\", \"account\", \"account\", \"active\", \"ad\", \"advantage\", \"advice\", \"advice\", \"advice\", \"age\", \"all\", \"all\", \"allow\", \"allowed\", \"almost\", \"always\", \"always\", \"always\", \"american\", \"andre\", \"anthony\", \"anthony\", \"anyone\", \"anyone\", \"anyone\", \"anything\", \"anything\", \"anything\", \"appreciated\", \"arm\", \"arm\", \"around\", \"around\", \"around\", \"as\", \"assist\", \"assist\", \"assist\", \"assist\", \"ast\", \"athlete\", \"athletic\", \"averaging\", \"award\", \"award\", \"away\", \"away\", \"away\", \"away\", \"back\", \"back\", \"back\", \"back\", \"backboard\", \"ball\", \"ball\", \"ball\", \"ball\", \"basket\", \"basket\", \"basketball\", \"basketball\", \"basketball\", \"ben\", \"bench\", \"best\", \"best\", \"best\", \"best\", \"better\", \"better\", \"better\", \"better\", \"better\", \"bit\", \"bit\", \"bit\", \"black\", \"blizzard\", \"blizzard\", \"blk\", \"block\", \"box\", \"box\", \"broadcast\", \"brooklyn\", \"bunch\", \"buy\", \"by\", \"c\", \"c\", \"called\", \"calling\", \"calling\", \"calling\", \"canadian\", \"career\", \"career\", \"cassidy\", \"cassidy\", \"celtic\", \"center\", \"center\", \"central\", \"challenge\", \"challenge\", \"change\", \"change\", \"change\", \"change\", \"change\", \"character\", \"chat\", \"clock\", \"coach\", \"coaching\", \"cole\", \"com\", \"com\", \"comfortable\", \"contact\", \"content\", \"contract\", \"control\", \"court\", \"covid\", \"cross\", \"cross\", \"current\", \"current\", \"current\", \"current\", \"curry\", \"curry\", \"damage\", \"day\", \"day\", \"day\", \"day\", \"day\", \"deal\", \"deal\", \"decent\", \"deep\", \"defense\", \"defense\", \"defensive\", \"defensive\", \"developer\", \"dive\", \"dont\", \"dont\", \"double\", \"dp\", \"drafted\", \"drb\", \"dribbling\", \"drill\", \"dunk\", \"dunking\", \"earlier\", \"east\", \"efficient\", \"elbow\", \"enemy\", \"enemy\", \"entertaining\", \"entertaining\", \"even\", \"even\", \"even\", \"even\", \"event\", \"every\", \"every\", \"every\", \"every\", \"exercise\", \"experience\", \"experience\", \"fair\", \"fan\", \"fan\", \"fan\", \"fastbreak\", \"feeling\", \"fg\", \"fgm\", \"final\", \"final\", \"final\", \"first\", \"first\", \"first\", \"first\", \"first\", \"fix\", \"floor\", \"foot\", \"foot\", \"foot\", \"football\", \"forward\", \"forward\", \"foul\", \"ft\", \"ftm\", \"fuck\", \"fuck\", \"fucking\", \"fucking\", \"fun\", \"fun\", \"fun\", \"fun\", \"gameplay\", \"getting\", \"getting\", \"getting\", \"getting\", \"giddey\", \"give\", \"give\", \"give\", \"give\", \"give\", \"go\", \"go\", \"go\", \"going\", \"going\", \"going\", \"gon\", \"good\", \"good\", \"good\", \"good\", \"good\", \"got\", \"got\", \"got\", \"got\", \"got\", \"got\", \"great\", \"great\", \"great\", \"great\", \"green\", \"griffin\", \"guaranteed\", \"guard\", \"guard\", \"guess\", \"guess\", \"guy\", \"guy\", \"guy\", \"guy\", \"hand\", \"hand\", \"hand\", \"hand\", \"handle\", \"happening\", \"harden\", \"heart\", \"help\", \"help\", \"help\", \"hero\", \"high\", \"high\", \"high\", \"higher\", \"hoop\", \"hoop\", \"idea\", \"idea\", \"idea\", \"im\", \"im\", \"improve\", \"improve\", \"improve\", \"inch\", \"inch\", \"issue\", \"issue\", \"issue\", \"jalen\", \"jazz\", \"johnson\", \"jokic\", \"jr\", \"jrue\", \"jump\", \"jump\", \"jump\", \"jumper\", \"kinda\", \"kinda\", \"knee\", \"knicks\", \"know\", \"know\", \"know\", \"know\", \"kyrie\", \"lakers\", \"last\", \"last\", \"last\", \"last\", \"last\", \"layup\", \"league\", \"league\", \"learn\", \"learn\", \"learning\", \"learning\", \"learning\", \"least\", \"least\", \"least\", \"leave\", \"lebron\", \"left\", \"left\", \"left\", \"left\", \"life\", \"life\", \"life\", \"life\", \"link\", \"link\", \"link\", \"literally\", \"ll\", \"ll\", \"ll\", \"ll\", \"location\", \"location\", \"lol\", \"longest\", \"lost\", \"lot\", \"lot\", \"lot\", \"lot\", \"lot\", \"m\", \"m\", \"magic\", \"magic\", \"map\", \"matchup\", \"may\", \"may\", \"mid\", \"middle\", \"midrange\", \"min\", \"min\", \"min\", \"min\", \"minute\", \"minute\", \"minute\", \"mitchell\", \"mode\", \"moment\", \"money\", \"month\", \"month\", \"month\", \"month\", \"month\", \"morning\", \"motion\", \"move\", \"move\", \"murray\", \"mvp\", \"na\", \"name\", \"name\", \"name\", \"name\", \"nba\", \"nba\", \"nba\", \"need\", \"need\", \"need\", \"needed\", \"net\", \"net\", \"never\", \"never\", \"never\", \"new\", \"new\", \"new\", \"new\", \"new\", \"next\", \"next\", \"next\", \"night\", \"night\", \"night\", \"nintendo\", \"nobody\", \"notice\", \"noticed\", \"nov\", \"november\", \"offense\", \"offensive\", \"offensively\", \"old\", \"one\", \"one\", \"one\", \"one\", \"one\", \"one\", \"open\", \"open\", \"open\", \"orb\", \"orb\", \"oreb\", \"outdoor\", \"overwatch\", \"ow\", \"pacific\", \"park\", \"pas\", \"pas\", \"pay\", \"pc\", \"pelican\", \"people\", \"people\", \"people\", \"percentage\", \"pf\", \"pg\", \"phi\", \"pickup\", \"played\", \"played\", \"played\", \"played\", \"playing\", \"playing\", \"playing\", \"playing\", \"playoff\", \"pm\", \"point\", \"point\", \"point\", \"point\", \"point\", \"poll\", \"position\", \"post\", \"post\", \"post\", \"post\", \"post\", \"practice\", \"practice\", \"pretty\", \"pretty\", \"pretty\", \"pretty\", \"pt\", \"quarter\", \"queue\", \"r\", \"r\", \"r\", \"range\", \"range\", \"range\", \"range\", \"ranked\", \"really\", \"really\", \"reb\", \"rebound\", \"release\", \"release\", \"released\", \"review\", \"right\", \"right\", \"right\", \"right\", \"rim\", \"rookie\", \"rudy\", \"rule\", \"said\", \"said\", \"said\", \"save\", \"save\", \"say\", \"say\", \"say\", \"say\", \"say\", \"saying\", \"saying\", \"schedule\", \"schedule\", \"schedule\", \"school\", \"school\", \"score\", \"score\", \"score\", \"score\", \"score\", \"scorer\", \"scoring\", \"scoring\", \"script\", \"season\", \"season\", \"season\", \"season\", \"season\", \"second\", \"second\", \"second\", \"second\", \"second\", \"see\", \"see\", \"see\", \"see\", \"see\", \"series\", \"series\", \"seriously\", \"sf\", \"sg\", \"shake\", \"shoe\", \"shoot\", \"shoot\", \"shoot\", \"shoot\", \"shooter\", \"shooting\", \"shooting\", \"shooting\", \"shot\", \"shot\", \"shot\", \"shot\", \"simmons\", \"since\", \"since\", \"since\", \"since\", \"since\", \"situation\", \"sixer\", \"skin\", \"small\", \"small\", \"small\", \"sometimes\", \"source\", \"source\", \"split\", \"sport\", \"sport\", \"star\", \"star\", \"star\", \"start\", \"start\", \"start\", \"start\", \"start\", \"started\", \"started\", \"started\", \"stat\", \"stats\", \"stats\", \"stats\", \"steph\", \"stl\", \"story\", \"story\", \"straight\", \"stream\", \"strength\", \"stretch\", \"stuff\", \"stuff\", \"stuff\", \"suggestion\", \"suggestion\", \"summary\", \"summary\", \"summer\", \"sun\", \"super\", \"super\", \"support\", \"support\", \"switch\", \"switch\", \"system\", \"system\", \"take\", \"take\", \"take\", \"take\", \"talent\", \"tall\", \"taller\", \"tank\", \"tank\", \"thanks\", \"thanks\", \"thanks\", \"thanks\", \"thanks\", \"thunder\", \"tip\", \"tip\", \"tired\", \"title\", \"title\", \"title\", \"together\", \"together\", \"together\", \"told\", \"tor\", \"touch\", \"touch\", \"trade\", \"trailer\", \"train\", \"training\", \"treb\", \"triple\", \"trying\", \"trying\", \"trying\", \"trying\", \"u\", \"u\", \"u\", \"u\", \"u\", \"use\", \"use\", \"use\", \"use\", \"used\", \"used\", \"used\", \"v\", \"v\", \"v\", \"ve\", \"ve\", \"vertical\", \"view\", \"wan\", \"want\", \"want\", \"want\", \"want\", \"warrior\", \"washington\", \"watch\", \"watch\", \"watch\", \"website\", \"weekend\", \"weekend\", \"weight\", \"went\", \"went\", \"went\", \"westbrook\", \"whenever\", \"wilt\", \"win\", \"win\", \"win\", \"work\", \"work\", \"work\", \"work\", \"workout\", \"world\", \"world\", \"world\", \"xbox\", \"yahoo\", \"year\", \"year\", \"year\", \"year\", \"young\", \"young\", \"young\", \"young\", \"younger\", \"youtube\", \"youtube\", \"youtube\", \"\\u201c\", \"\\u201d\"]}, \"R\": 30, \"lambda.step\": 0.01, \"plot.opts\": {\"xlab\": \"PC1\", \"ylab\": \"PC2\"}, \"topic.order\": [5, 1, 2, 4, 8, 6, 3, 7]};\n",
       "\n",
       "function LDAvis_load_lib(url, callback){\n",
       "  var s = document.createElement('script');\n",
       "  s.src = url;\n",
       "  s.async = true;\n",
       "  s.onreadystatechange = s.onload = callback;\n",
       "  s.onerror = function(){console.warn(\"failed to load library \" + url);};\n",
       "  document.getElementsByTagName(\"head\")[0].appendChild(s);\n",
       "}\n",
       "\n",
       "if(typeof(LDAvis) !== \"undefined\"){\n",
       "   // already loaded: just create the visualization\n",
       "   !function(LDAvis){\n",
       "       new LDAvis(\"#\" + \"ldavis_el719621403004602025761303451516\", ldavis_el719621403004602025761303451516_data);\n",
       "   }(LDAvis);\n",
       "}else if(typeof define === \"function\" && define.amd){\n",
       "   // require.js is available: use it to load d3/LDAvis\n",
       "   require.config({paths: {d3: \"https://d3js.org/d3.v5\"}});\n",
       "   require([\"d3\"], function(d3){\n",
       "      window.d3 = d3;\n",
       "      LDAvis_load_lib(\"https://cdn.jsdelivr.net/gh/bmabey/pyLDAvis@3.2.2/pyLDAvis/js/ldavis.v3.0.0.js\", function(){\n",
       "        new LDAvis(\"#\" + \"ldavis_el719621403004602025761303451516\", ldavis_el719621403004602025761303451516_data);\n",
       "      });\n",
       "    });\n",
       "}else{\n",
       "    // require.js not available: dynamically load d3 & LDAvis\n",
       "    LDAvis_load_lib(\"https://d3js.org/d3.v5.js\", function(){\n",
       "         LDAvis_load_lib(\"https://cdn.jsdelivr.net/gh/bmabey/pyLDAvis@3.2.2/pyLDAvis/js/ldavis.v3.0.0.js\", function(){\n",
       "                 new LDAvis(\"#\" + \"ldavis_el719621403004602025761303451516\", ldavis_el719621403004602025761303451516_data);\n",
       "            })\n",
       "         });\n",
       "}\n",
       "</script>"
      ],
      "text/plain": [
       "PreparedData(topic_coordinates=              x         y  topics  cluster       Freq\n",
       "topic                                                \n",
       "4      0.202521 -0.008545       1        1  30.404284\n",
       "0      0.040647 -0.070906       2        1  13.993698\n",
       "1      0.137097 -0.083399       3        1  13.749136\n",
       "3     -0.173814 -0.005597       4        1  13.580189\n",
       "7     -0.371680 -0.151542       5        1  12.408949\n",
       "5      0.219281 -0.101934       6        1  11.140826\n",
       "2     -0.055027  0.344820       7        1   3.614182\n",
       "6      0.000975  0.077103       8        1   1.108736, topic_info=            Term        Freq       Total Category  logprob  loglift\n",
       "600            a  407.000000  407.000000  Default  30.0000  30.0000\n",
       "1458          pf  351.000000  351.000000  Default  29.0000  29.0000\n",
       "1323  basketball  503.000000  503.000000  Default  28.0000  28.0000\n",
       "1269        ball  441.000000  441.000000  Default  27.0000  27.0000\n",
       "1180          pt  308.000000  308.000000  Default  26.0000  26.0000\n",
       "...          ...         ...         ...      ...      ...      ...\n",
       "65          hand   12.240166  143.355685   Topic8  -4.1775   2.0413\n",
       "381          use    8.232720  108.664837   Topic8  -4.5741   1.9218\n",
       "144        since    9.177719  176.292631   Topic8  -4.4654   1.5466\n",
       "240         give    7.907935  116.380474   Topic8  -4.6143   1.8130\n",
       "1019     improve    6.028435   73.927049   Topic8  -4.8857   1.9954\n",
       "\n",
       "[447 rows x 6 columns], token_table=      Topic      Freq     Term\n",
       "term                          \n",
       "600       1  0.004905        a\n",
       "600       5  0.993242        a\n",
       "1620      3  0.975390      aau\n",
       "880       1  0.101456  account\n",
       "880       6  0.879287  account\n",
       "...     ...       ...      ...\n",
       "722       2  0.112750  youtube\n",
       "722       3  0.225501  youtube\n",
       "722       8  0.620127  youtube\n",
       "48        3  0.991751        “\n",
       "49        3  0.992941        ”\n",
       "\n",
       "[734 rows x 3 columns], R=30, lambda_step=0.01, plot_opts={'xlab': 'PC1', 'ylab': 'PC2'}, topic_order=[5, 1, 2, 4, 8, 6, 3, 7])"
      ]
     },
     "execution_count": 58,
     "metadata": {},
     "output_type": "execute_result"
    }
   ],
   "source": [
    "pyLDAvis.gensim.prepare(model, corpus, dictionary)"
   ]
  },
  {
   "cell_type": "code",
   "execution_count": null,
   "id": "d93a7dae",
   "metadata": {},
   "outputs": [],
   "source": []
  },
  {
   "cell_type": "code",
   "execution_count": null,
   "id": "02628e6a",
   "metadata": {},
   "outputs": [],
   "source": []
  },
  {
   "cell_type": "code",
   "execution_count": 14,
   "id": "2e20cf42",
   "metadata": {},
   "outputs": [],
   "source": [
    "#cv1.get_feature_names()[0:1000]"
   ]
  },
  {
   "cell_type": "code",
   "execution_count": null,
   "id": "45be0285",
   "metadata": {},
   "outputs": [],
   "source": []
  },
  {
   "cell_type": "code",
   "execution_count": null,
   "id": "d356b490",
   "metadata": {},
   "outputs": [],
   "source": []
  },
  {
   "cell_type": "code",
   "execution_count": null,
   "id": "666cdcd5",
   "metadata": {},
   "outputs": [],
   "source": []
  },
  {
   "cell_type": "markdown",
   "id": "ef50ad8f",
   "metadata": {},
   "source": [
    "### NMF"
   ]
  },
  {
   "cell_type": "code",
   "execution_count": 28,
   "id": "66ba8581",
   "metadata": {},
   "outputs": [],
   "source": [
    "nmf_model = NMF(10)\n",
    "doc_topic = nmf_model.fit_transform(c)"
   ]
  },
  {
   "cell_type": "code",
   "execution_count": 29,
   "id": "b7ae3edf",
   "metadata": {},
   "outputs": [
    {
     "data": {
      "text/html": [
       "<div>\n",
       "<style scoped>\n",
       "    .dataframe tbody tr th:only-of-type {\n",
       "        vertical-align: middle;\n",
       "    }\n",
       "\n",
       "    .dataframe tbody tr th {\n",
       "        vertical-align: top;\n",
       "    }\n",
       "\n",
       "    .dataframe thead th {\n",
       "        text-align: right;\n",
       "    }\n",
       "</style>\n",
       "<table border=\"1\" class=\"dataframe\">\n",
       "  <thead>\n",
       "    <tr style=\"text-align: right;\">\n",
       "      <th></th>\n",
       "      <th>aaa</th>\n",
       "      <th>aaron</th>\n",
       "      <th>aau</th>\n",
       "      <th>ab</th>\n",
       "      <th>aba</th>\n",
       "      <th>abandon</th>\n",
       "      <th>abandoned</th>\n",
       "      <th>abandoning</th>\n",
       "      <th>abdel</th>\n",
       "      <th>abducted</th>\n",
       "      <th>...</th>\n",
       "      <th>zydrunas</th>\n",
       "      <th>álvaro</th>\n",
       "      <th>ďays</th>\n",
       "      <th>šarić</th>\n",
       "      <th>štrba</th>\n",
       "      <th>сhina</th>\n",
       "      <th>细拉</th>\n",
       "      <th>阿姆西</th>\n",
       "      <th>震旦与食人魔实机兵种展示</th>\n",
       "      <th>𝘳𝘦𝘢𝘭𝘭𝘺</th>\n",
       "    </tr>\n",
       "  </thead>\n",
       "  <tbody>\n",
       "    <tr>\n",
       "      <th>component_1</th>\n",
       "      <td>0.003</td>\n",
       "      <td>0.000</td>\n",
       "      <td>0.000</td>\n",
       "      <td>0.000</td>\n",
       "      <td>0.000</td>\n",
       "      <td>0.001</td>\n",
       "      <td>0.000</td>\n",
       "      <td>0.000</td>\n",
       "      <td>0.000</td>\n",
       "      <td>0.000</td>\n",
       "      <td>...</td>\n",
       "      <td>0.000</td>\n",
       "      <td>0.003</td>\n",
       "      <td>0.000</td>\n",
       "      <td>0.000</td>\n",
       "      <td>0.000</td>\n",
       "      <td>0.000</td>\n",
       "      <td>0.004</td>\n",
       "      <td>0.000</td>\n",
       "      <td>0.000</td>\n",
       "      <td>0.001</td>\n",
       "    </tr>\n",
       "    <tr>\n",
       "      <th>component_2</th>\n",
       "      <td>0.000</td>\n",
       "      <td>0.003</td>\n",
       "      <td>0.313</td>\n",
       "      <td>0.000</td>\n",
       "      <td>0.001</td>\n",
       "      <td>0.000</td>\n",
       "      <td>0.000</td>\n",
       "      <td>0.000</td>\n",
       "      <td>0.000</td>\n",
       "      <td>0.000</td>\n",
       "      <td>...</td>\n",
       "      <td>0.004</td>\n",
       "      <td>0.001</td>\n",
       "      <td>0.000</td>\n",
       "      <td>0.004</td>\n",
       "      <td>0.000</td>\n",
       "      <td>0.002</td>\n",
       "      <td>0.001</td>\n",
       "      <td>0.000</td>\n",
       "      <td>0.000</td>\n",
       "      <td>0.001</td>\n",
       "    </tr>\n",
       "    <tr>\n",
       "      <th>component_3</th>\n",
       "      <td>0.004</td>\n",
       "      <td>0.000</td>\n",
       "      <td>0.000</td>\n",
       "      <td>0.000</td>\n",
       "      <td>0.000</td>\n",
       "      <td>0.000</td>\n",
       "      <td>0.000</td>\n",
       "      <td>0.000</td>\n",
       "      <td>0.000</td>\n",
       "      <td>0.000</td>\n",
       "      <td>...</td>\n",
       "      <td>0.000</td>\n",
       "      <td>0.000</td>\n",
       "      <td>0.000</td>\n",
       "      <td>0.000</td>\n",
       "      <td>0.000</td>\n",
       "      <td>0.001</td>\n",
       "      <td>0.000</td>\n",
       "      <td>0.000</td>\n",
       "      <td>0.000</td>\n",
       "      <td>0.000</td>\n",
       "    </tr>\n",
       "    <tr>\n",
       "      <th>component_4</th>\n",
       "      <td>0.095</td>\n",
       "      <td>0.000</td>\n",
       "      <td>0.000</td>\n",
       "      <td>0.000</td>\n",
       "      <td>0.000</td>\n",
       "      <td>0.000</td>\n",
       "      <td>0.000</td>\n",
       "      <td>0.000</td>\n",
       "      <td>0.000</td>\n",
       "      <td>0.000</td>\n",
       "      <td>...</td>\n",
       "      <td>0.000</td>\n",
       "      <td>0.089</td>\n",
       "      <td>0.000</td>\n",
       "      <td>0.000</td>\n",
       "      <td>0.000</td>\n",
       "      <td>0.000</td>\n",
       "      <td>0.001</td>\n",
       "      <td>0.000</td>\n",
       "      <td>0.000</td>\n",
       "      <td>0.000</td>\n",
       "    </tr>\n",
       "    <tr>\n",
       "      <th>component_5</th>\n",
       "      <td>0.000</td>\n",
       "      <td>0.319</td>\n",
       "      <td>0.000</td>\n",
       "      <td>0.000</td>\n",
       "      <td>0.001</td>\n",
       "      <td>0.000</td>\n",
       "      <td>0.000</td>\n",
       "      <td>0.000</td>\n",
       "      <td>0.047</td>\n",
       "      <td>0.000</td>\n",
       "      <td>...</td>\n",
       "      <td>0.001</td>\n",
       "      <td>0.000</td>\n",
       "      <td>0.000</td>\n",
       "      <td>0.000</td>\n",
       "      <td>0.000</td>\n",
       "      <td>0.001</td>\n",
       "      <td>0.000</td>\n",
       "      <td>0.001</td>\n",
       "      <td>0.001</td>\n",
       "      <td>0.000</td>\n",
       "    </tr>\n",
       "    <tr>\n",
       "      <th>component_6</th>\n",
       "      <td>0.003</td>\n",
       "      <td>0.000</td>\n",
       "      <td>0.000</td>\n",
       "      <td>0.000</td>\n",
       "      <td>0.000</td>\n",
       "      <td>0.000</td>\n",
       "      <td>0.000</td>\n",
       "      <td>0.000</td>\n",
       "      <td>0.000</td>\n",
       "      <td>0.000</td>\n",
       "      <td>...</td>\n",
       "      <td>0.000</td>\n",
       "      <td>0.001</td>\n",
       "      <td>0.000</td>\n",
       "      <td>0.000</td>\n",
       "      <td>0.091</td>\n",
       "      <td>0.000</td>\n",
       "      <td>0.001</td>\n",
       "      <td>0.000</td>\n",
       "      <td>0.000</td>\n",
       "      <td>0.000</td>\n",
       "    </tr>\n",
       "    <tr>\n",
       "      <th>component_7</th>\n",
       "      <td>0.024</td>\n",
       "      <td>0.000</td>\n",
       "      <td>0.002</td>\n",
       "      <td>0.000</td>\n",
       "      <td>0.000</td>\n",
       "      <td>0.001</td>\n",
       "      <td>0.000</td>\n",
       "      <td>0.002</td>\n",
       "      <td>0.000</td>\n",
       "      <td>0.082</td>\n",
       "      <td>...</td>\n",
       "      <td>0.002</td>\n",
       "      <td>0.001</td>\n",
       "      <td>0.000</td>\n",
       "      <td>0.001</td>\n",
       "      <td>0.000</td>\n",
       "      <td>0.000</td>\n",
       "      <td>0.003</td>\n",
       "      <td>0.000</td>\n",
       "      <td>0.000</td>\n",
       "      <td>0.003</td>\n",
       "    </tr>\n",
       "    <tr>\n",
       "      <th>component_8</th>\n",
       "      <td>0.005</td>\n",
       "      <td>0.000</td>\n",
       "      <td>0.000</td>\n",
       "      <td>0.000</td>\n",
       "      <td>0.000</td>\n",
       "      <td>0.000</td>\n",
       "      <td>0.000</td>\n",
       "      <td>0.000</td>\n",
       "      <td>0.000</td>\n",
       "      <td>0.000</td>\n",
       "      <td>...</td>\n",
       "      <td>0.000</td>\n",
       "      <td>0.000</td>\n",
       "      <td>0.000</td>\n",
       "      <td>0.000</td>\n",
       "      <td>0.000</td>\n",
       "      <td>0.000</td>\n",
       "      <td>0.000</td>\n",
       "      <td>0.000</td>\n",
       "      <td>0.000</td>\n",
       "      <td>0.000</td>\n",
       "    </tr>\n",
       "    <tr>\n",
       "      <th>component_9</th>\n",
       "      <td>0.001</td>\n",
       "      <td>0.003</td>\n",
       "      <td>0.000</td>\n",
       "      <td>0.002</td>\n",
       "      <td>0.004</td>\n",
       "      <td>0.000</td>\n",
       "      <td>0.001</td>\n",
       "      <td>0.006</td>\n",
       "      <td>0.000</td>\n",
       "      <td>0.000</td>\n",
       "      <td>...</td>\n",
       "      <td>0.014</td>\n",
       "      <td>0.000</td>\n",
       "      <td>0.002</td>\n",
       "      <td>0.005</td>\n",
       "      <td>0.000</td>\n",
       "      <td>0.003</td>\n",
       "      <td>0.002</td>\n",
       "      <td>0.000</td>\n",
       "      <td>0.000</td>\n",
       "      <td>0.002</td>\n",
       "    </tr>\n",
       "    <tr>\n",
       "      <th>component_10</th>\n",
       "      <td>0.107</td>\n",
       "      <td>0.000</td>\n",
       "      <td>0.000</td>\n",
       "      <td>0.000</td>\n",
       "      <td>0.000</td>\n",
       "      <td>0.001</td>\n",
       "      <td>0.000</td>\n",
       "      <td>0.001</td>\n",
       "      <td>0.000</td>\n",
       "      <td>0.000</td>\n",
       "      <td>...</td>\n",
       "      <td>0.000</td>\n",
       "      <td>0.001</td>\n",
       "      <td>0.000</td>\n",
       "      <td>0.000</td>\n",
       "      <td>0.000</td>\n",
       "      <td>0.000</td>\n",
       "      <td>0.003</td>\n",
       "      <td>0.000</td>\n",
       "      <td>0.000</td>\n",
       "      <td>0.004</td>\n",
       "    </tr>\n",
       "  </tbody>\n",
       "</table>\n",
       "<p>10 rows × 10963 columns</p>\n",
       "</div>"
      ],
      "text/plain": [
       "                aaa  aaron    aau     ab    aba  abandon  abandoned  \\\n",
       "component_1   0.003  0.000  0.000  0.000  0.000    0.001      0.000   \n",
       "component_2   0.000  0.003  0.313  0.000  0.001    0.000      0.000   \n",
       "component_3   0.004  0.000  0.000  0.000  0.000    0.000      0.000   \n",
       "component_4   0.095  0.000  0.000  0.000  0.000    0.000      0.000   \n",
       "component_5   0.000  0.319  0.000  0.000  0.001    0.000      0.000   \n",
       "component_6   0.003  0.000  0.000  0.000  0.000    0.000      0.000   \n",
       "component_7   0.024  0.000  0.002  0.000  0.000    0.001      0.000   \n",
       "component_8   0.005  0.000  0.000  0.000  0.000    0.000      0.000   \n",
       "component_9   0.001  0.003  0.000  0.002  0.004    0.000      0.001   \n",
       "component_10  0.107  0.000  0.000  0.000  0.000    0.001      0.000   \n",
       "\n",
       "              abandoning  abdel  abducted  ...  zydrunas  álvaro   ďays  \\\n",
       "component_1        0.000  0.000     0.000  ...     0.000   0.003  0.000   \n",
       "component_2        0.000  0.000     0.000  ...     0.004   0.001  0.000   \n",
       "component_3        0.000  0.000     0.000  ...     0.000   0.000  0.000   \n",
       "component_4        0.000  0.000     0.000  ...     0.000   0.089  0.000   \n",
       "component_5        0.000  0.047     0.000  ...     0.001   0.000  0.000   \n",
       "component_6        0.000  0.000     0.000  ...     0.000   0.001  0.000   \n",
       "component_7        0.002  0.000     0.082  ...     0.002   0.001  0.000   \n",
       "component_8        0.000  0.000     0.000  ...     0.000   0.000  0.000   \n",
       "component_9        0.006  0.000     0.000  ...     0.014   0.000  0.002   \n",
       "component_10       0.001  0.000     0.000  ...     0.000   0.001  0.000   \n",
       "\n",
       "              šarić  štrba  сhina     细拉    阿姆西  震旦与食人魔实机兵种展示  𝘳𝘦𝘢𝘭𝘭𝘺  \n",
       "component_1   0.000  0.000  0.000  0.004  0.000         0.000   0.001  \n",
       "component_2   0.004  0.000  0.002  0.001  0.000         0.000   0.001  \n",
       "component_3   0.000  0.000  0.001  0.000  0.000         0.000   0.000  \n",
       "component_4   0.000  0.000  0.000  0.001  0.000         0.000   0.000  \n",
       "component_5   0.000  0.000  0.001  0.000  0.001         0.001   0.000  \n",
       "component_6   0.000  0.091  0.000  0.001  0.000         0.000   0.000  \n",
       "component_7   0.001  0.000  0.000  0.003  0.000         0.000   0.003  \n",
       "component_8   0.000  0.000  0.000  0.000  0.000         0.000   0.000  \n",
       "component_9   0.005  0.000  0.003  0.002  0.000         0.000   0.002  \n",
       "component_10  0.000  0.000  0.000  0.003  0.000         0.000   0.004  \n",
       "\n",
       "[10 rows x 10963 columns]"
      ]
     },
     "execution_count": 29,
     "metadata": {},
     "output_type": "execute_result"
    }
   ],
   "source": [
    "topic_word = pd.DataFrame(nmf_model.components_.round(3),\n",
    "             index = [\"component_1\",\"component_2\",'component_3','component_4','component_5','component_6','component_7','component_8','component_9','component_10'],\n",
    "             columns = cv1.get_feature_names())\n",
    "topic_word"
   ]
  },
  {
   "cell_type": "code",
   "execution_count": 30,
   "id": "c2918506",
   "metadata": {},
   "outputs": [],
   "source": [
    "def display_topics(model, feature_names, no_top_words, topic_names=None):\n",
    "    for ix, topic in enumerate(model.components_):\n",
    "        if not topic_names or not topic_names[ix]:\n",
    "            print(\"\\nTopic \", ix)\n",
    "        else:\n",
    "            print(\"\\nTopic: '\",topic_names[ix],\"'\")\n",
    "        print(\", \".join([feature_names[i]\n",
    "                        for i in topic.argsort()[:-no_top_words - 1:-1]]))"
   ]
  },
  {
   "cell_type": "code",
   "execution_count": 31,
   "id": "beeb9dd0",
   "metadata": {
    "scrolled": false
   },
   "outputs": [
    {
     "name": "stdout",
     "output_type": "stream",
     "text": [
      "\n",
      "Topic  0\n",
      "horizon, game, forza, xsx, series, racing, best, world, open, pc, critic, xbox, new, one, mexico, star, experience, fun, entry, time, good, racer, motorsport, made, formula, content, everything, offer, fan, title\n",
      "\n",
      "Topic  1\n",
      "team, player, nba, jvbl, league, year, school, new, contract, organization, system, basketball, may, ncaa, feeder, host, current, per, age, draft, season, deal, one, play, coach, idea, university, number, time, game\n",
      "\n",
      "Topic  2\n",
      "world, game, banjo, character, one, duo, tooie, transformation, first, original, kazooie, mumbo, pad, fight, lot, flight, humba, take, section, better, fps, element, bos, ability, new, switch, moment, fun, different, peak\n",
      "\n",
      "Topic  3\n",
      "tensei, megami, shin, game, nintendo, switch, combat, jrpg, one, series, fan, star, world, atlus, entry, time, trailer, new, gameplay, story, lot, rpg, best, great, worth, franchise, excellent, review, experience, even\n",
      "\n",
      "Topic  4\n",
      "team, pf, pt, nba, ast, stl, blk, pm, com, min, game, fg, stats, ft, pg, sf, sg, reb, fgm, orb, drb, ftm, score, box, location, play, center, jr, total, clock\n",
      "\n",
      "Topic  5\n",
      "party, mario, superstar, game, board, best, nintendo, minigames, new, series, fun, star, nostalgia, time, franchise, look, offer, perfect, selection, content, classic, first, year, feel, switch, super, review, great, back, fan\n",
      "\n",
      "Topic  6\n",
      "game, resident, evil, outcome, player, demo, claim, ethan, information, release, time, village, leak, one, story, true, villain, character, major, chris, leaked, insider, year, seems, see, may, reveal, capcom, false, interesting\n",
      "\n",
      "Topic  7\n",
      "second, dive, brigitte, hero, comp, character, ally, change, ability, counter, range, problem, damage, armor, inspire, pack, repair, team, enemy, health, enough, shield, overwatch, time, effective, meter, idea, something, need, player\n",
      "\n",
      "Topic  8\n",
      "game, season, minute, year, play, basketball, good, time, player, even, ball, point, shot, really, issue, one, last, attempt, playing, best, got, know, shooting, defense, go, right, overwatch, guy, two, people\n",
      "\n",
      "Topic  9\n",
      "game, rule, submission, link, thread, question, review, community, source, discussion, title, please, topic, republic, rider, may, video, crypto, indie, new, try, etc, platform, article, use, example, subreddit, following, specific, allowed\n"
     ]
    }
   ],
   "source": [
    "display_topics(nmf_model, cv1.get_feature_names(), 30)"
   ]
  },
  {
   "cell_type": "code",
   "execution_count": 19,
   "id": "e67d4ba9",
   "metadata": {},
   "outputs": [],
   "source": [
    "#df.to_csv('check1.csv')"
   ]
  },
  {
   "cell_type": "code",
   "execution_count": null,
   "id": "89e8e1c4",
   "metadata": {},
   "outputs": [],
   "source": []
  },
  {
   "cell_type": "raw",
   "id": "57f8d1c2",
   "metadata": {},
   "source": []
  },
  {
   "cell_type": "markdown",
   "id": "c799c8a2",
   "metadata": {},
   "source": [
    "coherence = []\n",
    "for k in range(5,25):\n",
    "    print('Round: '+str(k))\n",
    "    Lda = gensim.models.ldamodel.LdaModel\n",
    "    ldamodel = Lda(doc_term_matrix, num_topics=k, \\\n",
    "               id2word = dict_, passes=40,\\\n",
    "               iterations=200, chunksize = 10000, eval_every = None)\n",
    "    \n",
    "    cm = gensim.models.coherencemodel.CoherenceModel(\\\n",
    "         model=ldamodel, texts=final_reviews,\\\n",
    "         dictionary=dict_, coherence='c_v')   \n",
    "                                                \n",
    "    coherence.append((k,cm.get_coherence()))"
   ]
  },
  {
   "cell_type": "code",
   "execution_count": 32,
   "id": "5074b9d6",
   "metadata": {},
   "outputs": [
    {
     "data": {
      "text/plain": [
       "Text(0, 0.5, 'explained variance ratio')"
      ]
     },
     "execution_count": 32,
     "metadata": {},
     "output_type": "execute_result"
    },
    {
     "data": {
      "image/png": "[encoded data removed]",
      "text/plain": [
       "<Figure size 432x288 with 1 Axes>"
      ]
     },
     "metadata": {
      "needs_background": "light"
     },
     "output_type": "display_data"
    }
   ],
   "source": [
    "numberOfTopics=[]\n",
    "explained_v=[]\n",
    "for n_topics in range(1,20):\n",
    "    lsa = TruncatedSVD(n_topics)\n",
    "    doc_topic = lsa.fit_transform(c)\n",
    "    lsa.explained_variance_ratio_\n",
    "    numberOfTopics.append(len(lsa.explained_variance_ratio_))\n",
    "    explained_v.append(sum(lsa.explained_variance_ratio_))\n",
    "plt.plot(numberOfTopics,explained_v)\n",
    "plt.xlabel('number of topics')\n",
    "plt.ylabel('explained variance ratio')"
   ]
  },
  {
   "cell_type": "code",
   "execution_count": 33,
   "id": "fea07948",
   "metadata": {},
   "outputs": [],
   "source": [
    " lsa = TruncatedSVD(7)\n",
    "doc_topic = lsa.fit_transform(c)\n"
   ]
  },
  {
   "cell_type": "code",
   "execution_count": 34,
   "id": "43e47eb4",
   "metadata": {},
   "outputs": [
    {
     "name": "stdout",
     "output_type": "stream",
     "text": [
      "\n",
      "Topic  0\n",
      "game, team, player, world, one, nba, new, time, year, horizon\n",
      "\n",
      "Topic  1\n",
      "team, nba, player, jvbl, league, school, pf, pt, year, contract\n",
      "\n",
      "Topic  2\n",
      "world, banjo, character, duo, tooie, transformation, original, mumbo, kazooie, first\n",
      "\n",
      "Topic  3\n",
      "tensei, megami, shin, nintendo, party, switch, combat, jrpg, player, mario\n",
      "\n",
      "Topic  4\n",
      "pf, pt, megami, tensei, shin, ast, stl, blk, pm, com\n",
      "\n",
      "Topic  5\n",
      "party, mario, superstar, board, minigames, nintendo, nostalgia, pf, new, pt\n",
      "\n",
      "Topic  6\n",
      "game, second, dive, rule, overwatch, brigitte, hero, submission, information, shot\n"
     ]
    }
   ],
   "source": [
    "display_topics(lsa, cv1.get_feature_names(), 10)"
   ]
  },
  {
   "cell_type": "code",
   "execution_count": 35,
   "id": "e5f0d1ac",
   "metadata": {},
   "outputs": [],
   "source": [
    "df['token']=df.post.map(word_tokenize)"
   ]
  },
  {
   "cell_type": "code",
   "execution_count": 36,
   "id": "763a1b10",
   "metadata": {},
   "outputs": [],
   "source": [
    "texts = df['token']\n",
    "dictionary = Dictionary(texts)\n",
    "dictionary.filter_extremes( no_below=3 ,no_above=0.85 ,keep_n=5000 )\n",
    "corpus = [dictionary.doc2bow(text) for text in texts]\n",
    "topic_nums = list(np.arange(5, 50, 5))"
   ]
  },
  {
   "cell_type": "code",
   "execution_count": 37,
   "id": "849373bc",
   "metadata": {},
   "outputs": [
    {
     "ename": "NameError",
     "evalue": "name 'Nmf' is not defined",
     "output_type": "error",
     "traceback": [
      "\u001b[0;31m---------------------------------------------------------------------------\u001b[0m",
      "\u001b[0;31mNameError\u001b[0m                                 Traceback (most recent call last)",
      "\u001b[0;32m<ipython-input-37-37b289abaa71>\u001b[0m in \u001b[0;36m<module>\u001b[0;34m\u001b[0m\n\u001b[1;32m      1\u001b[0m \u001b[0mcoherence_scores\u001b[0m \u001b[0;34m=\u001b[0m \u001b[0;34m[\u001b[0m\u001b[0;34m]\u001b[0m\u001b[0;34m\u001b[0m\u001b[0;34m\u001b[0m\u001b[0m\n\u001b[1;32m      2\u001b[0m \u001b[0;32mfor\u001b[0m \u001b[0mnum\u001b[0m \u001b[0;32min\u001b[0m \u001b[0mtopic_nums\u001b[0m\u001b[0;34m:\u001b[0m\u001b[0;34m\u001b[0m\u001b[0;34m\u001b[0m\u001b[0m\n\u001b[0;32m----> 3\u001b[0;31m     nmf = Nmf(\n\u001b[0m\u001b[1;32m      4\u001b[0m         \u001b[0mcorpus\u001b[0m\u001b[0;34m=\u001b[0m\u001b[0mcorpus\u001b[0m\u001b[0;34m,\u001b[0m\u001b[0;34m\u001b[0m\u001b[0;34m\u001b[0m\u001b[0m\n\u001b[1;32m      5\u001b[0m         \u001b[0mnum_topics\u001b[0m\u001b[0;34m=\u001b[0m\u001b[0mnum\u001b[0m\u001b[0;34m,\u001b[0m\u001b[0;34m\u001b[0m\u001b[0;34m\u001b[0m\u001b[0m\n",
      "\u001b[0;31mNameError\u001b[0m: name 'Nmf' is not defined"
     ]
    }
   ],
   "source": [
    "coherence_scores = []\n",
    "for num in topic_nums:\n",
    "    nmf = Nmf(\n",
    "        corpus=corpus,\n",
    "        num_topics=num,\n",
    "        id2word=dictionary,\n",
    "        chunksize=2000,\n",
    "        passes=5,\n",
    "        kappa=.1,\n",
    "        minimum_probability=0.01,\n",
    "        w_max_iter=300,\n",
    "        w_stop_condition=0.0001,\n",
    "        h_max_iter=100,\n",
    "        h_stop_condition=0.001,\n",
    "        eval_every=10,\n",
    "        normalize=True,\n",
    "        random_state=42\n",
    "    )\n",
    "    \n",
    "    # Run the coherence model to get the score\n",
    "    cm = CoherenceModel(\n",
    "        model=nmf,\n",
    "        texts=texts,\n",
    "        dictionary=dictionary,\n",
    "        coherence='c_v'\n",
    "    )\n",
    "    \n",
    "    coherence_scores.append(round(cm.get_coherence(), 5))\n",
    "\n",
    "# plot number of topics Vs coherence_scores\n",
    "plt.plot(topic_nums,coherence_scores)\n",
    "plt.xticks(topic_nums);\n",
    "plt.xlabel('number of topics')\n",
    "plt.ylabel('coherence score')"
   ]
  },
  {
   "cell_type": "code",
   "execution_count": null,
   "id": "8d594519",
   "metadata": {},
   "outputs": [],
   "source": [
    "\n",
    "coherence_scores"
   ]
  },
  {
   "cell_type": "code",
   "execution_count": null,
   "id": "c00b698c",
   "metadata": {},
   "outputs": [],
   "source": [
    "topic_nums"
   ]
  },
  {
   "cell_type": "code",
   "execution_count": null,
   "id": "133f9eab",
   "metadata": {},
   "outputs": [],
   "source": [
    "plt.plot(topic_nums,coherence_scores)\n",
    "plt.xticks(topic_nums);"
   ]
  },
  {
   "cell_type": "code",
   "execution_count": null,
   "id": "f2d691b8",
   "metadata": {},
   "outputs": [],
   "source": [
    "#topic_word.to_csv('word_weight.csv')"
   ]
  },
  {
   "cell_type": "code",
   "execution_count": 38,
   "id": "50234f2c",
   "metadata": {},
   "outputs": [
    {
     "data": {
      "text/html": [
       "<div>\n",
       "<style scoped>\n",
       "    .dataframe tbody tr th:only-of-type {\n",
       "        vertical-align: middle;\n",
       "    }\n",
       "\n",
       "    .dataframe tbody tr th {\n",
       "        vertical-align: top;\n",
       "    }\n",
       "\n",
       "    .dataframe thead th {\n",
       "        text-align: right;\n",
       "    }\n",
       "</style>\n",
       "<table border=\"1\" class=\"dataframe\">\n",
       "  <thead>\n",
       "    <tr style=\"text-align: right;\">\n",
       "      <th></th>\n",
       "      <th>topic1</th>\n",
       "      <th>topic2</th>\n",
       "      <th>topic3</th>\n",
       "      <th>topic4</th>\n",
       "      <th>topic5</th>\n",
       "      <th>topic6</th>\n",
       "      <th>topic7</th>\n",
       "      <th>topic8</th>\n",
       "      <th>topic9</th>\n",
       "      <th>topic10</th>\n",
       "    </tr>\n",
       "  </thead>\n",
       "  <tbody>\n",
       "    <tr>\n",
       "      <th>aaron</th>\n",
       "      <td>0.000</td>\n",
       "      <td>0.003</td>\n",
       "      <td>0.000</td>\n",
       "      <td>0.000</td>\n",
       "      <td>0.319</td>\n",
       "      <td>0.000</td>\n",
       "      <td>0.000</td>\n",
       "      <td>0.0</td>\n",
       "      <td>0.003</td>\n",
       "      <td>0.000</td>\n",
       "    </tr>\n",
       "    <tr>\n",
       "      <th>aau</th>\n",
       "      <td>0.000</td>\n",
       "      <td>0.313</td>\n",
       "      <td>0.000</td>\n",
       "      <td>0.000</td>\n",
       "      <td>0.000</td>\n",
       "      <td>0.000</td>\n",
       "      <td>0.002</td>\n",
       "      <td>0.0</td>\n",
       "      <td>0.000</td>\n",
       "      <td>0.000</td>\n",
       "    </tr>\n",
       "    <tr>\n",
       "      <th>ab</th>\n",
       "      <td>0.000</td>\n",
       "      <td>0.000</td>\n",
       "      <td>0.000</td>\n",
       "      <td>0.000</td>\n",
       "      <td>0.000</td>\n",
       "      <td>0.000</td>\n",
       "      <td>0.000</td>\n",
       "      <td>0.0</td>\n",
       "      <td>0.002</td>\n",
       "      <td>0.000</td>\n",
       "    </tr>\n",
       "    <tr>\n",
       "      <th>aba</th>\n",
       "      <td>0.000</td>\n",
       "      <td>0.001</td>\n",
       "      <td>0.000</td>\n",
       "      <td>0.000</td>\n",
       "      <td>0.001</td>\n",
       "      <td>0.000</td>\n",
       "      <td>0.000</td>\n",
       "      <td>0.0</td>\n",
       "      <td>0.004</td>\n",
       "      <td>0.000</td>\n",
       "    </tr>\n",
       "    <tr>\n",
       "      <th>abandon</th>\n",
       "      <td>0.001</td>\n",
       "      <td>0.000</td>\n",
       "      <td>0.000</td>\n",
       "      <td>0.000</td>\n",
       "      <td>0.000</td>\n",
       "      <td>0.000</td>\n",
       "      <td>0.001</td>\n",
       "      <td>0.0</td>\n",
       "      <td>0.000</td>\n",
       "      <td>0.001</td>\n",
       "    </tr>\n",
       "    <tr>\n",
       "      <th>...</th>\n",
       "      <td>...</td>\n",
       "      <td>...</td>\n",
       "      <td>...</td>\n",
       "      <td>...</td>\n",
       "      <td>...</td>\n",
       "      <td>...</td>\n",
       "      <td>...</td>\n",
       "      <td>...</td>\n",
       "      <td>...</td>\n",
       "      <td>...</td>\n",
       "    </tr>\n",
       "    <tr>\n",
       "      <th>сhina</th>\n",
       "      <td>0.000</td>\n",
       "      <td>0.002</td>\n",
       "      <td>0.001</td>\n",
       "      <td>0.000</td>\n",
       "      <td>0.001</td>\n",
       "      <td>0.000</td>\n",
       "      <td>0.000</td>\n",
       "      <td>0.0</td>\n",
       "      <td>0.003</td>\n",
       "      <td>0.000</td>\n",
       "    </tr>\n",
       "    <tr>\n",
       "      <th>细拉</th>\n",
       "      <td>0.004</td>\n",
       "      <td>0.001</td>\n",
       "      <td>0.000</td>\n",
       "      <td>0.001</td>\n",
       "      <td>0.000</td>\n",
       "      <td>0.001</td>\n",
       "      <td>0.003</td>\n",
       "      <td>0.0</td>\n",
       "      <td>0.002</td>\n",
       "      <td>0.003</td>\n",
       "    </tr>\n",
       "    <tr>\n",
       "      <th>阿姆西</th>\n",
       "      <td>0.000</td>\n",
       "      <td>0.000</td>\n",
       "      <td>0.000</td>\n",
       "      <td>0.000</td>\n",
       "      <td>0.001</td>\n",
       "      <td>0.000</td>\n",
       "      <td>0.000</td>\n",
       "      <td>0.0</td>\n",
       "      <td>0.000</td>\n",
       "      <td>0.000</td>\n",
       "    </tr>\n",
       "    <tr>\n",
       "      <th>震旦与食人魔实机兵种展示</th>\n",
       "      <td>0.000</td>\n",
       "      <td>0.000</td>\n",
       "      <td>0.000</td>\n",
       "      <td>0.000</td>\n",
       "      <td>0.001</td>\n",
       "      <td>0.000</td>\n",
       "      <td>0.000</td>\n",
       "      <td>0.0</td>\n",
       "      <td>0.000</td>\n",
       "      <td>0.000</td>\n",
       "    </tr>\n",
       "    <tr>\n",
       "      <th>𝘳𝘦𝘢𝘭𝘭𝘺</th>\n",
       "      <td>0.001</td>\n",
       "      <td>0.001</td>\n",
       "      <td>0.000</td>\n",
       "      <td>0.000</td>\n",
       "      <td>0.000</td>\n",
       "      <td>0.000</td>\n",
       "      <td>0.003</td>\n",
       "      <td>0.0</td>\n",
       "      <td>0.002</td>\n",
       "      <td>0.004</td>\n",
       "    </tr>\n",
       "  </tbody>\n",
       "</table>\n",
       "<p>10962 rows × 10 columns</p>\n",
       "</div>"
      ],
      "text/plain": [
       "              topic1  topic2  topic3  topic4  topic5  topic6  topic7  topic8  \\\n",
       "aaron          0.000   0.003   0.000   0.000   0.319   0.000   0.000     0.0   \n",
       "aau            0.000   0.313   0.000   0.000   0.000   0.000   0.002     0.0   \n",
       "ab             0.000   0.000   0.000   0.000   0.000   0.000   0.000     0.0   \n",
       "aba            0.000   0.001   0.000   0.000   0.001   0.000   0.000     0.0   \n",
       "abandon        0.001   0.000   0.000   0.000   0.000   0.000   0.001     0.0   \n",
       "...              ...     ...     ...     ...     ...     ...     ...     ...   \n",
       "сhina          0.000   0.002   0.001   0.000   0.001   0.000   0.000     0.0   \n",
       "细拉             0.004   0.001   0.000   0.001   0.000   0.001   0.003     0.0   \n",
       "阿姆西            0.000   0.000   0.000   0.000   0.001   0.000   0.000     0.0   \n",
       "震旦与食人魔实机兵种展示   0.000   0.000   0.000   0.000   0.001   0.000   0.000     0.0   \n",
       "𝘳𝘦𝘢𝘭𝘭𝘺         0.001   0.001   0.000   0.000   0.000   0.000   0.003     0.0   \n",
       "\n",
       "              topic9  topic10  \n",
       "aaron          0.003    0.000  \n",
       "aau            0.000    0.000  \n",
       "ab             0.002    0.000  \n",
       "aba            0.004    0.000  \n",
       "abandon        0.000    0.001  \n",
       "...              ...      ...  \n",
       "сhina          0.003    0.000  \n",
       "细拉             0.002    0.003  \n",
       "阿姆西            0.000    0.000  \n",
       "震旦与食人魔实机兵种展示   0.000    0.000  \n",
       "𝘳𝘦𝘢𝘭𝘭𝘺         0.002    0.004  \n",
       "\n",
       "[10962 rows x 10 columns]"
      ]
     },
     "execution_count": 38,
     "metadata": {},
     "output_type": "execute_result"
    }
   ],
   "source": [
    "##ploting word weight for each topic\n",
    "df1=topic_word.T\n",
    "names=[]\n",
    "for i in range(1,11):\n",
    "    name='topic'+str(i)\n",
    "    names.append(name)\n",
    "    \n",
    "df1.columns=names\n",
    "df1=df1.iloc[1:]\n",
    "df1"
   ]
  },
  {
   "cell_type": "code",
   "execution_count": 39,
   "id": "a0eb0a5f",
   "metadata": {
    "scrolled": false
   },
   "outputs": [
    {
     "data": {
      "image/png": "[encoded data removed]",
      "text/plain": [
       "<Figure size 432x288 with 1 Axes>"
      ]
     },
     "metadata": {
      "needs_background": "light"
     },
     "output_type": "display_data"
    },
    {
     "data": {
      "image/png": "[encoded data removed]",
      "text/plain": [
       "<Figure size 432x288 with 1 Axes>"
      ]
     },
     "metadata": {
      "needs_background": "light"
     },
     "output_type": "display_data"
    },
    {
     "data": {
      "image/png": "[encoded data removed]",
      "text/plain": [
       "<Figure size 432x288 with 1 Axes>"
      ]
     },
     "metadata": {
      "needs_background": "light"
     },
     "output_type": "display_data"
    },
    {
     "data": {
      "image/png": "[encoded data removed]",
      "text/plain": [
       "<Figure size 432x288 with 1 Axes>"
      ]
     },
     "metadata": {
      "needs_background": "light"
     },
     "output_type": "display_data"
    },
    {
     "data": {
      "image/png": "[encoded data removed]",
      "text/plain": [
       "<Figure size 432x288 with 1 Axes>"
      ]
     },
     "metadata": {
      "needs_background": "light"
     },
     "output_type": "display_data"
    },
    {
     "data": {
      "image/png": "[encoded data removed]",
      "text/plain": [
       "<Figure size 432x288 with 1 Axes>"
      ]
     },
     "metadata": {
      "needs_background": "light"
     },
     "output_type": "display_data"
    },
    {
     "data": {
      "image/png": "[encoded data removed]",
      "text/plain": [
       "<Figure size 432x288 with 1 Axes>"
      ]
     },
     "metadata": {
      "needs_background": "light"
     },
     "output_type": "display_data"
    },
    {
     "data": {
      "image/png": "[encoded data removed]",
      "text/plain": [
       "<Figure size 432x288 with 1 Axes>"
      ]
     },
     "metadata": {
      "needs_background": "light"
     },
     "output_type": "display_data"
    },
    {
     "data": {
      "image/png": "[encoded data removed]",
      "text/plain": [
       "<Figure size 432x288 with 1 Axes>"
      ]
     },
     "metadata": {
      "needs_background": "light"
     },
     "output_type": "display_data"
    },
    {
     "data": {
      "image/png": "[encoded data removed]",
      "text/plain": [
       "<Figure size 432x288 with 1 Axes>"
      ]
     },
     "metadata": {
      "needs_background": "light"
     },
     "output_type": "display_data"
    }
   ],
   "source": [
    "for col in df1.columns:\n",
    "    temp=df1.sort_values(by=col,ascending=False).iloc[0:5]\n",
    "    plt.figure()\n",
    "    sns.barplot(data=temp,y=temp.index,x=temp[col],palette=\"crest\")\n",
    "    plt.xticks([])\n",
    "    plt.xlabel('Word weight ')\n",
    "    plt.title(col);\n",
    "    "
   ]
  },
  {
   "cell_type": "code",
   "execution_count": null,
   "id": "b784b01c",
   "metadata": {},
   "outputs": [],
   "source": []
  },
  {
   "cell_type": "code",
   "execution_count": null,
   "id": "3cba23ca",
   "metadata": {},
   "outputs": [],
   "source": []
  },
  {
   "cell_type": "code",
   "execution_count": null,
   "id": "f9e01166",
   "metadata": {},
   "outputs": [],
   "source": []
  },
  {
   "cell_type": "code",
   "execution_count": null,
   "id": "87259e8e",
   "metadata": {},
   "outputs": [],
   "source": []
  }
 ],
 "metadata": {
  "kernelspec": {
   "display_name": "Python 3",
   "language": "python",
   "name": "python3"
  },
  "language_info": {
   "codemirror_mode": {
    "name": "ipython",
    "version": 3
   },
   "file_extension": ".py",
   "mimetype": "text/x-python",
   "name": "python",
   "nbconvert_exporter": "python",
   "pygments_lexer": "ipython3",
   "version": "3.8.8"
  },
  "toc": {
   "base_numbering": 1,
   "nav_menu": {},
   "number_sections": true,
   "sideBar": true,
   "skip_h1_title": false,
   "title_cell": "Table of Contents",
   "title_sidebar": "Contents",
   "toc_cell": false,
   "toc_position": {},
   "toc_section_display": true,
   "toc_window_display": false
  },
  "varInspector": {
   "cols": {
    "lenName": 16,
    "lenType": 16,
    "lenVar": 40
   },
   "kernels_config": {
    "python": {
     "delete_cmd_postfix": "",
     "delete_cmd_prefix": "del ",
     "library": "var_list.py",
     "varRefreshCmd": "print(var_dic_list())"
    },
    "r": {
     "delete_cmd_postfix": ") ",
     "delete_cmd_prefix": "rm(",
     "library": "var_list.r",
     "varRefreshCmd": "cat(var_dic_list()) "
    }
   },
   "types_to_exclude": [
    "module",
    "function",
    "builtin_function_or_method",
    "instance",
    "_Feature"
   ],
   "window_display": false
  }
 },
 "nbformat": 4,
 "nbformat_minor": 5
}
