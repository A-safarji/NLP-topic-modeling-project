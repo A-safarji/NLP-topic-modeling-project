{
 "cells": [
  {
   "cell_type": "code",
   "execution_count": 1,
   "id": "34e4ee78",
   "metadata": {},
   "outputs": [],
   "source": [
    "import nltk\n",
    "import pandas as pd\n",
    "import numpy as np\n",
    "import re\n",
    "import regex\n",
    "import string\n",
    "from sklearn.feature_extraction.text import CountVectorizer\n",
    "from nltk.stem.porter import PorterStemmer\n",
    "from nltk.stem.lancaster import LancasterStemmer\n",
    "from nltk.tokenize import word_tokenize\n",
    "from nltk.stem import WordNetLemmatizer\n",
    "from sklearn.decomposition import NMF\n",
    "import string\n",
    "import gensim \n",
    "from sklearn.decomposition import TruncatedSVD\n",
    "import matplotlib.pyplot as plt\n",
    "import seaborn as sns\n",
    "from gensim.corpora import Dictionary\n",
    "from gensim.models import Nmf\n",
    "from gensim.models import CoherenceModel"
   ]
  },
  {
   "cell_type": "code",
   "execution_count": 2,
   "id": "f5111464",
   "metadata": {},
   "outputs": [],
   "source": [
    "df=pd.read_csv('reddit.csv')"
   ]
  },
  {
   "cell_type": "markdown",
   "id": "2027e67e",
   "metadata": {},
   "source": [
    "### EDA & Data Cleaning "
   ]
  },
  {
   "cell_type": "code",
   "execution_count": 3,
   "id": "75c47409",
   "metadata": {},
   "outputs": [],
   "source": [
    "df.head()\n",
    "df.drop('Unnamed: 0',axis=1,inplace=True)\n"
   ]
  },
  {
   "cell_type": "code",
   "execution_count": 4,
   "id": "8443648b",
   "metadata": {},
   "outputs": [],
   "source": [
    "#remove empty rows\n",
    "df.dropna(inplace=True)\n",
    "df.reset_index(inplace=True)"
   ]
  },
  {
   "cell_type": "code",
   "execution_count": 5,
   "id": "f978b69a",
   "metadata": {},
   "outputs": [
    {
     "data": {
      "text/html": [
       "<div>\n",
       "<style scoped>\n",
       "    .dataframe tbody tr th:only-of-type {\n",
       "        vertical-align: middle;\n",
       "    }\n",
       "\n",
       "    .dataframe tbody tr th {\n",
       "        vertical-align: top;\n",
       "    }\n",
       "\n",
       "    .dataframe thead th {\n",
       "        text-align: right;\n",
       "    }\n",
       "</style>\n",
       "<table border=\"1\" class=\"dataframe\">\n",
       "  <thead>\n",
       "    <tr style=\"text-align: right;\">\n",
       "      <th></th>\n",
       "      <th>index</th>\n",
       "      <th>title</th>\n",
       "      <th>post</th>\n",
       "    </tr>\n",
       "  </thead>\n",
       "  <tbody>\n",
       "  </tbody>\n",
       "</table>\n",
       "</div>"
      ],
      "text/plain": [
       "Empty DataFrame\n",
       "Columns: [index, title, post]\n",
       "Index: []"
      ]
     },
     "execution_count": 5,
     "metadata": {},
     "output_type": "execute_result"
    }
   ],
   "source": [
    "#check for duplicates \n",
    "df[df.duplicated()]"
   ]
  },
  {
   "cell_type": "code",
   "execution_count": null,
   "id": "a725f3b0",
   "metadata": {},
   "outputs": [],
   "source": []
  },
  {
   "cell_type": "code",
   "execution_count": null,
   "id": "ad0b5f1a",
   "metadata": {},
   "outputs": [],
   "source": []
  },
  {
   "cell_type": "code",
   "execution_count": null,
   "id": "b2740533",
   "metadata": {},
   "outputs": [],
   "source": []
  },
  {
   "cell_type": "code",
   "execution_count": 6,
   "id": "482c6f57",
   "metadata": {},
   "outputs": [],
   "source": [
    "#URL link removal\n",
    "removeUrl = lambda x: re.sub('https?:\\/\\/[\\da-z\\.-]+\\.[a-z\\.]{2,6}[^\\s]+', \"\", x)\n",
    "df['post']=df.post.map(removeUrl)"
   ]
  },
  {
   "cell_type": "code",
   "execution_count": null,
   "id": "dc2b0363",
   "metadata": {},
   "outputs": [],
   "source": []
  },
  {
   "cell_type": "code",
   "execution_count": 7,
   "id": "a80280ac",
   "metadata": {},
   "outputs": [],
   "source": [
    "#text lower and number removal \n",
    "df['post']= df['post'].apply(lambda x: x.lower())\n",
    "remove_num = lambda x: re.sub('\\w*\\d\\w*', ' ', x)\n",
    "df['post']=df.post.map(remove_num)"
   ]
  },
  {
   "cell_type": "code",
   "execution_count": 8,
   "id": "722aa918",
   "metadata": {},
   "outputs": [],
   "source": [
    "# toknize\n",
    "df['post']=df.post.map(word_tokenize)"
   ]
  },
  {
   "cell_type": "code",
   "execution_count": null,
   "id": "4f94d0dc",
   "metadata": {},
   "outputs": [],
   "source": []
  },
  {
   "cell_type": "code",
   "execution_count": null,
   "id": "fbecb239",
   "metadata": {},
   "outputs": [],
   "source": []
  },
  {
   "cell_type": "code",
   "execution_count": null,
   "id": "99457de6",
   "metadata": {},
   "outputs": [],
   "source": []
  },
  {
   "cell_type": "code",
   "execution_count": 9,
   "id": "5d1222c1",
   "metadata": {},
   "outputs": [],
   "source": [
    "#stop word removal + added words \n",
    "stopwords = nltk.corpus.stopwords.words('english')\n",
    "added_words=['would','make','also','get','still','way','like','much','nbsp','think','could','well','feel','game','jvbl','one','second','first','got','good']\n",
    "for word in added_words:\n",
    "    stopwords.append(word)\n",
    "def remove_stopwords(text):\n",
    "    output= [i for i in text if i not in stopwords]\n",
    "    return output\n",
    "df['post']=df.post.map(remove_stopwords)"
   ]
  },
  {
   "cell_type": "code",
   "execution_count": 10,
   "id": "6f5d076d",
   "metadata": {},
   "outputs": [],
   "source": [
    "\n",
    "#lemmatization\n",
    "wordnet_lemmatizer = WordNetLemmatizer()\n",
    "def lemmatizer(text):\n",
    "    lemm_text = [wordnet_lemmatizer.lemmatize(word) for word in text]\n",
    "    return lemm_text\n",
    "df['post']=df['post'].apply(lambda x:lemmatizer(x))"
   ]
  },
  {
   "cell_type": "code",
   "execution_count": 11,
   "id": "57f3efe1",
   "metadata": {},
   "outputs": [],
   "source": [
    "# remvoe punctuation\n",
    "def listToString(s): \n",
    "    \n",
    "    # initialize an empty string\n",
    "    str1 = \" \" \n",
    "    \n",
    "    # return string  \n",
    "    return (str1.join(s))\n",
    "\n",
    "\n",
    "df['post']=df.post.map(listToString)\n",
    "punc_lower = lambda x: re.sub('[%s]' % re.escape(string.punctuation), ' ', x.lower())\n",
    "df['post']=df.post.map(punc_lower)\n",
    "\n",
    "#removePunc=lambda x:x.translate(str.maketrans('','',string.punctuation))\n",
    "#df['post']=df.post.map(removePunc)\n"
   ]
  },
  {
   "cell_type": "code",
   "execution_count": 12,
   "id": "02697d05",
   "metadata": {},
   "outputs": [],
   "source": [
    "cv1 = CountVectorizer()\n",
    "c= cv1.fit_transform(df.post)"
   ]
  },
  {
   "cell_type": "code",
   "execution_count": 13,
   "id": "062472c8",
   "metadata": {},
   "outputs": [
    {
     "data": {
      "text/html": [
       "<div>\n",
       "<style scoped>\n",
       "    .dataframe tbody tr th:only-of-type {\n",
       "        vertical-align: middle;\n",
       "    }\n",
       "\n",
       "    .dataframe tbody tr th {\n",
       "        vertical-align: top;\n",
       "    }\n",
       "\n",
       "    .dataframe thead th {\n",
       "        text-align: right;\n",
       "    }\n",
       "</style>\n",
       "<table border=\"1\" class=\"dataframe\">\n",
       "  <thead>\n",
       "    <tr style=\"text-align: right;\">\n",
       "      <th></th>\n",
       "      <th>aaa</th>\n",
       "      <th>aaron</th>\n",
       "      <th>aau</th>\n",
       "      <th>ab</th>\n",
       "      <th>aba</th>\n",
       "      <th>abandon</th>\n",
       "      <th>abandoned</th>\n",
       "      <th>abandoning</th>\n",
       "      <th>abdel</th>\n",
       "      <th>abducted</th>\n",
       "      <th>...</th>\n",
       "      <th>zydrunas</th>\n",
       "      <th>álvaro</th>\n",
       "      <th>ďays</th>\n",
       "      <th>šarić</th>\n",
       "      <th>štrba</th>\n",
       "      <th>сhina</th>\n",
       "      <th>细拉</th>\n",
       "      <th>阿姆西</th>\n",
       "      <th>震旦与食人魔实机兵种展示</th>\n",
       "      <th>𝘳𝘦𝘢𝘭𝘭𝘺</th>\n",
       "    </tr>\n",
       "  </thead>\n",
       "  <tbody>\n",
       "    <tr>\n",
       "      <th>0</th>\n",
       "      <td>0</td>\n",
       "      <td>0</td>\n",
       "      <td>0</td>\n",
       "      <td>0</td>\n",
       "      <td>0</td>\n",
       "      <td>0</td>\n",
       "      <td>0</td>\n",
       "      <td>0</td>\n",
       "      <td>0</td>\n",
       "      <td>0</td>\n",
       "      <td>...</td>\n",
       "      <td>0</td>\n",
       "      <td>0</td>\n",
       "      <td>0</td>\n",
       "      <td>0</td>\n",
       "      <td>0</td>\n",
       "      <td>0</td>\n",
       "      <td>0</td>\n",
       "      <td>0</td>\n",
       "      <td>0</td>\n",
       "      <td>0</td>\n",
       "    </tr>\n",
       "    <tr>\n",
       "      <th>1</th>\n",
       "      <td>0</td>\n",
       "      <td>0</td>\n",
       "      <td>0</td>\n",
       "      <td>0</td>\n",
       "      <td>0</td>\n",
       "      <td>0</td>\n",
       "      <td>0</td>\n",
       "      <td>0</td>\n",
       "      <td>0</td>\n",
       "      <td>0</td>\n",
       "      <td>...</td>\n",
       "      <td>0</td>\n",
       "      <td>0</td>\n",
       "      <td>0</td>\n",
       "      <td>0</td>\n",
       "      <td>0</td>\n",
       "      <td>0</td>\n",
       "      <td>0</td>\n",
       "      <td>0</td>\n",
       "      <td>0</td>\n",
       "      <td>0</td>\n",
       "    </tr>\n",
       "    <tr>\n",
       "      <th>2</th>\n",
       "      <td>0</td>\n",
       "      <td>0</td>\n",
       "      <td>0</td>\n",
       "      <td>0</td>\n",
       "      <td>0</td>\n",
       "      <td>0</td>\n",
       "      <td>0</td>\n",
       "      <td>0</td>\n",
       "      <td>0</td>\n",
       "      <td>0</td>\n",
       "      <td>...</td>\n",
       "      <td>0</td>\n",
       "      <td>0</td>\n",
       "      <td>0</td>\n",
       "      <td>0</td>\n",
       "      <td>0</td>\n",
       "      <td>0</td>\n",
       "      <td>0</td>\n",
       "      <td>0</td>\n",
       "      <td>0</td>\n",
       "      <td>0</td>\n",
       "    </tr>\n",
       "    <tr>\n",
       "      <th>3</th>\n",
       "      <td>0</td>\n",
       "      <td>0</td>\n",
       "      <td>0</td>\n",
       "      <td>0</td>\n",
       "      <td>0</td>\n",
       "      <td>0</td>\n",
       "      <td>0</td>\n",
       "      <td>0</td>\n",
       "      <td>0</td>\n",
       "      <td>0</td>\n",
       "      <td>...</td>\n",
       "      <td>0</td>\n",
       "      <td>0</td>\n",
       "      <td>0</td>\n",
       "      <td>0</td>\n",
       "      <td>0</td>\n",
       "      <td>0</td>\n",
       "      <td>0</td>\n",
       "      <td>0</td>\n",
       "      <td>0</td>\n",
       "      <td>0</td>\n",
       "    </tr>\n",
       "    <tr>\n",
       "      <th>4</th>\n",
       "      <td>0</td>\n",
       "      <td>0</td>\n",
       "      <td>0</td>\n",
       "      <td>0</td>\n",
       "      <td>0</td>\n",
       "      <td>0</td>\n",
       "      <td>1</td>\n",
       "      <td>0</td>\n",
       "      <td>0</td>\n",
       "      <td>0</td>\n",
       "      <td>...</td>\n",
       "      <td>0</td>\n",
       "      <td>0</td>\n",
       "      <td>0</td>\n",
       "      <td>0</td>\n",
       "      <td>0</td>\n",
       "      <td>0</td>\n",
       "      <td>0</td>\n",
       "      <td>0</td>\n",
       "      <td>0</td>\n",
       "      <td>0</td>\n",
       "    </tr>\n",
       "  </tbody>\n",
       "</table>\n",
       "<p>5 rows × 10962 columns</p>\n",
       "</div>"
      ],
      "text/plain": [
       "   aaa  aaron  aau  ab  aba  abandon  abandoned  abandoning  abdel  abducted  \\\n",
       "0    0      0    0   0    0        0          0           0      0         0   \n",
       "1    0      0    0   0    0        0          0           0      0         0   \n",
       "2    0      0    0   0    0        0          0           0      0         0   \n",
       "3    0      0    0   0    0        0          0           0      0         0   \n",
       "4    0      0    0   0    0        0          1           0      0         0   \n",
       "\n",
       "   ...  zydrunas  álvaro  ďays  šarić  štrba  сhina  细拉  阿姆西  震旦与食人魔实机兵种展示  \\\n",
       "0  ...         0       0     0      0      0      0   0    0             0   \n",
       "1  ...         0       0     0      0      0      0   0    0             0   \n",
       "2  ...         0       0     0      0      0      0   0    0             0   \n",
       "3  ...         0       0     0      0      0      0   0    0             0   \n",
       "4  ...         0       0     0      0      0      0   0    0             0   \n",
       "\n",
       "   𝘳𝘦𝘢𝘭𝘭𝘺  \n",
       "0       0  \n",
       "1       0  \n",
       "2       0  \n",
       "3       0  \n",
       "4       0  \n",
       "\n",
       "[5 rows x 10962 columns]"
      ]
     },
     "execution_count": 13,
     "metadata": {},
     "output_type": "execute_result"
    }
   ],
   "source": [
    "pd.DataFrame(c.toarray(), columns=cv1.get_feature_names()).head()\n",
    "#pd.DataFrame(c.toarray(),index=nba['post'], columns=cv1.get_feature_names()).head()"
   ]
  },
  {
   "cell_type": "code",
   "execution_count": 14,
   "id": "2e20cf42",
   "metadata": {},
   "outputs": [],
   "source": [
    "#cv1.get_feature_names()[0:1000]"
   ]
  },
  {
   "cell_type": "code",
   "execution_count": null,
   "id": "45be0285",
   "metadata": {},
   "outputs": [],
   "source": []
  },
  {
   "cell_type": "code",
   "execution_count": null,
   "id": "d356b490",
   "metadata": {},
   "outputs": [],
   "source": []
  },
  {
   "cell_type": "code",
   "execution_count": null,
   "id": "666cdcd5",
   "metadata": {},
   "outputs": [],
   "source": []
  },
  {
   "cell_type": "markdown",
   "id": "ef50ad8f",
   "metadata": {},
   "source": [
    "### NMF"
   ]
  },
  {
   "cell_type": "code",
   "execution_count": 15,
   "id": "66ba8581",
   "metadata": {},
   "outputs": [
    {
     "name": "stderr",
     "output_type": "stream",
     "text": [
      "C:\\ProgramData\\Anaconda3\\lib\\site-packages\\sklearn\\decomposition\\_nmf.py:312: FutureWarning: The 'init' value, when 'init=None' and n_components is less than n_samples and n_features, will be changed from 'nndsvd' to 'nndsvda' in 1.1 (renaming of 0.26).\n",
      "  warnings.warn((\"The 'init' value, when 'init=None' and \"\n"
     ]
    }
   ],
   "source": [
    "nmf_model = NMF(8)\n",
    "doc_topic = nmf_model.fit_transform(c)"
   ]
  },
  {
   "cell_type": "code",
   "execution_count": 16,
   "id": "b7ae3edf",
   "metadata": {},
   "outputs": [
    {
     "data": {
      "text/html": [
       "<div>\n",
       "<style scoped>\n",
       "    .dataframe tbody tr th:only-of-type {\n",
       "        vertical-align: middle;\n",
       "    }\n",
       "\n",
       "    .dataframe tbody tr th {\n",
       "        vertical-align: top;\n",
       "    }\n",
       "\n",
       "    .dataframe thead th {\n",
       "        text-align: right;\n",
       "    }\n",
       "</style>\n",
       "<table border=\"1\" class=\"dataframe\">\n",
       "  <thead>\n",
       "    <tr style=\"text-align: right;\">\n",
       "      <th></th>\n",
       "      <th>aaa</th>\n",
       "      <th>aaron</th>\n",
       "      <th>aau</th>\n",
       "      <th>ab</th>\n",
       "      <th>aba</th>\n",
       "      <th>abandon</th>\n",
       "      <th>abandoned</th>\n",
       "      <th>abandoning</th>\n",
       "      <th>abdel</th>\n",
       "      <th>abducted</th>\n",
       "      <th>...</th>\n",
       "      <th>zydrunas</th>\n",
       "      <th>álvaro</th>\n",
       "      <th>ďays</th>\n",
       "      <th>šarić</th>\n",
       "      <th>štrba</th>\n",
       "      <th>сhina</th>\n",
       "      <th>细拉</th>\n",
       "      <th>阿姆西</th>\n",
       "      <th>震旦与食人魔实机兵种展示</th>\n",
       "      <th>𝘳𝘦𝘢𝘭𝘭𝘺</th>\n",
       "    </tr>\n",
       "  </thead>\n",
       "  <tbody>\n",
       "    <tr>\n",
       "      <th>component_1</th>\n",
       "      <td>0.000</td>\n",
       "      <td>0.006</td>\n",
       "      <td>0.409</td>\n",
       "      <td>0.000</td>\n",
       "      <td>0.002</td>\n",
       "      <td>0.000</td>\n",
       "      <td>0.000</td>\n",
       "      <td>0.001</td>\n",
       "      <td>0.000</td>\n",
       "      <td>0.000</td>\n",
       "      <td>...</td>\n",
       "      <td>0.009</td>\n",
       "      <td>0.001</td>\n",
       "      <td>0.000</td>\n",
       "      <td>0.007</td>\n",
       "      <td>0.000</td>\n",
       "      <td>0.004</td>\n",
       "      <td>0.001</td>\n",
       "      <td>0.000</td>\n",
       "      <td>0.000</td>\n",
       "      <td>0.002</td>\n",
       "    </tr>\n",
       "    <tr>\n",
       "      <th>component_2</th>\n",
       "      <td>0.001</td>\n",
       "      <td>0.000</td>\n",
       "      <td>0.000</td>\n",
       "      <td>0.000</td>\n",
       "      <td>0.000</td>\n",
       "      <td>0.001</td>\n",
       "      <td>0.000</td>\n",
       "      <td>0.000</td>\n",
       "      <td>0.000</td>\n",
       "      <td>0.000</td>\n",
       "      <td>...</td>\n",
       "      <td>0.000</td>\n",
       "      <td>0.002</td>\n",
       "      <td>0.000</td>\n",
       "      <td>0.000</td>\n",
       "      <td>0.000</td>\n",
       "      <td>0.000</td>\n",
       "      <td>0.003</td>\n",
       "      <td>0.000</td>\n",
       "      <td>0.000</td>\n",
       "      <td>0.000</td>\n",
       "    </tr>\n",
       "    <tr>\n",
       "      <th>component_3</th>\n",
       "      <td>0.004</td>\n",
       "      <td>0.000</td>\n",
       "      <td>0.000</td>\n",
       "      <td>0.000</td>\n",
       "      <td>0.000</td>\n",
       "      <td>0.000</td>\n",
       "      <td>0.000</td>\n",
       "      <td>0.000</td>\n",
       "      <td>0.000</td>\n",
       "      <td>0.000</td>\n",
       "      <td>...</td>\n",
       "      <td>0.000</td>\n",
       "      <td>0.000</td>\n",
       "      <td>0.000</td>\n",
       "      <td>0.000</td>\n",
       "      <td>0.000</td>\n",
       "      <td>0.001</td>\n",
       "      <td>0.000</td>\n",
       "      <td>0.000</td>\n",
       "      <td>0.000</td>\n",
       "      <td>0.000</td>\n",
       "    </tr>\n",
       "    <tr>\n",
       "      <th>component_4</th>\n",
       "      <td>0.090</td>\n",
       "      <td>0.000</td>\n",
       "      <td>0.000</td>\n",
       "      <td>0.000</td>\n",
       "      <td>0.000</td>\n",
       "      <td>0.000</td>\n",
       "      <td>0.000</td>\n",
       "      <td>0.000</td>\n",
       "      <td>0.000</td>\n",
       "      <td>0.000</td>\n",
       "      <td>...</td>\n",
       "      <td>0.000</td>\n",
       "      <td>0.084</td>\n",
       "      <td>0.000</td>\n",
       "      <td>0.000</td>\n",
       "      <td>0.000</td>\n",
       "      <td>0.000</td>\n",
       "      <td>0.001</td>\n",
       "      <td>0.001</td>\n",
       "      <td>0.001</td>\n",
       "      <td>0.000</td>\n",
       "    </tr>\n",
       "    <tr>\n",
       "      <th>component_5</th>\n",
       "      <td>0.000</td>\n",
       "      <td>0.289</td>\n",
       "      <td>0.000</td>\n",
       "      <td>0.000</td>\n",
       "      <td>0.001</td>\n",
       "      <td>0.000</td>\n",
       "      <td>0.000</td>\n",
       "      <td>0.000</td>\n",
       "      <td>0.043</td>\n",
       "      <td>0.000</td>\n",
       "      <td>...</td>\n",
       "      <td>0.001</td>\n",
       "      <td>0.000</td>\n",
       "      <td>0.000</td>\n",
       "      <td>0.000</td>\n",
       "      <td>0.000</td>\n",
       "      <td>0.000</td>\n",
       "      <td>0.000</td>\n",
       "      <td>0.001</td>\n",
       "      <td>0.001</td>\n",
       "      <td>0.000</td>\n",
       "    </tr>\n",
       "    <tr>\n",
       "      <th>component_6</th>\n",
       "      <td>0.002</td>\n",
       "      <td>0.000</td>\n",
       "      <td>0.000</td>\n",
       "      <td>0.000</td>\n",
       "      <td>0.000</td>\n",
       "      <td>0.000</td>\n",
       "      <td>0.000</td>\n",
       "      <td>0.000</td>\n",
       "      <td>0.000</td>\n",
       "      <td>0.000</td>\n",
       "      <td>...</td>\n",
       "      <td>0.000</td>\n",
       "      <td>0.001</td>\n",
       "      <td>0.000</td>\n",
       "      <td>0.000</td>\n",
       "      <td>0.089</td>\n",
       "      <td>0.000</td>\n",
       "      <td>0.001</td>\n",
       "      <td>0.000</td>\n",
       "      <td>0.000</td>\n",
       "      <td>0.000</td>\n",
       "    </tr>\n",
       "    <tr>\n",
       "      <th>component_7</th>\n",
       "      <td>0.000</td>\n",
       "      <td>0.000</td>\n",
       "      <td>0.000</td>\n",
       "      <td>0.000</td>\n",
       "      <td>0.000</td>\n",
       "      <td>0.000</td>\n",
       "      <td>0.000</td>\n",
       "      <td>0.001</td>\n",
       "      <td>0.000</td>\n",
       "      <td>0.000</td>\n",
       "      <td>...</td>\n",
       "      <td>0.000</td>\n",
       "      <td>0.000</td>\n",
       "      <td>0.000</td>\n",
       "      <td>0.000</td>\n",
       "      <td>0.000</td>\n",
       "      <td>0.000</td>\n",
       "      <td>0.000</td>\n",
       "      <td>0.000</td>\n",
       "      <td>0.000</td>\n",
       "      <td>0.000</td>\n",
       "    </tr>\n",
       "    <tr>\n",
       "      <th>component_8</th>\n",
       "      <td>0.072</td>\n",
       "      <td>0.003</td>\n",
       "      <td>0.000</td>\n",
       "      <td>0.001</td>\n",
       "      <td>0.002</td>\n",
       "      <td>0.001</td>\n",
       "      <td>0.001</td>\n",
       "      <td>0.005</td>\n",
       "      <td>0.000</td>\n",
       "      <td>0.048</td>\n",
       "      <td>...</td>\n",
       "      <td>0.009</td>\n",
       "      <td>0.001</td>\n",
       "      <td>0.002</td>\n",
       "      <td>0.004</td>\n",
       "      <td>0.000</td>\n",
       "      <td>0.002</td>\n",
       "      <td>0.004</td>\n",
       "      <td>0.001</td>\n",
       "      <td>0.001</td>\n",
       "      <td>0.003</td>\n",
       "    </tr>\n",
       "  </tbody>\n",
       "</table>\n",
       "<p>8 rows × 10962 columns</p>\n",
       "</div>"
      ],
      "text/plain": [
       "               aaa  aaron    aau     ab    aba  abandon  abandoned  \\\n",
       "component_1  0.000  0.006  0.409  0.000  0.002    0.000      0.000   \n",
       "component_2  0.001  0.000  0.000  0.000  0.000    0.001      0.000   \n",
       "component_3  0.004  0.000  0.000  0.000  0.000    0.000      0.000   \n",
       "component_4  0.090  0.000  0.000  0.000  0.000    0.000      0.000   \n",
       "component_5  0.000  0.289  0.000  0.000  0.001    0.000      0.000   \n",
       "component_6  0.002  0.000  0.000  0.000  0.000    0.000      0.000   \n",
       "component_7  0.000  0.000  0.000  0.000  0.000    0.000      0.000   \n",
       "component_8  0.072  0.003  0.000  0.001  0.002    0.001      0.001   \n",
       "\n",
       "             abandoning  abdel  abducted  ...  zydrunas  álvaro   ďays  šarić  \\\n",
       "component_1       0.001  0.000     0.000  ...     0.009   0.001  0.000  0.007   \n",
       "component_2       0.000  0.000     0.000  ...     0.000   0.002  0.000  0.000   \n",
       "component_3       0.000  0.000     0.000  ...     0.000   0.000  0.000  0.000   \n",
       "component_4       0.000  0.000     0.000  ...     0.000   0.084  0.000  0.000   \n",
       "component_5       0.000  0.043     0.000  ...     0.001   0.000  0.000  0.000   \n",
       "component_6       0.000  0.000     0.000  ...     0.000   0.001  0.000  0.000   \n",
       "component_7       0.001  0.000     0.000  ...     0.000   0.000  0.000  0.000   \n",
       "component_8       0.005  0.000     0.048  ...     0.009   0.001  0.002  0.004   \n",
       "\n",
       "             štrba  сhina     细拉    阿姆西  震旦与食人魔实机兵种展示  𝘳𝘦𝘢𝘭𝘭𝘺  \n",
       "component_1  0.000  0.004  0.001  0.000         0.000   0.002  \n",
       "component_2  0.000  0.000  0.003  0.000         0.000   0.000  \n",
       "component_3  0.000  0.001  0.000  0.000         0.000   0.000  \n",
       "component_4  0.000  0.000  0.001  0.001         0.001   0.000  \n",
       "component_5  0.000  0.000  0.000  0.001         0.001   0.000  \n",
       "component_6  0.089  0.000  0.001  0.000         0.000   0.000  \n",
       "component_7  0.000  0.000  0.000  0.000         0.000   0.000  \n",
       "component_8  0.000  0.002  0.004  0.001         0.001   0.003  \n",
       "\n",
       "[8 rows x 10962 columns]"
      ]
     },
     "execution_count": 16,
     "metadata": {},
     "output_type": "execute_result"
    }
   ],
   "source": [
    "topic_word = pd.DataFrame(nmf_model.components_.round(3),\n",
    "             index = [\"component_1\",\"component_2\",'component_3','component_4','component_5','component_6','component_7','component_8'],\n",
    "             columns = cv1.get_feature_names())\n",
    "topic_word"
   ]
  },
  {
   "cell_type": "code",
   "execution_count": 17,
   "id": "c2918506",
   "metadata": {},
   "outputs": [],
   "source": [
    "def display_topics(model, feature_names, no_top_words, topic_names=None):\n",
    "    for ix, topic in enumerate(model.components_):\n",
    "        if not topic_names or not topic_names[ix]:\n",
    "            print(\"\\nTopic \", ix)\n",
    "        else:\n",
    "            print(\"\\nTopic: '\",topic_names[ix],\"'\")\n",
    "        print(\", \".join([feature_names[i]\n",
    "                        for i in topic.argsort()[:-no_top_words - 1:-1]]))"
   ]
  },
  {
   "cell_type": "code",
   "execution_count": 18,
   "id": "beeb9dd0",
   "metadata": {
    "scrolled": true
   },
   "outputs": [
    {
     "name": "stdout",
     "output_type": "stream",
     "text": [
      "\n",
      "Topic  0\n",
      "team, player, nba, league, year, school, new, basketball, contract, organization, system, season, play, ncaa, may, per, host, feeder, best, current, age, deal, coach, draft, time, number, idea, university, money, even\n",
      "\n",
      "Topic  1\n",
      "horizon, forza, xsx, series, racing, best, world, game, open, pc, critic, xbox, new, mexico, star, experience, fun, entry, time, racer, motorsport, made, formula, content, title, everything, fan, offer, around, car\n",
      "\n",
      "Topic  2\n",
      "world, banjo, character, duo, tooie, transformation, original, kazooie, mumbo, pad, fight, lot, humba, flight, take, section, better, ability, element, fps, bos, new, switch, moment, fun, different, peak, hailfire, version, playing\n",
      "\n",
      "Topic  3\n",
      "megami, tensei, shin, nintendo, switch, combat, jrpg, series, fan, star, world, entry, atlus, time, trailer, new, lot, gameplay, story, best, rpg, game, great, worth, franchise, excellent, review, experience, even, play\n",
      "\n",
      "Topic  4\n",
      "team, pf, pt, nba, ast, stl, blk, pm, com, min, stats, fg, ft, pg, sf, sg, reb, fgm, orb, drb, ftm, score, box, location, play, center, jr, official, clock, treb\n",
      "\n",
      "Topic  5\n",
      "party, mario, superstar, board, best, nintendo, minigames, new, series, fun, star, nostalgia, game, time, franchise, look, offer, perfect, selection, year, content, classic, feel, switch, super, great, review, back, fan, friend\n",
      "\n",
      "Topic  6\n",
      "dive, brigitte, hero, comp, second, character, ally, ability, change, counter, range, problem, damage, armor, inspire, pack, repair, team, health, enemy, enough, overwatch, shield, effective, shot, time, meter, need, idea, player\n",
      "\n",
      "Topic  7\n",
      "game, time, play, year, player, rule, see, information, release, submission, minute, go, may, resident, evil, know, outcome, even, thread, overwatch, claim, link, story, demo, review, question, want, back, new, point\n"
     ]
    }
   ],
   "source": [
    "display_topics(nmf_model, cv1.get_feature_names(), 30)"
   ]
  },
  {
   "cell_type": "code",
   "execution_count": 19,
   "id": "e67d4ba9",
   "metadata": {},
   "outputs": [],
   "source": [
    "#df.to_csv('check1.csv')"
   ]
  },
  {
   "cell_type": "code",
   "execution_count": null,
   "id": "89e8e1c4",
   "metadata": {},
   "outputs": [],
   "source": []
  },
  {
   "cell_type": "raw",
   "id": "57f8d1c2",
   "metadata": {},
   "source": []
  },
  {
   "cell_type": "markdown",
   "id": "c799c8a2",
   "metadata": {},
   "source": [
    "### LSA "
   ]
  },
  {
   "cell_type": "code",
   "execution_count": 20,
   "id": "5074b9d6",
   "metadata": {},
   "outputs": [
    {
     "data": {
      "image/png": "[encoded data removed]",
      "text/plain": [
       "<Figure size 432x288 with 1 Axes>"
      ]
     },
     "metadata": {
      "needs_background": "light"
     },
     "output_type": "display_data"
    }
   ],
   "source": [
    "##finding best number of topics\n",
    "numberOfTopics=[]\n",
    "explained_v=[]\n",
    "for n_topics in range(1,20):\n",
    "    lsa = TruncatedSVD(n_topics)\n",
    "    doc_topic = lsa.fit_transform(c)\n",
    "    lsa.explained_variance_ratio_\n",
    "    numberOfTopics.append(len(lsa.explained_variance_ratio_))\n",
    "    explained_v.append(sum(lsa.explained_variance_ratio_))\n",
    "plt.plot(numberOfTopics,explained_v)\n",
    "plt.xlabel('number of topics')\n",
    "plt.ylabel('explained variance ratio')\n",
    "plt.xticks(range(1,20,5));"
   ]
  },
  {
   "cell_type": "code",
   "execution_count": 21,
   "id": "fea07948",
   "metadata": {},
   "outputs": [],
   "source": [
    " lsa = TruncatedSVD(7)\n",
    "doc_topic = lsa.fit_transform(c)\n"
   ]
  },
  {
   "cell_type": "code",
   "execution_count": 22,
   "id": "43e47eb4",
   "metadata": {},
   "outputs": [
    {
     "name": "stdout",
     "output_type": "stream",
     "text": [
      "\n",
      "Topic  0\n",
      "team, player, nba, new, world, year, time, league, play, best\n",
      "\n",
      "Topic  1\n",
      "world, horizon, tensei, megami, shin, series, banjo, character, forza, party\n",
      "\n",
      "Topic  2\n",
      "banjo, world, character, duo, tooie, transformation, mumbo, kazooie, original, pad\n",
      "\n",
      "Topic  3\n",
      "tensei, megami, shin, switch, nintendo, jrpg, combat, pf, pt, atlus\n",
      "\n",
      "Topic  4\n",
      "player, league, year, school, basketball, season, contract, organization, system, tensei\n",
      "\n",
      "Topic  5\n",
      "party, mario, superstar, board, minigames, nintendo, nostalgia, selection, pf, look\n",
      "\n",
      "Topic  6\n",
      "dive, brigitte, hero, second, comp, overwatch, change, time, ally, range\n"
     ]
    }
   ],
   "source": [
    "display_topics(lsa, cv1.get_feature_names(), 10)"
   ]
  },
  {
   "cell_type": "code",
   "execution_count": 23,
   "id": "e5f0d1ac",
   "metadata": {},
   "outputs": [],
   "source": [
    "df['token']=df.post.map(word_tokenize)"
   ]
  },
  {
   "cell_type": "code",
   "execution_count": 24,
   "id": "763a1b10",
   "metadata": {},
   "outputs": [],
   "source": [
    "texts = df['token']\n",
    "dictionary = Dictionary(texts)\n",
    "dictionary.filter_extremes( no_below=3 ,no_above=0.85 ,keep_n=5000 )\n",
    "corpus = [dictionary.doc2bow(text) for text in texts]\n",
    "topic_nums = list(np.arange(5,51,5))"
   ]
  },
  {
   "cell_type": "code",
   "execution_count": 25,
   "id": "e6953497",
   "metadata": {},
   "outputs": [
    {
     "data": {
      "text/plain": [
       "Text(0, 0.5, 'coherence score')"
      ]
     },
     "execution_count": 25,
     "metadata": {},
     "output_type": "execute_result"
    },
    {
     "data": {
      "image/png": "[encoded data removed]",
      "text/plain": [
       "<Figure size 432x288 with 1 Axes>"
      ]
     },
     "metadata": {
      "needs_background": "light"
     },
     "output_type": "display_data"
    }
   ],
   "source": [
    "coherence_scores = []\n",
    "for num in topic_nums:\n",
    "    nmf = Nmf(\n",
    "        corpus=corpus,\n",
    "        num_topics=num,\n",
    "        id2word=dictionary,\n",
    "        chunksize=2000,\n",
    "        passes=5,\n",
    "        kappa=.1,\n",
    "        minimum_probability=0.01,\n",
    "        w_max_iter=300,\n",
    "        w_stop_condition=0.0001,\n",
    "        h_max_iter=100,\n",
    "        h_stop_condition=0.001,\n",
    "        eval_every=10,\n",
    "        normalize=True,\n",
    "        random_state=42\n",
    "    )\n",
    "    \n",
    "    # Run the coherence model to get the score\n",
    "    cm = CoherenceModel(\n",
    "        model=nmf,\n",
    "        texts=texts,\n",
    "        dictionary=dictionary,\n",
    "        coherence='c_v'\n",
    "    )\n",
    "    \n",
    "    coherence_scores.append(round(cm.get_coherence(), 5))\n",
    "\n",
    "# plot number of topics Vs coherence_scores\n",
    "plt.plot(topic_nums,coherence_scores)\n",
    "plt.xticks(topic_nums);\n",
    "plt.xlabel('number of topics')\n",
    "plt.ylabel('coherence score')"
   ]
  },
  {
   "cell_type": "code",
   "execution_count": 26,
   "id": "8d594519",
   "metadata": {},
   "outputs": [
    {
     "data": {
      "text/plain": [
       "[0.5016,\n",
       " 0.58756,\n",
       " 0.56273,\n",
       " 0.52532,\n",
       " 0.53848,\n",
       " 0.50022,\n",
       " 0.5004,\n",
       " 0.51173,\n",
       " 0.48991,\n",
       " 0.48549]"
      ]
     },
     "execution_count": 26,
     "metadata": {},
     "output_type": "execute_result"
    }
   ],
   "source": [
    "\n",
    "coherence_scores"
   ]
  },
  {
   "cell_type": "code",
   "execution_count": 27,
   "id": "c00b698c",
   "metadata": {},
   "outputs": [
    {
     "data": {
      "text/plain": [
       "[5, 10, 15, 20, 25, 30, 35, 40, 45, 50]"
      ]
     },
     "execution_count": 27,
     "metadata": {},
     "output_type": "execute_result"
    }
   ],
   "source": [
    "topic_nums"
   ]
  },
  {
   "cell_type": "code",
   "execution_count": 28,
   "id": "133f9eab",
   "metadata": {},
   "outputs": [
    {
     "data": {
      "image/png": "[encoded data removed]",
      "text/plain": [
       "<Figure size 432x288 with 1 Axes>"
      ]
     },
     "metadata": {
      "needs_background": "light"
     },
     "output_type": "display_data"
    }
   ],
   "source": [
    "sns.set_style(\"darkgrid\")\n",
    "plt.plot(topic_nums,coherence_scores,color='green')\n",
    "plt.xticks(topic_nums);\n",
    "plt.xlabel('Number of topics',fontsize=15)\n",
    "plt.ylabel('Coherence score',fontsize=15)\n",
    "plt.title('number of topics vs coherence score');"
   ]
  },
  {
   "cell_type": "code",
   "execution_count": 29,
   "id": "f2d691b8",
   "metadata": {},
   "outputs": [],
   "source": [
    "#topic_word.to_csv('word_weight.csv')"
   ]
  },
  {
   "cell_type": "code",
   "execution_count": 30,
   "id": "50234f2c",
   "metadata": {},
   "outputs": [
    {
     "data": {
      "text/html": [
       "<div>\n",
       "<style scoped>\n",
       "    .dataframe tbody tr th:only-of-type {\n",
       "        vertical-align: middle;\n",
       "    }\n",
       "\n",
       "    .dataframe tbody tr th {\n",
       "        vertical-align: top;\n",
       "    }\n",
       "\n",
       "    .dataframe thead th {\n",
       "        text-align: right;\n",
       "    }\n",
       "</style>\n",
       "<table border=\"1\" class=\"dataframe\">\n",
       "  <thead>\n",
       "    <tr style=\"text-align: right;\">\n",
       "      <th></th>\n",
       "      <th>topic1</th>\n",
       "      <th>topic2</th>\n",
       "      <th>topic3</th>\n",
       "      <th>topic4</th>\n",
       "      <th>topic5</th>\n",
       "      <th>topic6</th>\n",
       "      <th>topic7</th>\n",
       "      <th>topic8</th>\n",
       "    </tr>\n",
       "  </thead>\n",
       "  <tbody>\n",
       "    <tr>\n",
       "      <th>aaron</th>\n",
       "      <td>0.006</td>\n",
       "      <td>0.000</td>\n",
       "      <td>0.000</td>\n",
       "      <td>0.000</td>\n",
       "      <td>0.289</td>\n",
       "      <td>0.000</td>\n",
       "      <td>0.0</td>\n",
       "      <td>0.003</td>\n",
       "    </tr>\n",
       "    <tr>\n",
       "      <th>aau</th>\n",
       "      <td>0.409</td>\n",
       "      <td>0.000</td>\n",
       "      <td>0.000</td>\n",
       "      <td>0.000</td>\n",
       "      <td>0.000</td>\n",
       "      <td>0.000</td>\n",
       "      <td>0.0</td>\n",
       "      <td>0.000</td>\n",
       "    </tr>\n",
       "    <tr>\n",
       "      <th>ab</th>\n",
       "      <td>0.000</td>\n",
       "      <td>0.000</td>\n",
       "      <td>0.000</td>\n",
       "      <td>0.000</td>\n",
       "      <td>0.000</td>\n",
       "      <td>0.000</td>\n",
       "      <td>0.0</td>\n",
       "      <td>0.001</td>\n",
       "    </tr>\n",
       "    <tr>\n",
       "      <th>aba</th>\n",
       "      <td>0.002</td>\n",
       "      <td>0.000</td>\n",
       "      <td>0.000</td>\n",
       "      <td>0.000</td>\n",
       "      <td>0.001</td>\n",
       "      <td>0.000</td>\n",
       "      <td>0.0</td>\n",
       "      <td>0.002</td>\n",
       "    </tr>\n",
       "    <tr>\n",
       "      <th>abandon</th>\n",
       "      <td>0.000</td>\n",
       "      <td>0.001</td>\n",
       "      <td>0.000</td>\n",
       "      <td>0.000</td>\n",
       "      <td>0.000</td>\n",
       "      <td>0.000</td>\n",
       "      <td>0.0</td>\n",
       "      <td>0.001</td>\n",
       "    </tr>\n",
       "    <tr>\n",
       "      <th>...</th>\n",
       "      <td>...</td>\n",
       "      <td>...</td>\n",
       "      <td>...</td>\n",
       "      <td>...</td>\n",
       "      <td>...</td>\n",
       "      <td>...</td>\n",
       "      <td>...</td>\n",
       "      <td>...</td>\n",
       "    </tr>\n",
       "    <tr>\n",
       "      <th>сhina</th>\n",
       "      <td>0.004</td>\n",
       "      <td>0.000</td>\n",
       "      <td>0.001</td>\n",
       "      <td>0.000</td>\n",
       "      <td>0.000</td>\n",
       "      <td>0.000</td>\n",
       "      <td>0.0</td>\n",
       "      <td>0.002</td>\n",
       "    </tr>\n",
       "    <tr>\n",
       "      <th>细拉</th>\n",
       "      <td>0.001</td>\n",
       "      <td>0.003</td>\n",
       "      <td>0.000</td>\n",
       "      <td>0.001</td>\n",
       "      <td>0.000</td>\n",
       "      <td>0.001</td>\n",
       "      <td>0.0</td>\n",
       "      <td>0.004</td>\n",
       "    </tr>\n",
       "    <tr>\n",
       "      <th>阿姆西</th>\n",
       "      <td>0.000</td>\n",
       "      <td>0.000</td>\n",
       "      <td>0.000</td>\n",
       "      <td>0.001</td>\n",
       "      <td>0.001</td>\n",
       "      <td>0.000</td>\n",
       "      <td>0.0</td>\n",
       "      <td>0.001</td>\n",
       "    </tr>\n",
       "    <tr>\n",
       "      <th>震旦与食人魔实机兵种展示</th>\n",
       "      <td>0.000</td>\n",
       "      <td>0.000</td>\n",
       "      <td>0.000</td>\n",
       "      <td>0.001</td>\n",
       "      <td>0.001</td>\n",
       "      <td>0.000</td>\n",
       "      <td>0.0</td>\n",
       "      <td>0.001</td>\n",
       "    </tr>\n",
       "    <tr>\n",
       "      <th>𝘳𝘦𝘢𝘭𝘭𝘺</th>\n",
       "      <td>0.002</td>\n",
       "      <td>0.000</td>\n",
       "      <td>0.000</td>\n",
       "      <td>0.000</td>\n",
       "      <td>0.000</td>\n",
       "      <td>0.000</td>\n",
       "      <td>0.0</td>\n",
       "      <td>0.003</td>\n",
       "    </tr>\n",
       "  </tbody>\n",
       "</table>\n",
       "<p>10961 rows × 8 columns</p>\n",
       "</div>"
      ],
      "text/plain": [
       "              topic1  topic2  topic3  topic4  topic5  topic6  topic7  topic8\n",
       "aaron          0.006   0.000   0.000   0.000   0.289   0.000     0.0   0.003\n",
       "aau            0.409   0.000   0.000   0.000   0.000   0.000     0.0   0.000\n",
       "ab             0.000   0.000   0.000   0.000   0.000   0.000     0.0   0.001\n",
       "aba            0.002   0.000   0.000   0.000   0.001   0.000     0.0   0.002\n",
       "abandon        0.000   0.001   0.000   0.000   0.000   0.000     0.0   0.001\n",
       "...              ...     ...     ...     ...     ...     ...     ...     ...\n",
       "сhina          0.004   0.000   0.001   0.000   0.000   0.000     0.0   0.002\n",
       "细拉             0.001   0.003   0.000   0.001   0.000   0.001     0.0   0.004\n",
       "阿姆西            0.000   0.000   0.000   0.001   0.001   0.000     0.0   0.001\n",
       "震旦与食人魔实机兵种展示   0.000   0.000   0.000   0.001   0.001   0.000     0.0   0.001\n",
       "𝘳𝘦𝘢𝘭𝘭𝘺         0.002   0.000   0.000   0.000   0.000   0.000     0.0   0.003\n",
       "\n",
       "[10961 rows x 8 columns]"
      ]
     },
     "execution_count": 30,
     "metadata": {},
     "output_type": "execute_result"
    }
   ],
   "source": [
    "##ploting word weight for each topic\n",
    "df1=topic_word.T\n",
    "names=[]\n",
    "for i in range(1,9):\n",
    "    name='topic'+str(i)\n",
    "    names.append(name)\n",
    "    \n",
    "df1.columns=names\n",
    "df1=df1.iloc[1:]\n",
    "df1"
   ]
  },
  {
   "cell_type": "code",
   "execution_count": 31,
   "id": "a0eb0a5f",
   "metadata": {},
   "outputs": [
    {
     "data": {
      "image/png": "[encoded data removed]",
      "text/plain": [
       "<Figure size 432x288 with 1 Axes>"
      ]
     },
     "metadata": {
      "needs_background": "light"
     },
     "output_type": "display_data"
    },
    {
     "data": {
      "image/png": "[encoded data removed]",
      "text/plain": [
       "<Figure size 432x288 with 1 Axes>"
      ]
     },
     "metadata": {
      "needs_background": "light"
     },
     "output_type": "display_data"
    },
    {
     "data": {
      "image/png": "[encoded data removed]",
      "text/plain": [
       "<Figure size 432x288 with 1 Axes>"
      ]
     },
     "metadata": {
      "needs_background": "light"
     },
     "output_type": "display_data"
    },
    {
     "data": {
      "image/png": "[encoded data removed]",
      "text/plain": [
       "<Figure size 432x288 with 1 Axes>"
      ]
     },
     "metadata": {
      "needs_background": "light"
     },
     "output_type": "display_data"
    },
    {
     "data": {
      "image/png": "[encoded data removed]",
      "text/plain": [
       "<Figure size 432x288 with 1 Axes>"
      ]
     },
     "metadata": {
      "needs_background": "light"
     },
     "output_type": "display_data"
    },
    {
     "data": {
      "image/png": "[encoded data removed]",
      "text/plain": [
       "<Figure size 432x288 with 1 Axes>"
      ]
     },
     "metadata": {
      "needs_background": "light"
     },
     "output_type": "display_data"
    },
    {
     "data": {
      "image/png": "[encoded data removed]",
      "text/plain": [
       "<Figure size 432x288 with 1 Axes>"
      ]
     },
     "metadata": {
      "needs_background": "light"
     },
     "output_type": "display_data"
    },
    {
     "data": {
      "image/png": "[encoded data removed]",
      "text/plain": [
       "<Figure size 432x288 with 1 Axes>"
      ]
     },
     "metadata": {
      "needs_background": "light"
     },
     "output_type": "display_data"
    }
   ],
   "source": [
    "for col in df1.columns:\n",
    "    temp=df1.sort_values(by=col,ascending=False).iloc[0:10]\n",
    "    plt.figure()\n",
    "    sns.barplot(data=temp,y=temp.index,x=temp[col],palette=\"crest\")\n",
    "    plt.xticks([])\n",
    "    plt.xlabel('Word weight ')\n",
    "    plt.title(col);\n",
    "    "
   ]
  },
  {
   "cell_type": "code",
   "execution_count": null,
   "id": "b784b01c",
   "metadata": {},
   "outputs": [],
   "source": []
  },
  {
   "cell_type": "code",
   "execution_count": null,
   "id": "3cba23ca",
   "metadata": {},
   "outputs": [],
   "source": []
  },
  {
   "cell_type": "code",
   "execution_count": null,
   "id": "f9e01166",
   "metadata": {},
   "outputs": [],
   "source": []
  },
  {
   "cell_type": "code",
   "execution_count": null,
   "id": "adf72bdb",
   "metadata": {},
   "outputs": [],
   "source": []
  }
 ],
 "metadata": {
  "kernelspec": {
   "display_name": "Python 3",
   "language": "python",
   "name": "python3"
  },
  "language_info": {
   "codemirror_mode": {
    "name": "ipython",
    "version": 3
   },
   "file_extension": ".py",
   "mimetype": "text/x-python",
   "name": "python",
   "nbconvert_exporter": "python",
   "pygments_lexer": "ipython3",
   "version": "3.8.8"
  }
 },
 "nbformat": 4,
 "nbformat_minor": 5
}
